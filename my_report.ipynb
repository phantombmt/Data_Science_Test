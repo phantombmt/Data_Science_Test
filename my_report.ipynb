{
 "cells": [
  {
   "cell_type": "markdown",
   "id": "1b53a543",
   "metadata": {},
   "source": [
    "## 1. Import packages and load data "
   ]
  },
  {
   "cell_type": "code",
   "execution_count": 83,
   "id": "5bea749f",
   "metadata": {},
   "outputs": [],
   "source": [
    "import pandas as pd\n",
    "import os \n",
    "#os => operating system\n",
    "import matplotlib.pyplot as plt"
   ]
  },
  {
   "cell_type": "code",
   "execution_count": 6,
   "id": "c94a2746",
   "metadata": {},
   "outputs": [
    {
     "data": {
      "text/html": [
       "<div>\n",
       "<style scoped>\n",
       "    .dataframe tbody tr th:only-of-type {\n",
       "        vertical-align: middle;\n",
       "    }\n",
       "\n",
       "    .dataframe tbody tr th {\n",
       "        vertical-align: top;\n",
       "    }\n",
       "\n",
       "    .dataframe thead th {\n",
       "        text-align: right;\n",
       "    }\n",
       "</style>\n",
       "<table border=\"1\" class=\"dataframe\">\n",
       "  <thead>\n",
       "    <tr style=\"text-align: right;\">\n",
       "      <th></th>\n",
       "      <th>Order ID</th>\n",
       "      <th>Product</th>\n",
       "      <th>Quantity Ordered</th>\n",
       "      <th>Price Each</th>\n",
       "      <th>Order Date</th>\n",
       "      <th>Purchase Address</th>\n",
       "    </tr>\n",
       "  </thead>\n",
       "  <tbody>\n",
       "    <tr>\n",
       "      <th>0</th>\n",
       "      <td>141234</td>\n",
       "      <td>iPhone</td>\n",
       "      <td>1</td>\n",
       "      <td>700</td>\n",
       "      <td>01/22/19 21:25</td>\n",
       "      <td>944 Walnut St, Boston, MA 02215</td>\n",
       "    </tr>\n",
       "    <tr>\n",
       "      <th>1</th>\n",
       "      <td>141235</td>\n",
       "      <td>Lightning Charging Cable</td>\n",
       "      <td>1</td>\n",
       "      <td>14.95</td>\n",
       "      <td>01/28/19 14:15</td>\n",
       "      <td>185 Maple St, Portland, OR 97035</td>\n",
       "    </tr>\n",
       "    <tr>\n",
       "      <th>2</th>\n",
       "      <td>141236</td>\n",
       "      <td>Wired Headphones</td>\n",
       "      <td>2</td>\n",
       "      <td>11.99</td>\n",
       "      <td>01/17/19 13:33</td>\n",
       "      <td>538 Adams St, San Francisco, CA 94016</td>\n",
       "    </tr>\n",
       "    <tr>\n",
       "      <th>3</th>\n",
       "      <td>141237</td>\n",
       "      <td>27in FHD Monitor</td>\n",
       "      <td>1</td>\n",
       "      <td>149.99</td>\n",
       "      <td>01/05/19 20:33</td>\n",
       "      <td>738 10th St, Los Angeles, CA 90001</td>\n",
       "    </tr>\n",
       "    <tr>\n",
       "      <th>4</th>\n",
       "      <td>141238</td>\n",
       "      <td>Wired Headphones</td>\n",
       "      <td>1</td>\n",
       "      <td>11.99</td>\n",
       "      <td>01/25/19 11:59</td>\n",
       "      <td>387 10th St, Austin, TX 73301</td>\n",
       "    </tr>\n",
       "  </tbody>\n",
       "</table>\n",
       "</div>"
      ],
      "text/plain": [
       "  Order ID                   Product Quantity Ordered Price Each  \\\n",
       "0   141234                    iPhone                1        700   \n",
       "1   141235  Lightning Charging Cable                1      14.95   \n",
       "2   141236          Wired Headphones                2      11.99   \n",
       "3   141237          27in FHD Monitor                1     149.99   \n",
       "4   141238          Wired Headphones                1      11.99   \n",
       "\n",
       "       Order Date                       Purchase Address  \n",
       "0  01/22/19 21:25        944 Walnut St, Boston, MA 02215  \n",
       "1  01/28/19 14:15       185 Maple St, Portland, OR 97035  \n",
       "2  01/17/19 13:33  538 Adams St, San Francisco, CA 94016  \n",
       "3  01/05/19 20:33     738 10th St, Los Angeles, CA 90001  \n",
       "4  01/25/19 11:59          387 10th St, Austin, TX 73301  "
      ]
     },
     "execution_count": 6,
     "metadata": {},
     "output_type": "execute_result"
    }
   ],
   "source": [
    "path = '/Users/antonytran/Documents/code/test_1_data_science/Sales-Reporting-main/data/'\n",
    "dataframe = pd.read_csv(path + 'sales2019_1.csv')\n",
    "dataframe.head()"
   ]
  },
  {
   "cell_type": "markdown",
   "id": "b13ffc6f",
   "metadata": {},
   "source": [
    "# 2.Clean and preprocess data"
   ]
  },
  {
   "cell_type": "markdown",
   "id": "83d632ff",
   "metadata": {},
   "source": [
    "## 2.1 Get all the direction of 12 month data"
   ]
  },
  {
   "cell_type": "code",
   "execution_count": 7,
   "id": "b9a35cca",
   "metadata": {},
   "outputs": [
    {
     "data": {
      "text/plain": [
       "['.DS_Store',\n",
       " 'sales2019_3.csv',\n",
       " 'sales2019_2.csv',\n",
       " 'sales2019_1.csv',\n",
       " 'sales2019_5.csv',\n",
       " 'sales2019_4.csv',\n",
       " 'sales2019_12.csv',\n",
       " 'sales2019_10.csv',\n",
       " 'sales2019_6.csv',\n",
       " 'sales2019_7.csv',\n",
       " 'sales2019_11.csv',\n",
       " 'sales2019_9.csv',\n",
       " 'sales2019_8.csv']"
      ]
     },
     "execution_count": 7,
     "metadata": {},
     "output_type": "execute_result"
    }
   ],
   "source": [
    "os.listdir(path)"
   ]
  },
  {
   "cell_type": "code",
   "execution_count": 22,
   "id": "bcacf5cd",
   "metadata": {},
   "outputs": [
    {
     "data": {
      "text/html": [
       "<div>\n",
       "<style scoped>\n",
       "    .dataframe tbody tr th:only-of-type {\n",
       "        vertical-align: middle;\n",
       "    }\n",
       "\n",
       "    .dataframe tbody tr th {\n",
       "        vertical-align: top;\n",
       "    }\n",
       "\n",
       "    .dataframe thead th {\n",
       "        text-align: right;\n",
       "    }\n",
       "</style>\n",
       "<table border=\"1\" class=\"dataframe\">\n",
       "  <thead>\n",
       "    <tr style=\"text-align: right;\">\n",
       "      <th></th>\n",
       "      <th>Order ID</th>\n",
       "      <th>Product</th>\n",
       "      <th>Quantity Ordered</th>\n",
       "      <th>Price Each</th>\n",
       "      <th>Order Date</th>\n",
       "      <th>Purchase Address</th>\n",
       "    </tr>\n",
       "  </thead>\n",
       "  <tbody>\n",
       "    <tr>\n",
       "      <th>0</th>\n",
       "      <td>162009</td>\n",
       "      <td>iPhone</td>\n",
       "      <td>1</td>\n",
       "      <td>700</td>\n",
       "      <td>03/28/19 20:59</td>\n",
       "      <td>942 Church St, Austin, TX 73301</td>\n",
       "    </tr>\n",
       "    <tr>\n",
       "      <th>1</th>\n",
       "      <td>162009</td>\n",
       "      <td>Lightning Charging Cable</td>\n",
       "      <td>1</td>\n",
       "      <td>14.95</td>\n",
       "      <td>03/28/19 20:59</td>\n",
       "      <td>942 Church St, Austin, TX 73301</td>\n",
       "    </tr>\n",
       "    <tr>\n",
       "      <th>2</th>\n",
       "      <td>162009</td>\n",
       "      <td>Wired Headphones</td>\n",
       "      <td>2</td>\n",
       "      <td>11.99</td>\n",
       "      <td>03/28/19 20:59</td>\n",
       "      <td>942 Church St, Austin, TX 73301</td>\n",
       "    </tr>\n",
       "    <tr>\n",
       "      <th>3</th>\n",
       "      <td>162010</td>\n",
       "      <td>Bose SoundSport Headphones</td>\n",
       "      <td>1</td>\n",
       "      <td>99.99</td>\n",
       "      <td>03/17/19 05:39</td>\n",
       "      <td>261 10th St, San Francisco, CA 94016</td>\n",
       "    </tr>\n",
       "    <tr>\n",
       "      <th>4</th>\n",
       "      <td>162011</td>\n",
       "      <td>34in Ultrawide Monitor</td>\n",
       "      <td>1</td>\n",
       "      <td>379.99</td>\n",
       "      <td>03/10/19 00:01</td>\n",
       "      <td>764 13th St, San Francisco, CA 94016</td>\n",
       "    </tr>\n",
       "    <tr>\n",
       "      <th>...</th>\n",
       "      <td>...</td>\n",
       "      <td>...</td>\n",
       "      <td>...</td>\n",
       "      <td>...</td>\n",
       "      <td>...</td>\n",
       "      <td>...</td>\n",
       "    </tr>\n",
       "    <tr>\n",
       "      <th>12006</th>\n",
       "      <td>248146</td>\n",
       "      <td>Bose SoundSport Headphones</td>\n",
       "      <td>1</td>\n",
       "      <td>99.99</td>\n",
       "      <td>08/29/19 22:19</td>\n",
       "      <td>868 Hickory St, San Francisco, CA 94016</td>\n",
       "    </tr>\n",
       "    <tr>\n",
       "      <th>12007</th>\n",
       "      <td>248147</td>\n",
       "      <td>AAA Batteries (4-pack)</td>\n",
       "      <td>3</td>\n",
       "      <td>2.99</td>\n",
       "      <td>08/31/19 16:26</td>\n",
       "      <td>206 Lakeview St, Boston, MA 02215</td>\n",
       "    </tr>\n",
       "    <tr>\n",
       "      <th>12008</th>\n",
       "      <td>248148</td>\n",
       "      <td>AA Batteries (4-pack)</td>\n",
       "      <td>1</td>\n",
       "      <td>3.84</td>\n",
       "      <td>08/02/19 07:25</td>\n",
       "      <td>568 13th St, Seattle, WA 98101</td>\n",
       "    </tr>\n",
       "    <tr>\n",
       "      <th>12009</th>\n",
       "      <td>248149</td>\n",
       "      <td>USB-C Charging Cable</td>\n",
       "      <td>1</td>\n",
       "      <td>11.95</td>\n",
       "      <td>08/08/19 12:10</td>\n",
       "      <td>495 Walnut St, San Francisco, CA 94016</td>\n",
       "    </tr>\n",
       "    <tr>\n",
       "      <th>12010</th>\n",
       "      <td>248150</td>\n",
       "      <td>AA Batteries (4-pack)</td>\n",
       "      <td>1</td>\n",
       "      <td>3.84</td>\n",
       "      <td>08/16/19 08:13</td>\n",
       "      <td>738 Park St, Los Angeles, CA 90001</td>\n",
       "    </tr>\n",
       "  </tbody>\n",
       "</table>\n",
       "<p>186850 rows × 6 columns</p>\n",
       "</div>"
      ],
      "text/plain": [
       "      Order ID                     Product Quantity Ordered Price Each  \\\n",
       "0       162009                      iPhone                1        700   \n",
       "1       162009    Lightning Charging Cable                1      14.95   \n",
       "2       162009            Wired Headphones                2      11.99   \n",
       "3       162010  Bose SoundSport Headphones                1      99.99   \n",
       "4       162011      34in Ultrawide Monitor                1     379.99   \n",
       "...        ...                         ...              ...        ...   \n",
       "12006   248146  Bose SoundSport Headphones                1      99.99   \n",
       "12007   248147      AAA Batteries (4-pack)                3       2.99   \n",
       "12008   248148       AA Batteries (4-pack)                1       3.84   \n",
       "12009   248149        USB-C Charging Cable                1      11.95   \n",
       "12010   248150       AA Batteries (4-pack)                1       3.84   \n",
       "\n",
       "           Order Date                         Purchase Address  \n",
       "0      03/28/19 20:59          942 Church St, Austin, TX 73301  \n",
       "1      03/28/19 20:59          942 Church St, Austin, TX 73301  \n",
       "2      03/28/19 20:59          942 Church St, Austin, TX 73301  \n",
       "3      03/17/19 05:39     261 10th St, San Francisco, CA 94016  \n",
       "4      03/10/19 00:01     764 13th St, San Francisco, CA 94016  \n",
       "...               ...                                      ...  \n",
       "12006  08/29/19 22:19  868 Hickory St, San Francisco, CA 94016  \n",
       "12007  08/31/19 16:26        206 Lakeview St, Boston, MA 02215  \n",
       "12008  08/02/19 07:25           568 13th St, Seattle, WA 98101  \n",
       "12009  08/08/19 12:10   495 Walnut St, San Francisco, CA 94016  \n",
       "12010  08/16/19 08:13       738 Park St, Los Angeles, CA 90001  \n",
       "\n",
       "[186850 rows x 6 columns]"
      ]
     },
     "execution_count": 22,
     "metadata": {},
     "output_type": "execute_result"
    }
   ],
   "source": [
    "#We don't need .DS_Store ==> get only the file has endswith = .csv\n",
    "#Merge data : pd.concat(dataframe)\n",
    "frames = []\n",
    "all_len = 0\n",
    "for i in os.listdir(path):\n",
    "    if i.endswith('.csv'):\n",
    "        file_path = path + i\n",
    "        df= pd.read_csv(file_path)\n",
    "        frames.append(df)\n",
    "        result = pd.concat(frames)\n",
    "        #Check if merge succeed or not: sum all the length of all 12 file \n",
    "        len_1f = len(df.index)\n",
    "        all_len= all_len + len_1f\n",
    "df_12month = result\n",
    "df_12month.to_csv('sale_all_12_month.csv',index = False)\n",
    "df_12month"
   ]
  },
  {
   "cell_type": "code",
   "execution_count": 15,
   "id": "7883a02c",
   "metadata": {},
   "outputs": [
    {
     "name": "stdout",
     "output_type": "stream",
     "text": [
      "186850\n"
     ]
    }
   ],
   "source": [
    "#The same length 186850 ==> merge succeed\n",
    "print(all_len)"
   ]
  },
  {
   "cell_type": "markdown",
   "id": "501a7f3a",
   "metadata": {},
   "source": [
    "## 2.2 Add 'Month' column"
   ]
  },
  {
   "cell_type": "code",
   "execution_count": 34,
   "id": "c04a70a8",
   "metadata": {},
   "outputs": [
    {
     "data": {
      "text/html": [
       "<div>\n",
       "<style scoped>\n",
       "    .dataframe tbody tr th:only-of-type {\n",
       "        vertical-align: middle;\n",
       "    }\n",
       "\n",
       "    .dataframe tbody tr th {\n",
       "        vertical-align: top;\n",
       "    }\n",
       "\n",
       "    .dataframe thead th {\n",
       "        text-align: right;\n",
       "    }\n",
       "</style>\n",
       "<table border=\"1\" class=\"dataframe\">\n",
       "  <thead>\n",
       "    <tr style=\"text-align: right;\">\n",
       "      <th></th>\n",
       "      <th>Order ID</th>\n",
       "      <th>Product</th>\n",
       "      <th>Quantity Ordered</th>\n",
       "      <th>Price Each</th>\n",
       "      <th>Order Date</th>\n",
       "      <th>Purchase Address</th>\n",
       "      <th>Month</th>\n",
       "    </tr>\n",
       "  </thead>\n",
       "  <tbody>\n",
       "    <tr>\n",
       "      <th>0</th>\n",
       "      <td>162009</td>\n",
       "      <td>iPhone</td>\n",
       "      <td>1</td>\n",
       "      <td>700</td>\n",
       "      <td>03/28/19 20:59</td>\n",
       "      <td>942 Church St, Austin, TX 73301</td>\n",
       "      <td></td>\n",
       "    </tr>\n",
       "    <tr>\n",
       "      <th>1</th>\n",
       "      <td>162009</td>\n",
       "      <td>Lightning Charging Cable</td>\n",
       "      <td>1</td>\n",
       "      <td>14.95</td>\n",
       "      <td>03/28/19 20:59</td>\n",
       "      <td>942 Church St, Austin, TX 73301</td>\n",
       "      <td></td>\n",
       "    </tr>\n",
       "    <tr>\n",
       "      <th>2</th>\n",
       "      <td>162009</td>\n",
       "      <td>Wired Headphones</td>\n",
       "      <td>2</td>\n",
       "      <td>11.99</td>\n",
       "      <td>03/28/19 20:59</td>\n",
       "      <td>942 Church St, Austin, TX 73301</td>\n",
       "      <td></td>\n",
       "    </tr>\n",
       "    <tr>\n",
       "      <th>3</th>\n",
       "      <td>162010</td>\n",
       "      <td>Bose SoundSport Headphones</td>\n",
       "      <td>1</td>\n",
       "      <td>99.99</td>\n",
       "      <td>03/17/19 05:39</td>\n",
       "      <td>261 10th St, San Francisco, CA 94016</td>\n",
       "      <td></td>\n",
       "    </tr>\n",
       "    <tr>\n",
       "      <th>4</th>\n",
       "      <td>162011</td>\n",
       "      <td>34in Ultrawide Monitor</td>\n",
       "      <td>1</td>\n",
       "      <td>379.99</td>\n",
       "      <td>03/10/19 00:01</td>\n",
       "      <td>764 13th St, San Francisco, CA 94016</td>\n",
       "      <td></td>\n",
       "    </tr>\n",
       "  </tbody>\n",
       "</table>\n",
       "</div>"
      ],
      "text/plain": [
       "  Order ID                     Product Quantity Ordered Price Each  \\\n",
       "0   162009                      iPhone                1        700   \n",
       "1   162009    Lightning Charging Cable                1      14.95   \n",
       "2   162009            Wired Headphones                2      11.99   \n",
       "3   162010  Bose SoundSport Headphones                1      99.99   \n",
       "4   162011      34in Ultrawide Monitor                1     379.99   \n",
       "\n",
       "       Order Date                      Purchase Address Month  \n",
       "0  03/28/19 20:59       942 Church St, Austin, TX 73301        \n",
       "1  03/28/19 20:59       942 Church St, Austin, TX 73301        \n",
       "2  03/28/19 20:59       942 Church St, Austin, TX 73301        \n",
       "3  03/17/19 05:39  261 10th St, San Francisco, CA 94016        \n",
       "4  03/10/19 00:01  764 13th St, San Francisco, CA 94016        "
      ]
     },
     "execution_count": 34,
     "metadata": {},
     "output_type": "execute_result"
    }
   ],
   "source": [
    "#del df_12month['info']\n",
    "df_12month['Month']=''\n",
    "df_12month.head()"
   ]
  },
  {
   "cell_type": "markdown",
   "id": "7825cb35",
   "metadata": {},
   "source": [
    "### Slice substring 'month in Order Date column' to get only 'month' "
   ]
  },
  {
   "cell_type": "code",
   "execution_count": 28,
   "id": "ab2b0d0a",
   "metadata": {},
   "outputs": [
    {
     "data": {
      "text/plain": [
       "0        03/28/19 20:59\n",
       "1        03/28/19 20:59\n",
       "2        03/28/19 20:59\n",
       "3        03/17/19 05:39\n",
       "4        03/10/19 00:01\n",
       "              ...      \n",
       "12006    08/29/19 22:19\n",
       "12007    08/31/19 16:26\n",
       "12008    08/02/19 07:25\n",
       "12009    08/08/19 12:10\n",
       "12010    08/16/19 08:13\n",
       "Name: Order Date, Length: 186850, dtype: object"
      ]
     },
     "execution_count": 28,
     "metadata": {},
     "output_type": "execute_result"
    }
   ],
   "source": [
    "df_12month['Order Date']"
   ]
  },
  {
   "cell_type": "code",
   "execution_count": 31,
   "id": "759d9179",
   "metadata": {},
   "outputs": [
    {
     "data": {
      "text/plain": [
       "0        03\n",
       "1        03\n",
       "2        03\n",
       "3        03\n",
       "4        03\n",
       "         ..\n",
       "12006    08\n",
       "12007    08\n",
       "12008    08\n",
       "12009    08\n",
       "12010    08\n",
       "Name: Order Date, Length: 186850, dtype: object"
      ]
     },
     "execution_count": 31,
     "metadata": {},
     "output_type": "execute_result"
    }
   ],
   "source": [
    "df_12month['Order Date'].str.slice(start=0,stop=2,step=1)\n",
    "#or df_12month['Order Date'].str[0:2] ok too"
   ]
  },
  {
   "cell_type": "code",
   "execution_count": 37,
   "id": "1199139b",
   "metadata": {},
   "outputs": [
    {
     "data": {
      "text/html": [
       "<div>\n",
       "<style scoped>\n",
       "    .dataframe tbody tr th:only-of-type {\n",
       "        vertical-align: middle;\n",
       "    }\n",
       "\n",
       "    .dataframe tbody tr th {\n",
       "        vertical-align: top;\n",
       "    }\n",
       "\n",
       "    .dataframe thead th {\n",
       "        text-align: right;\n",
       "    }\n",
       "</style>\n",
       "<table border=\"1\" class=\"dataframe\">\n",
       "  <thead>\n",
       "    <tr style=\"text-align: right;\">\n",
       "      <th></th>\n",
       "      <th>Order ID</th>\n",
       "      <th>Product</th>\n",
       "      <th>Quantity Ordered</th>\n",
       "      <th>Price Each</th>\n",
       "      <th>Order Date</th>\n",
       "      <th>Purchase Address</th>\n",
       "      <th>Month</th>\n",
       "    </tr>\n",
       "  </thead>\n",
       "  <tbody>\n",
       "    <tr>\n",
       "      <th>0</th>\n",
       "      <td>162009</td>\n",
       "      <td>iPhone</td>\n",
       "      <td>1</td>\n",
       "      <td>700</td>\n",
       "      <td>03/28/19 20:59</td>\n",
       "      <td>942 Church St, Austin, TX 73301</td>\n",
       "      <td>03</td>\n",
       "    </tr>\n",
       "    <tr>\n",
       "      <th>1</th>\n",
       "      <td>162009</td>\n",
       "      <td>Lightning Charging Cable</td>\n",
       "      <td>1</td>\n",
       "      <td>14.95</td>\n",
       "      <td>03/28/19 20:59</td>\n",
       "      <td>942 Church St, Austin, TX 73301</td>\n",
       "      <td>03</td>\n",
       "    </tr>\n",
       "    <tr>\n",
       "      <th>2</th>\n",
       "      <td>162009</td>\n",
       "      <td>Wired Headphones</td>\n",
       "      <td>2</td>\n",
       "      <td>11.99</td>\n",
       "      <td>03/28/19 20:59</td>\n",
       "      <td>942 Church St, Austin, TX 73301</td>\n",
       "      <td>03</td>\n",
       "    </tr>\n",
       "    <tr>\n",
       "      <th>3</th>\n",
       "      <td>162010</td>\n",
       "      <td>Bose SoundSport Headphones</td>\n",
       "      <td>1</td>\n",
       "      <td>99.99</td>\n",
       "      <td>03/17/19 05:39</td>\n",
       "      <td>261 10th St, San Francisco, CA 94016</td>\n",
       "      <td>03</td>\n",
       "    </tr>\n",
       "    <tr>\n",
       "      <th>4</th>\n",
       "      <td>162011</td>\n",
       "      <td>34in Ultrawide Monitor</td>\n",
       "      <td>1</td>\n",
       "      <td>379.99</td>\n",
       "      <td>03/10/19 00:01</td>\n",
       "      <td>764 13th St, San Francisco, CA 94016</td>\n",
       "      <td>03</td>\n",
       "    </tr>\n",
       "  </tbody>\n",
       "</table>\n",
       "</div>"
      ],
      "text/plain": [
       "  Order ID                     Product Quantity Ordered Price Each  \\\n",
       "0   162009                      iPhone                1        700   \n",
       "1   162009    Lightning Charging Cable                1      14.95   \n",
       "2   162009            Wired Headphones                2      11.99   \n",
       "3   162010  Bose SoundSport Headphones                1      99.99   \n",
       "4   162011      34in Ultrawide Monitor                1     379.99   \n",
       "\n",
       "       Order Date                      Purchase Address Month  \n",
       "0  03/28/19 20:59       942 Church St, Austin, TX 73301    03  \n",
       "1  03/28/19 20:59       942 Church St, Austin, TX 73301    03  \n",
       "2  03/28/19 20:59       942 Church St, Austin, TX 73301    03  \n",
       "3  03/17/19 05:39  261 10th St, San Francisco, CA 94016    03  \n",
       "4  03/10/19 00:01  764 13th St, San Francisco, CA 94016    03  "
      ]
     },
     "execution_count": 37,
     "metadata": {},
     "output_type": "execute_result"
    }
   ],
   "source": [
    "df_12month['Month']= df_12month['Order Date'].str.slice(start=0,stop=2,step=1)\n",
    "df_12month.head()"
   ]
  },
  {
   "cell_type": "code",
   "execution_count": 40,
   "id": "0d805952",
   "metadata": {},
   "outputs": [
    {
     "name": "stdout",
     "output_type": "stream",
     "text": [
      "{nan, '07', '09', '05', '12', '10', '11', '02', '08', '01', '03', '04', 'Or', '06'}\n"
     ]
    }
   ],
   "source": [
    "### check and see 'nan' 'Or'\n",
    "print(set(df_12month['Month']))"
   ]
  },
  {
   "cell_type": "markdown",
   "id": "ce788d2f",
   "metadata": {},
   "source": [
    "## Get rid of 'nan' & 'Or' value"
   ]
  },
  {
   "cell_type": "code",
   "execution_count": 50,
   "id": "abddbcf3",
   "metadata": {},
   "outputs": [
    {
     "data": {
      "text/html": [
       "<div>\n",
       "<style scoped>\n",
       "    .dataframe tbody tr th:only-of-type {\n",
       "        vertical-align: middle;\n",
       "    }\n",
       "\n",
       "    .dataframe tbody tr th {\n",
       "        vertical-align: top;\n",
       "    }\n",
       "\n",
       "    .dataframe thead th {\n",
       "        text-align: right;\n",
       "    }\n",
       "</style>\n",
       "<table border=\"1\" class=\"dataframe\">\n",
       "  <thead>\n",
       "    <tr style=\"text-align: right;\">\n",
       "      <th></th>\n",
       "      <th>Order ID</th>\n",
       "      <th>Product</th>\n",
       "      <th>Quantity Ordered</th>\n",
       "      <th>Price Each</th>\n",
       "      <th>Order Date</th>\n",
       "      <th>Purchase Address</th>\n",
       "      <th>Month</th>\n",
       "    </tr>\n",
       "  </thead>\n",
       "  <tbody>\n",
       "    <tr>\n",
       "      <th>0</th>\n",
       "      <td>162009</td>\n",
       "      <td>iPhone</td>\n",
       "      <td>1</td>\n",
       "      <td>700</td>\n",
       "      <td>03/28/19 20:59</td>\n",
       "      <td>942 Church St, Austin, TX 73301</td>\n",
       "      <td>03</td>\n",
       "    </tr>\n",
       "    <tr>\n",
       "      <th>1</th>\n",
       "      <td>162009</td>\n",
       "      <td>Lightning Charging Cable</td>\n",
       "      <td>1</td>\n",
       "      <td>14.95</td>\n",
       "      <td>03/28/19 20:59</td>\n",
       "      <td>942 Church St, Austin, TX 73301</td>\n",
       "      <td>03</td>\n",
       "    </tr>\n",
       "    <tr>\n",
       "      <th>2</th>\n",
       "      <td>162009</td>\n",
       "      <td>Wired Headphones</td>\n",
       "      <td>2</td>\n",
       "      <td>11.99</td>\n",
       "      <td>03/28/19 20:59</td>\n",
       "      <td>942 Church St, Austin, TX 73301</td>\n",
       "      <td>03</td>\n",
       "    </tr>\n",
       "    <tr>\n",
       "      <th>3</th>\n",
       "      <td>162010</td>\n",
       "      <td>Bose SoundSport Headphones</td>\n",
       "      <td>1</td>\n",
       "      <td>99.99</td>\n",
       "      <td>03/17/19 05:39</td>\n",
       "      <td>261 10th St, San Francisco, CA 94016</td>\n",
       "      <td>03</td>\n",
       "    </tr>\n",
       "    <tr>\n",
       "      <th>4</th>\n",
       "      <td>162011</td>\n",
       "      <td>34in Ultrawide Monitor</td>\n",
       "      <td>1</td>\n",
       "      <td>379.99</td>\n",
       "      <td>03/10/19 00:01</td>\n",
       "      <td>764 13th St, San Francisco, CA 94016</td>\n",
       "      <td>03</td>\n",
       "    </tr>\n",
       "  </tbody>\n",
       "</table>\n",
       "</div>"
      ],
      "text/plain": [
       "  Order ID                     Product Quantity Ordered Price Each  \\\n",
       "0   162009                      iPhone                1        700   \n",
       "1   162009    Lightning Charging Cable                1      14.95   \n",
       "2   162009            Wired Headphones                2      11.99   \n",
       "3   162010  Bose SoundSport Headphones                1      99.99   \n",
       "4   162011      34in Ultrawide Monitor                1     379.99   \n",
       "\n",
       "       Order Date                      Purchase Address Month  \n",
       "0  03/28/19 20:59       942 Church St, Austin, TX 73301    03  \n",
       "1  03/28/19 20:59       942 Church St, Austin, TX 73301    03  \n",
       "2  03/28/19 20:59       942 Church St, Austin, TX 73301    03  \n",
       "3  03/17/19 05:39  261 10th St, San Francisco, CA 94016    03  \n",
       "4  03/10/19 00:01  764 13th St, San Francisco, CA 94016    03  "
      ]
     },
     "execution_count": 50,
     "metadata": {},
     "output_type": "execute_result"
    }
   ],
   "source": [
    "#find nan index : df_12month[df_12month['Month']=='nan']\n",
    "#delete all the row that don't have 'nan' value (mean 'Order Date' have no value) \n",
    "df_12month = df_12month.dropna(how='all')\n",
    "df_12month.head()"
   ]
  },
  {
   "cell_type": "code",
   "execution_count": 51,
   "id": "6df27ef2",
   "metadata": {},
   "outputs": [
    {
     "name": "stdout",
     "output_type": "stream",
     "text": [
      "{'07', '09', '05', '12', '10', '11', '02', '08', '01', '03', '04', 'Or', '06'}\n"
     ]
    }
   ],
   "source": [
    "print(set(df_12month['Month']))"
   ]
  },
  {
   "cell_type": "code",
   "execution_count": 52,
   "id": "9cb7ec97",
   "metadata": {},
   "outputs": [
    {
     "data": {
      "text/html": [
       "<div>\n",
       "<style scoped>\n",
       "    .dataframe tbody tr th:only-of-type {\n",
       "        vertical-align: middle;\n",
       "    }\n",
       "\n",
       "    .dataframe tbody tr th {\n",
       "        vertical-align: top;\n",
       "    }\n",
       "\n",
       "    .dataframe thead th {\n",
       "        text-align: right;\n",
       "    }\n",
       "</style>\n",
       "<table border=\"1\" class=\"dataframe\">\n",
       "  <thead>\n",
       "    <tr style=\"text-align: right;\">\n",
       "      <th></th>\n",
       "      <th>Order ID</th>\n",
       "      <th>Product</th>\n",
       "      <th>Quantity Ordered</th>\n",
       "      <th>Price Each</th>\n",
       "      <th>Order Date</th>\n",
       "      <th>Purchase Address</th>\n",
       "      <th>Month</th>\n",
       "    </tr>\n",
       "  </thead>\n",
       "  <tbody>\n",
       "    <tr>\n",
       "      <th>433</th>\n",
       "      <td>Order ID</td>\n",
       "      <td>Product</td>\n",
       "      <td>Quantity Ordered</td>\n",
       "      <td>Price Each</td>\n",
       "      <td>Order Date</td>\n",
       "      <td>Purchase Address</td>\n",
       "      <td>Or</td>\n",
       "    </tr>\n",
       "    <tr>\n",
       "      <th>864</th>\n",
       "      <td>Order ID</td>\n",
       "      <td>Product</td>\n",
       "      <td>Quantity Ordered</td>\n",
       "      <td>Price Each</td>\n",
       "      <td>Order Date</td>\n",
       "      <td>Purchase Address</td>\n",
       "      <td>Or</td>\n",
       "    </tr>\n",
       "    <tr>\n",
       "      <th>930</th>\n",
       "      <td>Order ID</td>\n",
       "      <td>Product</td>\n",
       "      <td>Quantity Ordered</td>\n",
       "      <td>Price Each</td>\n",
       "      <td>Order Date</td>\n",
       "      <td>Purchase Address</td>\n",
       "      <td>Or</td>\n",
       "    </tr>\n",
       "    <tr>\n",
       "      <th>1979</th>\n",
       "      <td>Order ID</td>\n",
       "      <td>Product</td>\n",
       "      <td>Quantity Ordered</td>\n",
       "      <td>Price Each</td>\n",
       "      <td>Order Date</td>\n",
       "      <td>Purchase Address</td>\n",
       "      <td>Or</td>\n",
       "    </tr>\n",
       "    <tr>\n",
       "      <th>2032</th>\n",
       "      <td>Order ID</td>\n",
       "      <td>Product</td>\n",
       "      <td>Quantity Ordered</td>\n",
       "      <td>Price Each</td>\n",
       "      <td>Order Date</td>\n",
       "      <td>Purchase Address</td>\n",
       "      <td>Or</td>\n",
       "    </tr>\n",
       "    <tr>\n",
       "      <th>...</th>\n",
       "      <td>...</td>\n",
       "      <td>...</td>\n",
       "      <td>...</td>\n",
       "      <td>...</td>\n",
       "      <td>...</td>\n",
       "      <td>...</td>\n",
       "      <td>...</td>\n",
       "    </tr>\n",
       "    <tr>\n",
       "      <th>9605</th>\n",
       "      <td>Order ID</td>\n",
       "      <td>Product</td>\n",
       "      <td>Quantity Ordered</td>\n",
       "      <td>Price Each</td>\n",
       "      <td>Order Date</td>\n",
       "      <td>Purchase Address</td>\n",
       "      <td>Or</td>\n",
       "    </tr>\n",
       "    <tr>\n",
       "      <th>10217</th>\n",
       "      <td>Order ID</td>\n",
       "      <td>Product</td>\n",
       "      <td>Quantity Ordered</td>\n",
       "      <td>Price Each</td>\n",
       "      <td>Order Date</td>\n",
       "      <td>Purchase Address</td>\n",
       "      <td>Or</td>\n",
       "    </tr>\n",
       "    <tr>\n",
       "      <th>10338</th>\n",
       "      <td>Order ID</td>\n",
       "      <td>Product</td>\n",
       "      <td>Quantity Ordered</td>\n",
       "      <td>Price Each</td>\n",
       "      <td>Order Date</td>\n",
       "      <td>Purchase Address</td>\n",
       "      <td>Or</td>\n",
       "    </tr>\n",
       "    <tr>\n",
       "      <th>10705</th>\n",
       "      <td>Order ID</td>\n",
       "      <td>Product</td>\n",
       "      <td>Quantity Ordered</td>\n",
       "      <td>Price Each</td>\n",
       "      <td>Order Date</td>\n",
       "      <td>Purchase Address</td>\n",
       "      <td>Or</td>\n",
       "    </tr>\n",
       "    <tr>\n",
       "      <th>11004</th>\n",
       "      <td>Order ID</td>\n",
       "      <td>Product</td>\n",
       "      <td>Quantity Ordered</td>\n",
       "      <td>Price Each</td>\n",
       "      <td>Order Date</td>\n",
       "      <td>Purchase Address</td>\n",
       "      <td>Or</td>\n",
       "    </tr>\n",
       "  </tbody>\n",
       "</table>\n",
       "<p>355 rows × 7 columns</p>\n",
       "</div>"
      ],
      "text/plain": [
       "       Order ID  Product  Quantity Ordered  Price Each  Order Date  \\\n",
       "433    Order ID  Product  Quantity Ordered  Price Each  Order Date   \n",
       "864    Order ID  Product  Quantity Ordered  Price Each  Order Date   \n",
       "930    Order ID  Product  Quantity Ordered  Price Each  Order Date   \n",
       "1979   Order ID  Product  Quantity Ordered  Price Each  Order Date   \n",
       "2032   Order ID  Product  Quantity Ordered  Price Each  Order Date   \n",
       "...         ...      ...               ...         ...         ...   \n",
       "9605   Order ID  Product  Quantity Ordered  Price Each  Order Date   \n",
       "10217  Order ID  Product  Quantity Ordered  Price Each  Order Date   \n",
       "10338  Order ID  Product  Quantity Ordered  Price Each  Order Date   \n",
       "10705  Order ID  Product  Quantity Ordered  Price Each  Order Date   \n",
       "11004  Order ID  Product  Quantity Ordered  Price Each  Order Date   \n",
       "\n",
       "       Purchase Address Month  \n",
       "433    Purchase Address    Or  \n",
       "864    Purchase Address    Or  \n",
       "930    Purchase Address    Or  \n",
       "1979   Purchase Address    Or  \n",
       "2032   Purchase Address    Or  \n",
       "...                 ...   ...  \n",
       "9605   Purchase Address    Or  \n",
       "10217  Purchase Address    Or  \n",
       "10338  Purchase Address    Or  \n",
       "10705  Purchase Address    Or  \n",
       "11004  Purchase Address    Or  \n",
       "\n",
       "[355 rows x 7 columns]"
      ]
     },
     "execution_count": 52,
     "metadata": {},
     "output_type": "execute_result"
    }
   ],
   "source": [
    "#find nan index : df_12month[df_12month['Month']=='Or']\n",
    "df_12month[df_12month['Month']=='Or']"
   ]
  },
  {
   "cell_type": "code",
   "execution_count": 53,
   "id": "aa55124f",
   "metadata": {},
   "outputs": [],
   "source": [
    "#keep columns that do not contain Or = delete columns contain Or\n",
    "df_12month = df_12month[df_12month['Month']!='Or']"
   ]
  },
  {
   "cell_type": "code",
   "execution_count": 55,
   "id": "a19fe920",
   "metadata": {},
   "outputs": [
    {
     "name": "stdout",
     "output_type": "stream",
     "text": [
      "{'07', '09', '05', '12', '10', '08', '02', '01', '03', '04', '11', '06'}\n"
     ]
    }
   ],
   "source": [
    "print(set(df_12month['Month']))"
   ]
  },
  {
   "cell_type": "markdown",
   "id": "f3c86535",
   "metadata": {},
   "source": [
    "# What was the best month for sales? and how much was earned that month?"
   ]
  },
  {
   "cell_type": "code",
   "execution_count": 56,
   "id": "e25042c0",
   "metadata": {},
   "outputs": [
    {
     "data": {
      "text/html": [
       "<div>\n",
       "<style scoped>\n",
       "    .dataframe tbody tr th:only-of-type {\n",
       "        vertical-align: middle;\n",
       "    }\n",
       "\n",
       "    .dataframe tbody tr th {\n",
       "        vertical-align: top;\n",
       "    }\n",
       "\n",
       "    .dataframe thead th {\n",
       "        text-align: right;\n",
       "    }\n",
       "</style>\n",
       "<table border=\"1\" class=\"dataframe\">\n",
       "  <thead>\n",
       "    <tr style=\"text-align: right;\">\n",
       "      <th></th>\n",
       "      <th>Order ID</th>\n",
       "      <th>Product</th>\n",
       "      <th>Quantity Ordered</th>\n",
       "      <th>Price Each</th>\n",
       "      <th>Order Date</th>\n",
       "      <th>Purchase Address</th>\n",
       "      <th>Month</th>\n",
       "    </tr>\n",
       "  </thead>\n",
       "  <tbody>\n",
       "    <tr>\n",
       "      <th>0</th>\n",
       "      <td>162009</td>\n",
       "      <td>iPhone</td>\n",
       "      <td>1</td>\n",
       "      <td>700</td>\n",
       "      <td>03/28/19 20:59</td>\n",
       "      <td>942 Church St, Austin, TX 73301</td>\n",
       "      <td>03</td>\n",
       "    </tr>\n",
       "    <tr>\n",
       "      <th>1</th>\n",
       "      <td>162009</td>\n",
       "      <td>Lightning Charging Cable</td>\n",
       "      <td>1</td>\n",
       "      <td>14.95</td>\n",
       "      <td>03/28/19 20:59</td>\n",
       "      <td>942 Church St, Austin, TX 73301</td>\n",
       "      <td>03</td>\n",
       "    </tr>\n",
       "    <tr>\n",
       "      <th>2</th>\n",
       "      <td>162009</td>\n",
       "      <td>Wired Headphones</td>\n",
       "      <td>2</td>\n",
       "      <td>11.99</td>\n",
       "      <td>03/28/19 20:59</td>\n",
       "      <td>942 Church St, Austin, TX 73301</td>\n",
       "      <td>03</td>\n",
       "    </tr>\n",
       "    <tr>\n",
       "      <th>3</th>\n",
       "      <td>162010</td>\n",
       "      <td>Bose SoundSport Headphones</td>\n",
       "      <td>1</td>\n",
       "      <td>99.99</td>\n",
       "      <td>03/17/19 05:39</td>\n",
       "      <td>261 10th St, San Francisco, CA 94016</td>\n",
       "      <td>03</td>\n",
       "    </tr>\n",
       "    <tr>\n",
       "      <th>4</th>\n",
       "      <td>162011</td>\n",
       "      <td>34in Ultrawide Monitor</td>\n",
       "      <td>1</td>\n",
       "      <td>379.99</td>\n",
       "      <td>03/10/19 00:01</td>\n",
       "      <td>764 13th St, San Francisco, CA 94016</td>\n",
       "      <td>03</td>\n",
       "    </tr>\n",
       "  </tbody>\n",
       "</table>\n",
       "</div>"
      ],
      "text/plain": [
       "  Order ID                     Product Quantity Ordered Price Each  \\\n",
       "0   162009                      iPhone                1        700   \n",
       "1   162009    Lightning Charging Cable                1      14.95   \n",
       "2   162009            Wired Headphones                2      11.99   \n",
       "3   162010  Bose SoundSport Headphones                1      99.99   \n",
       "4   162011      34in Ultrawide Monitor                1     379.99   \n",
       "\n",
       "       Order Date                      Purchase Address Month  \n",
       "0  03/28/19 20:59       942 Church St, Austin, TX 73301    03  \n",
       "1  03/28/19 20:59       942 Church St, Austin, TX 73301    03  \n",
       "2  03/28/19 20:59       942 Church St, Austin, TX 73301    03  \n",
       "3  03/17/19 05:39  261 10th St, San Francisco, CA 94016    03  \n",
       "4  03/10/19 00:01  764 13th St, San Francisco, CA 94016    03  "
      ]
     },
     "execution_count": 56,
     "metadata": {},
     "output_type": "execute_result"
    }
   ],
   "source": [
    "df_12month.head()"
   ]
  },
  {
   "cell_type": "code",
   "execution_count": 68,
   "id": "d9c4f440",
   "metadata": {},
   "outputs": [
    {
     "name": "stdout",
     "output_type": "stream",
     "text": [
      "int8\n",
      "float32\n"
     ]
    }
   ],
   "source": [
    "#in the first these are object\n",
    "print(df_12month['Quantity Ordered'].dtype)\n",
    "print(df_12month['Price Each'].dtype)"
   ]
  },
  {
   "cell_type": "markdown",
   "id": "acf79461",
   "metadata": {},
   "source": [
    "### Convert Object to numeric"
   ]
  },
  {
   "cell_type": "code",
   "execution_count": 67,
   "id": "6a9c588a",
   "metadata": {},
   "outputs": [
    {
     "name": "stderr",
     "output_type": "stream",
     "text": [
      "<ipython-input-67-1e3a9ecd73f6>:1: SettingWithCopyWarning: \n",
      "A value is trying to be set on a copy of a slice from a DataFrame.\n",
      "Try using .loc[row_indexer,col_indexer] = value instead\n",
      "\n",
      "See the caveats in the documentation: https://pandas.pydata.org/pandas-docs/stable/user_guide/indexing.html#returning-a-view-versus-a-copy\n",
      "  df_12month['Price Each'] = pd.to_numeric(df_12month['Price Each'],downcast='float')\n"
     ]
    }
   ],
   "source": [
    "df_12month['Price Each'] = pd.to_numeric(df_12month['Price Each'],downcast='float')"
   ]
  },
  {
   "cell_type": "code",
   "execution_count": 71,
   "id": "008e7ccb",
   "metadata": {},
   "outputs": [
    {
     "name": "stderr",
     "output_type": "stream",
     "text": [
      "<ipython-input-71-1ebe8ac660f7>:1: SettingWithCopyWarning: \n",
      "A value is trying to be set on a copy of a slice from a DataFrame.\n",
      "Try using .loc[row_indexer,col_indexer] = value instead\n",
      "\n",
      "See the caveats in the documentation: https://pandas.pydata.org/pandas-docs/stable/user_guide/indexing.html#returning-a-view-versus-a-copy\n",
      "  df_12month['Sales']= df_12month['Quantity Ordered']* df_12month['Price Each']\n"
     ]
    },
    {
     "data": {
      "text/html": [
       "<div>\n",
       "<style scoped>\n",
       "    .dataframe tbody tr th:only-of-type {\n",
       "        vertical-align: middle;\n",
       "    }\n",
       "\n",
       "    .dataframe tbody tr th {\n",
       "        vertical-align: top;\n",
       "    }\n",
       "\n",
       "    .dataframe thead th {\n",
       "        text-align: right;\n",
       "    }\n",
       "</style>\n",
       "<table border=\"1\" class=\"dataframe\">\n",
       "  <thead>\n",
       "    <tr style=\"text-align: right;\">\n",
       "      <th></th>\n",
       "      <th>Order ID</th>\n",
       "      <th>Product</th>\n",
       "      <th>Quantity Ordered</th>\n",
       "      <th>Price Each</th>\n",
       "      <th>Order Date</th>\n",
       "      <th>Purchase Address</th>\n",
       "      <th>Month</th>\n",
       "      <th>Sales</th>\n",
       "    </tr>\n",
       "  </thead>\n",
       "  <tbody>\n",
       "    <tr>\n",
       "      <th>0</th>\n",
       "      <td>162009</td>\n",
       "      <td>iPhone</td>\n",
       "      <td>1</td>\n",
       "      <td>700.000000</td>\n",
       "      <td>03/28/19 20:59</td>\n",
       "      <td>942 Church St, Austin, TX 73301</td>\n",
       "      <td>03</td>\n",
       "      <td>700.000000</td>\n",
       "    </tr>\n",
       "    <tr>\n",
       "      <th>1</th>\n",
       "      <td>162009</td>\n",
       "      <td>Lightning Charging Cable</td>\n",
       "      <td>1</td>\n",
       "      <td>14.950000</td>\n",
       "      <td>03/28/19 20:59</td>\n",
       "      <td>942 Church St, Austin, TX 73301</td>\n",
       "      <td>03</td>\n",
       "      <td>14.950000</td>\n",
       "    </tr>\n",
       "    <tr>\n",
       "      <th>2</th>\n",
       "      <td>162009</td>\n",
       "      <td>Wired Headphones</td>\n",
       "      <td>2</td>\n",
       "      <td>11.990000</td>\n",
       "      <td>03/28/19 20:59</td>\n",
       "      <td>942 Church St, Austin, TX 73301</td>\n",
       "      <td>03</td>\n",
       "      <td>23.980000</td>\n",
       "    </tr>\n",
       "    <tr>\n",
       "      <th>3</th>\n",
       "      <td>162010</td>\n",
       "      <td>Bose SoundSport Headphones</td>\n",
       "      <td>1</td>\n",
       "      <td>99.989998</td>\n",
       "      <td>03/17/19 05:39</td>\n",
       "      <td>261 10th St, San Francisco, CA 94016</td>\n",
       "      <td>03</td>\n",
       "      <td>99.989998</td>\n",
       "    </tr>\n",
       "    <tr>\n",
       "      <th>4</th>\n",
       "      <td>162011</td>\n",
       "      <td>34in Ultrawide Monitor</td>\n",
       "      <td>1</td>\n",
       "      <td>379.989990</td>\n",
       "      <td>03/10/19 00:01</td>\n",
       "      <td>764 13th St, San Francisco, CA 94016</td>\n",
       "      <td>03</td>\n",
       "      <td>379.989990</td>\n",
       "    </tr>\n",
       "  </tbody>\n",
       "</table>\n",
       "</div>"
      ],
      "text/plain": [
       "  Order ID                     Product  Quantity Ordered  Price Each  \\\n",
       "0   162009                      iPhone                 1  700.000000   \n",
       "1   162009    Lightning Charging Cable                 1   14.950000   \n",
       "2   162009            Wired Headphones                 2   11.990000   \n",
       "3   162010  Bose SoundSport Headphones                 1   99.989998   \n",
       "4   162011      34in Ultrawide Monitor                 1  379.989990   \n",
       "\n",
       "       Order Date                      Purchase Address Month       Sales  \n",
       "0  03/28/19 20:59       942 Church St, Austin, TX 73301    03  700.000000  \n",
       "1  03/28/19 20:59       942 Church St, Austin, TX 73301    03   14.950000  \n",
       "2  03/28/19 20:59       942 Church St, Austin, TX 73301    03   23.980000  \n",
       "3  03/17/19 05:39  261 10th St, San Francisco, CA 94016    03   99.989998  \n",
       "4  03/10/19 00:01  764 13th St, San Francisco, CA 94016    03  379.989990  "
      ]
     },
     "execution_count": 71,
     "metadata": {},
     "output_type": "execute_result"
    }
   ],
   "source": [
    "df_12month['Sales']= df_12month['Quantity Ordered']* df_12month['Price Each']\n",
    "df_12month.head()"
   ]
  },
  {
   "cell_type": "markdown",
   "id": "59cc2bda",
   "metadata": {},
   "source": [
    "### Move column"
   ]
  },
  {
   "cell_type": "code",
   "execution_count": 78,
   "id": "22008351",
   "metadata": {},
   "outputs": [
    {
     "data": {
      "text/html": [
       "<div>\n",
       "<style scoped>\n",
       "    .dataframe tbody tr th:only-of-type {\n",
       "        vertical-align: middle;\n",
       "    }\n",
       "\n",
       "    .dataframe tbody tr th {\n",
       "        vertical-align: top;\n",
       "    }\n",
       "\n",
       "    .dataframe thead th {\n",
       "        text-align: right;\n",
       "    }\n",
       "</style>\n",
       "<table border=\"1\" class=\"dataframe\">\n",
       "  <thead>\n",
       "    <tr style=\"text-align: right;\">\n",
       "      <th></th>\n",
       "      <th>Order ID</th>\n",
       "      <th>Product</th>\n",
       "      <th>Quantity Ordered</th>\n",
       "      <th>Price Each</th>\n",
       "      <th>Sales</th>\n",
       "      <th>Order Date</th>\n",
       "      <th>Purchase Address</th>\n",
       "      <th>Month</th>\n",
       "    </tr>\n",
       "  </thead>\n",
       "  <tbody>\n",
       "    <tr>\n",
       "      <th>0</th>\n",
       "      <td>162009</td>\n",
       "      <td>iPhone</td>\n",
       "      <td>1</td>\n",
       "      <td>700.000000</td>\n",
       "      <td>700.000000</td>\n",
       "      <td>03/28/19 20:59</td>\n",
       "      <td>942 Church St, Austin, TX 73301</td>\n",
       "      <td>03</td>\n",
       "    </tr>\n",
       "    <tr>\n",
       "      <th>1</th>\n",
       "      <td>162009</td>\n",
       "      <td>Lightning Charging Cable</td>\n",
       "      <td>1</td>\n",
       "      <td>14.950000</td>\n",
       "      <td>14.950000</td>\n",
       "      <td>03/28/19 20:59</td>\n",
       "      <td>942 Church St, Austin, TX 73301</td>\n",
       "      <td>03</td>\n",
       "    </tr>\n",
       "    <tr>\n",
       "      <th>2</th>\n",
       "      <td>162009</td>\n",
       "      <td>Wired Headphones</td>\n",
       "      <td>2</td>\n",
       "      <td>11.990000</td>\n",
       "      <td>23.980000</td>\n",
       "      <td>03/28/19 20:59</td>\n",
       "      <td>942 Church St, Austin, TX 73301</td>\n",
       "      <td>03</td>\n",
       "    </tr>\n",
       "    <tr>\n",
       "      <th>3</th>\n",
       "      <td>162010</td>\n",
       "      <td>Bose SoundSport Headphones</td>\n",
       "      <td>1</td>\n",
       "      <td>99.989998</td>\n",
       "      <td>99.989998</td>\n",
       "      <td>03/17/19 05:39</td>\n",
       "      <td>261 10th St, San Francisco, CA 94016</td>\n",
       "      <td>03</td>\n",
       "    </tr>\n",
       "    <tr>\n",
       "      <th>4</th>\n",
       "      <td>162011</td>\n",
       "      <td>34in Ultrawide Monitor</td>\n",
       "      <td>1</td>\n",
       "      <td>379.989990</td>\n",
       "      <td>379.989990</td>\n",
       "      <td>03/10/19 00:01</td>\n",
       "      <td>764 13th St, San Francisco, CA 94016</td>\n",
       "      <td>03</td>\n",
       "    </tr>\n",
       "  </tbody>\n",
       "</table>\n",
       "</div>"
      ],
      "text/plain": [
       "  Order ID                     Product  Quantity Ordered  Price Each  \\\n",
       "0   162009                      iPhone                 1  700.000000   \n",
       "1   162009    Lightning Charging Cable                 1   14.950000   \n",
       "2   162009            Wired Headphones                 2   11.990000   \n",
       "3   162010  Bose SoundSport Headphones                 1   99.989998   \n",
       "4   162011      34in Ultrawide Monitor                 1  379.989990   \n",
       "\n",
       "        Sales      Order Date                      Purchase Address Month  \n",
       "0  700.000000  03/28/19 20:59       942 Church St, Austin, TX 73301    03  \n",
       "1   14.950000  03/28/19 20:59       942 Church St, Austin, TX 73301    03  \n",
       "2   23.980000  03/28/19 20:59       942 Church St, Austin, TX 73301    03  \n",
       "3   99.989998  03/17/19 05:39  261 10th St, San Francisco, CA 94016    03  \n",
       "4  379.989990  03/10/19 00:01  764 13th St, San Francisco, CA 94016    03  "
      ]
     },
     "execution_count": 78,
     "metadata": {},
     "output_type": "execute_result"
    }
   ],
   "source": [
    "moving_col = df_12month.pop('Sales')\n",
    "df_12month.insert(4,'Sales',moving_col)\n",
    "df_12month.head()"
   ]
  },
  {
   "cell_type": "code",
   "execution_count": 79,
   "id": "55ea263e",
   "metadata": {},
   "outputs": [
    {
     "data": {
      "text/html": [
       "<div>\n",
       "<style scoped>\n",
       "    .dataframe tbody tr th:only-of-type {\n",
       "        vertical-align: middle;\n",
       "    }\n",
       "\n",
       "    .dataframe tbody tr th {\n",
       "        vertical-align: top;\n",
       "    }\n",
       "\n",
       "    .dataframe thead th {\n",
       "        text-align: right;\n",
       "    }\n",
       "</style>\n",
       "<table border=\"1\" class=\"dataframe\">\n",
       "  <thead>\n",
       "    <tr style=\"text-align: right;\">\n",
       "      <th></th>\n",
       "      <th>Quantity Ordered</th>\n",
       "      <th>Price Each</th>\n",
       "      <th>Sales</th>\n",
       "    </tr>\n",
       "    <tr>\n",
       "      <th>Month</th>\n",
       "      <th></th>\n",
       "      <th></th>\n",
       "      <th></th>\n",
       "    </tr>\n",
       "  </thead>\n",
       "  <tbody>\n",
       "    <tr>\n",
       "      <th>01</th>\n",
       "      <td>10903.0</td>\n",
       "      <td>1811768.375</td>\n",
       "      <td>1822256.75</td>\n",
       "    </tr>\n",
       "    <tr>\n",
       "      <th>02</th>\n",
       "      <td>13449.0</td>\n",
       "      <td>2188884.750</td>\n",
       "      <td>2202022.50</td>\n",
       "    </tr>\n",
       "    <tr>\n",
       "      <th>03</th>\n",
       "      <td>17005.0</td>\n",
       "      <td>2791207.750</td>\n",
       "      <td>2807100.25</td>\n",
       "    </tr>\n",
       "    <tr>\n",
       "      <th>04</th>\n",
       "      <td>20558.0</td>\n",
       "      <td>3367671.000</td>\n",
       "      <td>3390670.25</td>\n",
       "    </tr>\n",
       "    <tr>\n",
       "      <th>05</th>\n",
       "      <td>18667.0</td>\n",
       "      <td>3135125.000</td>\n",
       "      <td>3152606.75</td>\n",
       "    </tr>\n",
       "    <tr>\n",
       "      <th>06</th>\n",
       "      <td>15253.0</td>\n",
       "      <td>2562025.500</td>\n",
       "      <td>2577802.25</td>\n",
       "    </tr>\n",
       "    <tr>\n",
       "      <th>07</th>\n",
       "      <td>16072.0</td>\n",
       "      <td>2632539.500</td>\n",
       "      <td>2647775.75</td>\n",
       "    </tr>\n",
       "    <tr>\n",
       "      <th>08</th>\n",
       "      <td>13448.0</td>\n",
       "      <td>2230345.500</td>\n",
       "      <td>2244467.75</td>\n",
       "    </tr>\n",
       "    <tr>\n",
       "      <th>09</th>\n",
       "      <td>13109.0</td>\n",
       "      <td>2084992.125</td>\n",
       "      <td>2097560.00</td>\n",
       "    </tr>\n",
       "    <tr>\n",
       "      <th>10</th>\n",
       "      <td>22703.0</td>\n",
       "      <td>3715554.750</td>\n",
       "      <td>3736726.75</td>\n",
       "    </tr>\n",
       "    <tr>\n",
       "      <th>11</th>\n",
       "      <td>19798.0</td>\n",
       "      <td>3180600.750</td>\n",
       "      <td>3199603.25</td>\n",
       "    </tr>\n",
       "    <tr>\n",
       "      <th>12</th>\n",
       "      <td>28114.0</td>\n",
       "      <td>4588415.500</td>\n",
       "      <td>4613443.50</td>\n",
       "    </tr>\n",
       "  </tbody>\n",
       "</table>\n",
       "</div>"
      ],
      "text/plain": [
       "       Quantity Ordered   Price Each       Sales\n",
       "Month                                           \n",
       "01              10903.0  1811768.375  1822256.75\n",
       "02              13449.0  2188884.750  2202022.50\n",
       "03              17005.0  2791207.750  2807100.25\n",
       "04              20558.0  3367671.000  3390670.25\n",
       "05              18667.0  3135125.000  3152606.75\n",
       "06              15253.0  2562025.500  2577802.25\n",
       "07              16072.0  2632539.500  2647775.75\n",
       "08              13448.0  2230345.500  2244467.75\n",
       "09              13109.0  2084992.125  2097560.00\n",
       "10              22703.0  3715554.750  3736726.75\n",
       "11              19798.0  3180600.750  3199603.25\n",
       "12              28114.0  4588415.500  4613443.50"
      ]
     },
     "execution_count": 79,
     "metadata": {},
     "output_type": "execute_result"
    }
   ],
   "source": [
    "df_12month.groupby('Month').sum()"
   ]
  },
  {
   "cell_type": "code",
   "execution_count": 80,
   "id": "7a1e83b1",
   "metadata": {},
   "outputs": [
    {
     "data": {
      "text/plain": [
       "Month\n",
       "01    1822256.75\n",
       "02    2202022.50\n",
       "03    2807100.25\n",
       "04    3390670.25\n",
       "05    3152606.75\n",
       "06    2577802.25\n",
       "07    2647775.75\n",
       "08    2244467.75\n",
       "09    2097560.00\n",
       "10    3736726.75\n",
       "11    3199603.25\n",
       "12    4613443.50\n",
       "Name: Sales, dtype: float32"
      ]
     },
     "execution_count": 80,
     "metadata": {},
     "output_type": "execute_result"
    }
   ],
   "source": [
    "df_12month.groupby('Month').sum()['Sales']"
   ]
  },
  {
   "cell_type": "code",
   "execution_count": 81,
   "id": "f698fc75",
   "metadata": {},
   "outputs": [
    {
     "data": {
      "text/plain": [
       "4613443.5"
      ]
     },
     "execution_count": 81,
     "metadata": {},
     "output_type": "execute_result"
    }
   ],
   "source": [
    "sales_value= df_12month.groupby('Month').sum()['Sales']\n",
    "sales_value.max()"
   ]
  },
  {
   "cell_type": "code",
   "execution_count": 85,
   "id": "366b89a8",
   "metadata": {},
   "outputs": [
    {
     "data": {
      "text/plain": [
       "<BarContainer object of 12 artists>"
      ]
     },
     "execution_count": 85,
     "metadata": {},
     "output_type": "execute_result"
    },
    {
     "data": {
      "image/png": "[encoded data removed]",
      "text/plain": [
       "<Figure size 432x288 with 1 Axes>"
      ]
     },
     "metadata": {
      "needs_background": "light"
     },
     "output_type": "display_data"
    }
   ],
   "source": [
    "months = range(1,13)\n",
    "plt.bar(x=months,height=sales_value)"
   ]
  },
  {
   "cell_type": "code",
   "execution_count": 87,
   "id": "8560bfdf",
   "metadata": {},
   "outputs": [
    {
     "data": {
      "image/png": "[encoded data removed]",
      "text/plain": [
       "<Figure size 432x288 with 1 Axes>"
      ]
     },
     "metadata": {
      "needs_background": "light"
     },
     "output_type": "display_data"
    }
   ],
   "source": [
    "months = range(1,13)\n",
    "plt.bar(x=months,height=sales_value)\n",
    "#appear 1,3,5,7,.. :\n",
    "plt.xticks(months);"
   ]
  },
  {
   "cell_type": "code",
   "execution_count": 89,
   "id": "334e4b33",
   "metadata": {},
   "outputs": [
    {
     "data": {
      "text/plain": [
       "Text(0, 0.5, 'Sales_value(USD)')"
      ]
     },
     "execution_count": 89,
     "metadata": {},
     "output_type": "execute_result"
    },
    {
     "data": {
      "image/png": "[encoded data removed]",
      "text/plain": [
       "<Figure size 432x288 with 1 Axes>"
      ]
     },
     "metadata": {
      "needs_background": "light"
     },
     "output_type": "display_data"
    }
   ],
   "source": [
    "months = range(1,13)\n",
    "plt.bar(x=months,height=sales_value)\n",
    "plt.xticks(months);\n",
    "plt.xlabel('Months')\n",
    "plt.ylabel('Sales_value(USD)')"
   ]
  },
  {
   "cell_type": "markdown",
   "id": "6d842ac7",
   "metadata": {},
   "source": [
    "# What city has the best sales?"
   ]
  },
  {
   "cell_type": "code",
   "execution_count": 90,
   "id": "77b900be",
   "metadata": {},
   "outputs": [
    {
     "data": {
      "text/html": [
       "<div>\n",
       "<style scoped>\n",
       "    .dataframe tbody tr th:only-of-type {\n",
       "        vertical-align: middle;\n",
       "    }\n",
       "\n",
       "    .dataframe tbody tr th {\n",
       "        vertical-align: top;\n",
       "    }\n",
       "\n",
       "    .dataframe thead th {\n",
       "        text-align: right;\n",
       "    }\n",
       "</style>\n",
       "<table border=\"1\" class=\"dataframe\">\n",
       "  <thead>\n",
       "    <tr style=\"text-align: right;\">\n",
       "      <th></th>\n",
       "      <th>Order ID</th>\n",
       "      <th>Product</th>\n",
       "      <th>Quantity Ordered</th>\n",
       "      <th>Price Each</th>\n",
       "      <th>Sales</th>\n",
       "      <th>Order Date</th>\n",
       "      <th>Purchase Address</th>\n",
       "      <th>Month</th>\n",
       "    </tr>\n",
       "  </thead>\n",
       "  <tbody>\n",
       "    <tr>\n",
       "      <th>0</th>\n",
       "      <td>162009</td>\n",
       "      <td>iPhone</td>\n",
       "      <td>1</td>\n",
       "      <td>700.000000</td>\n",
       "      <td>700.000000</td>\n",
       "      <td>03/28/19 20:59</td>\n",
       "      <td>942 Church St, Austin, TX 73301</td>\n",
       "      <td>03</td>\n",
       "    </tr>\n",
       "    <tr>\n",
       "      <th>1</th>\n",
       "      <td>162009</td>\n",
       "      <td>Lightning Charging Cable</td>\n",
       "      <td>1</td>\n",
       "      <td>14.950000</td>\n",
       "      <td>14.950000</td>\n",
       "      <td>03/28/19 20:59</td>\n",
       "      <td>942 Church St, Austin, TX 73301</td>\n",
       "      <td>03</td>\n",
       "    </tr>\n",
       "    <tr>\n",
       "      <th>2</th>\n",
       "      <td>162009</td>\n",
       "      <td>Wired Headphones</td>\n",
       "      <td>2</td>\n",
       "      <td>11.990000</td>\n",
       "      <td>23.980000</td>\n",
       "      <td>03/28/19 20:59</td>\n",
       "      <td>942 Church St, Austin, TX 73301</td>\n",
       "      <td>03</td>\n",
       "    </tr>\n",
       "    <tr>\n",
       "      <th>3</th>\n",
       "      <td>162010</td>\n",
       "      <td>Bose SoundSport Headphones</td>\n",
       "      <td>1</td>\n",
       "      <td>99.989998</td>\n",
       "      <td>99.989998</td>\n",
       "      <td>03/17/19 05:39</td>\n",
       "      <td>261 10th St, San Francisco, CA 94016</td>\n",
       "      <td>03</td>\n",
       "    </tr>\n",
       "    <tr>\n",
       "      <th>4</th>\n",
       "      <td>162011</td>\n",
       "      <td>34in Ultrawide Monitor</td>\n",
       "      <td>1</td>\n",
       "      <td>379.989990</td>\n",
       "      <td>379.989990</td>\n",
       "      <td>03/10/19 00:01</td>\n",
       "      <td>764 13th St, San Francisco, CA 94016</td>\n",
       "      <td>03</td>\n",
       "    </tr>\n",
       "  </tbody>\n",
       "</table>\n",
       "</div>"
      ],
      "text/plain": [
       "  Order ID                     Product  Quantity Ordered  Price Each  \\\n",
       "0   162009                      iPhone                 1  700.000000   \n",
       "1   162009    Lightning Charging Cable                 1   14.950000   \n",
       "2   162009            Wired Headphones                 2   11.990000   \n",
       "3   162010  Bose SoundSport Headphones                 1   99.989998   \n",
       "4   162011      34in Ultrawide Monitor                 1  379.989990   \n",
       "\n",
       "        Sales      Order Date                      Purchase Address Month  \n",
       "0  700.000000  03/28/19 20:59       942 Church St, Austin, TX 73301    03  \n",
       "1   14.950000  03/28/19 20:59       942 Church St, Austin, TX 73301    03  \n",
       "2   23.980000  03/28/19 20:59       942 Church St, Austin, TX 73301    03  \n",
       "3   99.989998  03/17/19 05:39  261 10th St, San Francisco, CA 94016    03  \n",
       "4  379.989990  03/10/19 00:01  764 13th St, San Francisco, CA 94016    03  "
      ]
     },
     "execution_count": 90,
     "metadata": {},
     "output_type": "execute_result"
    }
   ],
   "source": [
    "df_12month.head()"
   ]
  },
  {
   "cell_type": "code",
   "execution_count": 97,
   "id": "aba07e32",
   "metadata": {},
   "outputs": [
    {
     "data": {
      "text/plain": [
       "0                Austin\n",
       "1                Austin\n",
       "2                Austin\n",
       "3         San Francisco\n",
       "4         San Francisco\n",
       "              ...      \n",
       "12006     San Francisco\n",
       "12007            Boston\n",
       "12008           Seattle\n",
       "12009     San Francisco\n",
       "12010       Los Angeles\n",
       "Name: Purchase Address, Length: 185950, dtype: object"
      ]
     },
     "execution_count": 97,
     "metadata": {},
     "output_type": "execute_result"
    }
   ],
   "source": [
    "df_12month['Purchase Address'].apply(lambda x:x.split(',')[1])"
   ]
  },
  {
   "cell_type": "code",
   "execution_count": 94,
   "id": "4b2b4b64",
   "metadata": {},
   "outputs": [],
   "source": [
    "df_12month['City'] = df_12month['Purchase Address'].apply(lambda x:x.split(',')[1])"
   ]
  },
  {
   "cell_type": "code",
   "execution_count": 95,
   "id": "7a0c9d93",
   "metadata": {},
   "outputs": [
    {
     "data": {
      "text/html": [
       "<div>\n",
       "<style scoped>\n",
       "    .dataframe tbody tr th:only-of-type {\n",
       "        vertical-align: middle;\n",
       "    }\n",
       "\n",
       "    .dataframe tbody tr th {\n",
       "        vertical-align: top;\n",
       "    }\n",
       "\n",
       "    .dataframe thead th {\n",
       "        text-align: right;\n",
       "    }\n",
       "</style>\n",
       "<table border=\"1\" class=\"dataframe\">\n",
       "  <thead>\n",
       "    <tr style=\"text-align: right;\">\n",
       "      <th></th>\n",
       "      <th>Order ID</th>\n",
       "      <th>Product</th>\n",
       "      <th>Quantity Ordered</th>\n",
       "      <th>Price Each</th>\n",
       "      <th>Sales</th>\n",
       "      <th>Order Date</th>\n",
       "      <th>Purchase Address</th>\n",
       "      <th>Month</th>\n",
       "      <th>City</th>\n",
       "    </tr>\n",
       "  </thead>\n",
       "  <tbody>\n",
       "    <tr>\n",
       "      <th>0</th>\n",
       "      <td>162009</td>\n",
       "      <td>iPhone</td>\n",
       "      <td>1</td>\n",
       "      <td>700.000000</td>\n",
       "      <td>700.000000</td>\n",
       "      <td>03/28/19 20:59</td>\n",
       "      <td>942 Church St, Austin, TX 73301</td>\n",
       "      <td>03</td>\n",
       "      <td>Austin</td>\n",
       "    </tr>\n",
       "    <tr>\n",
       "      <th>1</th>\n",
       "      <td>162009</td>\n",
       "      <td>Lightning Charging Cable</td>\n",
       "      <td>1</td>\n",
       "      <td>14.950000</td>\n",
       "      <td>14.950000</td>\n",
       "      <td>03/28/19 20:59</td>\n",
       "      <td>942 Church St, Austin, TX 73301</td>\n",
       "      <td>03</td>\n",
       "      <td>Austin</td>\n",
       "    </tr>\n",
       "    <tr>\n",
       "      <th>2</th>\n",
       "      <td>162009</td>\n",
       "      <td>Wired Headphones</td>\n",
       "      <td>2</td>\n",
       "      <td>11.990000</td>\n",
       "      <td>23.980000</td>\n",
       "      <td>03/28/19 20:59</td>\n",
       "      <td>942 Church St, Austin, TX 73301</td>\n",
       "      <td>03</td>\n",
       "      <td>Austin</td>\n",
       "    </tr>\n",
       "    <tr>\n",
       "      <th>3</th>\n",
       "      <td>162010</td>\n",
       "      <td>Bose SoundSport Headphones</td>\n",
       "      <td>1</td>\n",
       "      <td>99.989998</td>\n",
       "      <td>99.989998</td>\n",
       "      <td>03/17/19 05:39</td>\n",
       "      <td>261 10th St, San Francisco, CA 94016</td>\n",
       "      <td>03</td>\n",
       "      <td>San Francisco</td>\n",
       "    </tr>\n",
       "    <tr>\n",
       "      <th>4</th>\n",
       "      <td>162011</td>\n",
       "      <td>34in Ultrawide Monitor</td>\n",
       "      <td>1</td>\n",
       "      <td>379.989990</td>\n",
       "      <td>379.989990</td>\n",
       "      <td>03/10/19 00:01</td>\n",
       "      <td>764 13th St, San Francisco, CA 94016</td>\n",
       "      <td>03</td>\n",
       "      <td>San Francisco</td>\n",
       "    </tr>\n",
       "  </tbody>\n",
       "</table>\n",
       "</div>"
      ],
      "text/plain": [
       "  Order ID                     Product  Quantity Ordered  Price Each  \\\n",
       "0   162009                      iPhone                 1  700.000000   \n",
       "1   162009    Lightning Charging Cable                 1   14.950000   \n",
       "2   162009            Wired Headphones                 2   11.990000   \n",
       "3   162010  Bose SoundSport Headphones                 1   99.989998   \n",
       "4   162011      34in Ultrawide Monitor                 1  379.989990   \n",
       "\n",
       "        Sales      Order Date                      Purchase Address Month  \\\n",
       "0  700.000000  03/28/19 20:59       942 Church St, Austin, TX 73301    03   \n",
       "1   14.950000  03/28/19 20:59       942 Church St, Austin, TX 73301    03   \n",
       "2   23.980000  03/28/19 20:59       942 Church St, Austin, TX 73301    03   \n",
       "3   99.989998  03/17/19 05:39  261 10th St, San Francisco, CA 94016    03   \n",
       "4  379.989990  03/10/19 00:01  764 13th St, San Francisco, CA 94016    03   \n",
       "\n",
       "             City  \n",
       "0          Austin  \n",
       "1          Austin  \n",
       "2          Austin  \n",
       "3   San Francisco  \n",
       "4   San Francisco  "
      ]
     },
     "execution_count": 95,
     "metadata": {},
     "output_type": "execute_result"
    }
   ],
   "source": [
    "df_12month.head()"
   ]
  },
  {
   "cell_type": "code",
   "execution_count": 99,
   "id": "7c0466f5",
   "metadata": {},
   "outputs": [
    {
     "data": {
      "text/plain": [
       "City\n",
       " Atlanta          2795498.50\n",
       " Austin           1819581.75\n",
       " Boston           3661642.00\n",
       " Dallas           2767975.50\n",
       " Los Angeles      5452571.00\n",
       " New York City    4664317.50\n",
       " Portland         2320490.50\n",
       " San Francisco    8262204.00\n",
       " Seattle          2747755.50\n",
       "Name: Sales, dtype: float32"
      ]
     },
     "execution_count": 99,
     "metadata": {},
     "output_type": "execute_result"
    }
   ],
   "source": [
    "df_12month.groupby('City').sum()['Sales']"
   ]
  },
  {
   "cell_type": "code",
   "execution_count": 100,
   "id": "89e315ad",
   "metadata": {},
   "outputs": [
    {
     "data": {
      "text/plain": [
       "8262204.0"
      ]
     },
     "execution_count": 100,
     "metadata": {},
     "output_type": "execute_result"
    }
   ],
   "source": [
    "#groupby => return alphabet\n",
    "sale_city = df_12month.groupby('City').sum()['Sales']\n",
    "sale_city.max()"
   ]
  },
  {
   "cell_type": "code",
   "execution_count": 116,
   "id": "6bb32846",
   "metadata": {},
   "outputs": [
    {
     "name": "stdout",
     "output_type": "stream",
     "text": [
      "City\n",
      " Atlanta          2795498.50\n",
      " Austin           1819581.75\n",
      " Boston           3661642.00\n",
      " Dallas           2767975.50\n",
      " Los Angeles      5452571.00\n",
      " New York City    4664317.50\n",
      " Portland         2320490.50\n",
      " San Francisco    8262204.00\n",
      " Seattle          2747755.50\n",
      "Name: Sales, dtype: float32\n"
     ]
    }
   ],
   "source": [
    "print(sale_city)"
   ]
  },
  {
   "cell_type": "code",
   "execution_count": 120,
   "id": "a6f1b85f",
   "metadata": {},
   "outputs": [
    {
     "name": "stdout",
     "output_type": "stream",
     "text": [
      "[' Austin' ' San Francisco' ' Boston' ' Atlanta' ' Portland' ' Dallas'\n",
      " ' Los Angeles' ' New York City' ' Seattle']\n"
     ]
    }
   ],
   "source": [
    "#cities = set(df_12month['City']) \n",
    "#or\n",
    "cities = df_12month['City'].unique()\n",
    "print(cities)\n",
    "########but this is not Alphabet "
   ]
  },
  {
   "cell_type": "code",
   "execution_count": 125,
   "id": "7b1d7dbd",
   "metadata": {},
   "outputs": [
    {
     "data": {
      "text/plain": [
       "[' Atlanta',\n",
       " ' Austin',\n",
       " ' Boston',\n",
       " ' Dallas',\n",
       " ' Los Angeles',\n",
       " ' New York City',\n",
       " ' Portland',\n",
       " ' San Francisco',\n",
       " ' Seattle']"
      ]
     },
     "execution_count": 125,
     "metadata": {},
     "output_type": "execute_result"
    }
   ],
   "source": [
    "#Change to alphabet\n",
    "sorted(cities)"
   ]
  },
  {
   "cell_type": "code",
   "execution_count": 126,
   "id": "fcc58801",
   "metadata": {},
   "outputs": [
    {
     "data": {
      "image/png": "[encoded data removed]",
      "text/plain": [
       "<Figure size 432x288 with 1 Axes>"
      ]
     },
     "metadata": {
      "needs_background": "light"
     },
     "output_type": "display_data"
    }
   ],
   "source": [
    "# Wrong match ctities and sale_city if we don't use sorted(cities)\n",
    "plt.bar(x=cities,height=sale_city)\n",
    "plt.xticks(cities,rotation=90,size=8);\n",
    "plt.xlabel('City')\n",
    "plt.ylabel('Sales_value(USD)');"
   ]
  },
  {
   "cell_type": "code",
   "execution_count": 113,
   "id": "ee5913cf",
   "metadata": {},
   "outputs": [
    {
     "data": {
      "image/png": "[encoded data removed]",
      "text/plain": [
       "<Figure size 432x288 with 1 Axes>"
      ]
     },
     "metadata": {
      "needs_background": "light"
     },
     "output_type": "display_data"
    }
   ],
   "source": [
    "#Use sorted(cities) to change its to alphabet ==> match the sale_city now\n",
    "plt.bar(x=sorted(cities),height=sale_city)\n",
    "plt.xticks(cities,rotation=90,size=8)\n",
    "plt.xlabel('City')\n",
    "plt.ylabel('Sales_value(USD)');"
   ]
  },
  {
   "cell_type": "markdown",
   "id": "7eb47746",
   "metadata": {},
   "source": [
    "# What time should we display ads to maximize the likelihood of customer's buying product?"
   ]
  },
  {
   "cell_type": "code",
   "execution_count": 127,
   "id": "866a0e19",
   "metadata": {},
   "outputs": [
    {
     "data": {
      "text/html": [
       "<div>\n",
       "<style scoped>\n",
       "    .dataframe tbody tr th:only-of-type {\n",
       "        vertical-align: middle;\n",
       "    }\n",
       "\n",
       "    .dataframe tbody tr th {\n",
       "        vertical-align: top;\n",
       "    }\n",
       "\n",
       "    .dataframe thead th {\n",
       "        text-align: right;\n",
       "    }\n",
       "</style>\n",
       "<table border=\"1\" class=\"dataframe\">\n",
       "  <thead>\n",
       "    <tr style=\"text-align: right;\">\n",
       "      <th></th>\n",
       "      <th>Order ID</th>\n",
       "      <th>Product</th>\n",
       "      <th>Quantity Ordered</th>\n",
       "      <th>Price Each</th>\n",
       "      <th>Sales</th>\n",
       "      <th>Order Date</th>\n",
       "      <th>Purchase Address</th>\n",
       "      <th>Month</th>\n",
       "      <th>City</th>\n",
       "    </tr>\n",
       "  </thead>\n",
       "  <tbody>\n",
       "    <tr>\n",
       "      <th>0</th>\n",
       "      <td>162009</td>\n",
       "      <td>iPhone</td>\n",
       "      <td>1</td>\n",
       "      <td>700.000000</td>\n",
       "      <td>700.000000</td>\n",
       "      <td>03/28/19 20:59</td>\n",
       "      <td>942 Church St, Austin, TX 73301</td>\n",
       "      <td>03</td>\n",
       "      <td>Austin</td>\n",
       "    </tr>\n",
       "    <tr>\n",
       "      <th>1</th>\n",
       "      <td>162009</td>\n",
       "      <td>Lightning Charging Cable</td>\n",
       "      <td>1</td>\n",
       "      <td>14.950000</td>\n",
       "      <td>14.950000</td>\n",
       "      <td>03/28/19 20:59</td>\n",
       "      <td>942 Church St, Austin, TX 73301</td>\n",
       "      <td>03</td>\n",
       "      <td>Austin</td>\n",
       "    </tr>\n",
       "    <tr>\n",
       "      <th>2</th>\n",
       "      <td>162009</td>\n",
       "      <td>Wired Headphones</td>\n",
       "      <td>2</td>\n",
       "      <td>11.990000</td>\n",
       "      <td>23.980000</td>\n",
       "      <td>03/28/19 20:59</td>\n",
       "      <td>942 Church St, Austin, TX 73301</td>\n",
       "      <td>03</td>\n",
       "      <td>Austin</td>\n",
       "    </tr>\n",
       "    <tr>\n",
       "      <th>3</th>\n",
       "      <td>162010</td>\n",
       "      <td>Bose SoundSport Headphones</td>\n",
       "      <td>1</td>\n",
       "      <td>99.989998</td>\n",
       "      <td>99.989998</td>\n",
       "      <td>03/17/19 05:39</td>\n",
       "      <td>261 10th St, San Francisco, CA 94016</td>\n",
       "      <td>03</td>\n",
       "      <td>San Francisco</td>\n",
       "    </tr>\n",
       "    <tr>\n",
       "      <th>4</th>\n",
       "      <td>162011</td>\n",
       "      <td>34in Ultrawide Monitor</td>\n",
       "      <td>1</td>\n",
       "      <td>379.989990</td>\n",
       "      <td>379.989990</td>\n",
       "      <td>03/10/19 00:01</td>\n",
       "      <td>764 13th St, San Francisco, CA 94016</td>\n",
       "      <td>03</td>\n",
       "      <td>San Francisco</td>\n",
       "    </tr>\n",
       "  </tbody>\n",
       "</table>\n",
       "</div>"
      ],
      "text/plain": [
       "  Order ID                     Product  Quantity Ordered  Price Each  \\\n",
       "0   162009                      iPhone                 1  700.000000   \n",
       "1   162009    Lightning Charging Cable                 1   14.950000   \n",
       "2   162009            Wired Headphones                 2   11.990000   \n",
       "3   162010  Bose SoundSport Headphones                 1   99.989998   \n",
       "4   162011      34in Ultrawide Monitor                 1  379.989990   \n",
       "\n",
       "        Sales      Order Date                      Purchase Address Month  \\\n",
       "0  700.000000  03/28/19 20:59       942 Church St, Austin, TX 73301    03   \n",
       "1   14.950000  03/28/19 20:59       942 Church St, Austin, TX 73301    03   \n",
       "2   23.980000  03/28/19 20:59       942 Church St, Austin, TX 73301    03   \n",
       "3   99.989998  03/17/19 05:39  261 10th St, San Francisco, CA 94016    03   \n",
       "4  379.989990  03/10/19 00:01  764 13th St, San Francisco, CA 94016    03   \n",
       "\n",
       "             City  \n",
       "0          Austin  \n",
       "1          Austin  \n",
       "2          Austin  \n",
       "3   San Francisco  \n",
       "4   San Francisco  "
      ]
     },
     "execution_count": 127,
     "metadata": {},
     "output_type": "execute_result"
    }
   ],
   "source": [
    "df_12month.head()"
   ]
  },
  {
   "cell_type": "code",
   "execution_count": 129,
   "id": "980948f8",
   "metadata": {},
   "outputs": [
    {
     "data": {
      "text/plain": [
       "dtype('O')"
      ]
     },
     "execution_count": 129,
     "metadata": {},
     "output_type": "execute_result"
    }
   ],
   "source": [
    "#object to datetime\n",
    "df_12month['Order Date'].dtype"
   ]
  },
  {
   "cell_type": "code",
   "execution_count": 131,
   "id": "57785313",
   "metadata": {},
   "outputs": [],
   "source": [
    "df_12month['Order Date']=pd.to_datetime(df_12month['Order Date'])"
   ]
  },
  {
   "cell_type": "code",
   "execution_count": 133,
   "id": "37c31f97",
   "metadata": {},
   "outputs": [
    {
     "name": "stdout",
     "output_type": "stream",
     "text": [
      "datetime64[ns]\n"
     ]
    }
   ],
   "source": [
    "print(df_12month['Order Date'].dtype)"
   ]
  },
  {
   "cell_type": "code",
   "execution_count": 134,
   "id": "a155fde7",
   "metadata": {},
   "outputs": [
    {
     "data": {
      "text/plain": [
       "0        20\n",
       "1        20\n",
       "2        20\n",
       "3         5\n",
       "4         0\n",
       "         ..\n",
       "12006    22\n",
       "12007    16\n",
       "12008     7\n",
       "12009    12\n",
       "12010     8\n",
       "Name: Order Date, Length: 185950, dtype: int64"
      ]
     },
     "execution_count": 134,
     "metadata": {},
     "output_type": "execute_result"
    }
   ],
   "source": [
    "df_12month['Order Date'].dt.hour"
   ]
  },
  {
   "cell_type": "code",
   "execution_count": 135,
   "id": "6a3f8e59",
   "metadata": {},
   "outputs": [
    {
     "data": {
      "text/html": [
       "<div>\n",
       "<style scoped>\n",
       "    .dataframe tbody tr th:only-of-type {\n",
       "        vertical-align: middle;\n",
       "    }\n",
       "\n",
       "    .dataframe tbody tr th {\n",
       "        vertical-align: top;\n",
       "    }\n",
       "\n",
       "    .dataframe thead th {\n",
       "        text-align: right;\n",
       "    }\n",
       "</style>\n",
       "<table border=\"1\" class=\"dataframe\">\n",
       "  <thead>\n",
       "    <tr style=\"text-align: right;\">\n",
       "      <th></th>\n",
       "      <th>Order ID</th>\n",
       "      <th>Product</th>\n",
       "      <th>Quantity Ordered</th>\n",
       "      <th>Price Each</th>\n",
       "      <th>Sales</th>\n",
       "      <th>Order Date</th>\n",
       "      <th>Purchase Address</th>\n",
       "      <th>Month</th>\n",
       "      <th>City</th>\n",
       "      <th>Hours</th>\n",
       "    </tr>\n",
       "  </thead>\n",
       "  <tbody>\n",
       "    <tr>\n",
       "      <th>0</th>\n",
       "      <td>162009</td>\n",
       "      <td>iPhone</td>\n",
       "      <td>1</td>\n",
       "      <td>700.000000</td>\n",
       "      <td>700.000000</td>\n",
       "      <td>2019-03-28 20:59:00</td>\n",
       "      <td>942 Church St, Austin, TX 73301</td>\n",
       "      <td>03</td>\n",
       "      <td>Austin</td>\n",
       "      <td>20</td>\n",
       "    </tr>\n",
       "    <tr>\n",
       "      <th>1</th>\n",
       "      <td>162009</td>\n",
       "      <td>Lightning Charging Cable</td>\n",
       "      <td>1</td>\n",
       "      <td>14.950000</td>\n",
       "      <td>14.950000</td>\n",
       "      <td>2019-03-28 20:59:00</td>\n",
       "      <td>942 Church St, Austin, TX 73301</td>\n",
       "      <td>03</td>\n",
       "      <td>Austin</td>\n",
       "      <td>20</td>\n",
       "    </tr>\n",
       "    <tr>\n",
       "      <th>2</th>\n",
       "      <td>162009</td>\n",
       "      <td>Wired Headphones</td>\n",
       "      <td>2</td>\n",
       "      <td>11.990000</td>\n",
       "      <td>23.980000</td>\n",
       "      <td>2019-03-28 20:59:00</td>\n",
       "      <td>942 Church St, Austin, TX 73301</td>\n",
       "      <td>03</td>\n",
       "      <td>Austin</td>\n",
       "      <td>20</td>\n",
       "    </tr>\n",
       "    <tr>\n",
       "      <th>3</th>\n",
       "      <td>162010</td>\n",
       "      <td>Bose SoundSport Headphones</td>\n",
       "      <td>1</td>\n",
       "      <td>99.989998</td>\n",
       "      <td>99.989998</td>\n",
       "      <td>2019-03-17 05:39:00</td>\n",
       "      <td>261 10th St, San Francisco, CA 94016</td>\n",
       "      <td>03</td>\n",
       "      <td>San Francisco</td>\n",
       "      <td>5</td>\n",
       "    </tr>\n",
       "    <tr>\n",
       "      <th>4</th>\n",
       "      <td>162011</td>\n",
       "      <td>34in Ultrawide Monitor</td>\n",
       "      <td>1</td>\n",
       "      <td>379.989990</td>\n",
       "      <td>379.989990</td>\n",
       "      <td>2019-03-10 00:01:00</td>\n",
       "      <td>764 13th St, San Francisco, CA 94016</td>\n",
       "      <td>03</td>\n",
       "      <td>San Francisco</td>\n",
       "      <td>0</td>\n",
       "    </tr>\n",
       "  </tbody>\n",
       "</table>\n",
       "</div>"
      ],
      "text/plain": [
       "  Order ID                     Product  Quantity Ordered  Price Each  \\\n",
       "0   162009                      iPhone                 1  700.000000   \n",
       "1   162009    Lightning Charging Cable                 1   14.950000   \n",
       "2   162009            Wired Headphones                 2   11.990000   \n",
       "3   162010  Bose SoundSport Headphones                 1   99.989998   \n",
       "4   162011      34in Ultrawide Monitor                 1  379.989990   \n",
       "\n",
       "        Sales          Order Date                      Purchase Address Month  \\\n",
       "0  700.000000 2019-03-28 20:59:00       942 Church St, Austin, TX 73301    03   \n",
       "1   14.950000 2019-03-28 20:59:00       942 Church St, Austin, TX 73301    03   \n",
       "2   23.980000 2019-03-28 20:59:00       942 Church St, Austin, TX 73301    03   \n",
       "3   99.989998 2019-03-17 05:39:00  261 10th St, San Francisco, CA 94016    03   \n",
       "4  379.989990 2019-03-10 00:01:00  764 13th St, San Francisco, CA 94016    03   \n",
       "\n",
       "             City  Hours  \n",
       "0          Austin     20  \n",
       "1          Austin     20  \n",
       "2          Austin     20  \n",
       "3   San Francisco      5  \n",
       "4   San Francisco      0  "
      ]
     },
     "execution_count": 135,
     "metadata": {},
     "output_type": "execute_result"
    }
   ],
   "source": [
    "df_12month['Hours']= df_12month['Order Date'].dt.hour\n",
    "df_12month.head()"
   ]
  },
  {
   "cell_type": "code",
   "execution_count": 142,
   "id": "508448c3",
   "metadata": {},
   "outputs": [
    {
     "name": "stdout",
     "output_type": "stream",
     "text": [
      "Hours\n",
      "0     7.137212e+05\n",
      "1     4.608669e+05\n",
      "2     2.348514e+05\n",
      "3     1.457579e+05\n",
      "4     1.626610e+05\n",
      "5     2.306798e+05\n",
      "6     4.481130e+05\n",
      "7     7.448541e+05\n",
      "8     1.192349e+06\n",
      "9     1.639031e+06\n",
      "10    1.944287e+06\n",
      "11    2.300610e+06\n",
      "12    2.316821e+06\n",
      "13    2.155390e+06\n",
      "14    2.083673e+06\n",
      "15    1.941550e+06\n",
      "16    1.904601e+06\n",
      "17    2.129362e+06\n",
      "18    2.219348e+06\n",
      "19    2.412938e+06\n",
      "20    2.281716e+06\n",
      "21    2.042001e+06\n",
      "22    1.607549e+06\n",
      "23    1.179304e+06\n",
      "Name: Sales, dtype: float32\n"
     ]
    }
   ],
   "source": [
    "sales_hours = df_12month.groupby('Hours').sum()['Sales']\n",
    "print(sales_hours)"
   ]
  },
  {
   "cell_type": "code",
   "execution_count": 145,
   "id": "26be8b80",
   "metadata": {},
   "outputs": [
    {
     "name": "stdout",
     "output_type": "stream",
     "text": [
      "{0, 1, 2, 3, 4, 5, 6, 7, 8, 9, 10, 11, 12, 13, 14, 15, 16, 17, 18, 19, 20, 21, 22, 23}\n"
     ]
    }
   ],
   "source": [
    "hours = set(df_12month['Hours'])\n",
    "print(hours)"
   ]
  },
  {
   "cell_type": "code",
   "execution_count": 146,
   "id": "eeddbc0c",
   "metadata": {},
   "outputs": [
    {
     "data": {
      "text/plain": [
       "[0,\n",
       " 1,\n",
       " 2,\n",
       " 3,\n",
       " 4,\n",
       " 5,\n",
       " 6,\n",
       " 7,\n",
       " 8,\n",
       " 9,\n",
       " 10,\n",
       " 11,\n",
       " 12,\n",
       " 13,\n",
       " 14,\n",
       " 15,\n",
       " 16,\n",
       " 17,\n",
       " 18,\n",
       " 19,\n",
       " 20,\n",
       " 21,\n",
       " 22,\n",
       " 23]"
      ]
     },
     "execution_count": 146,
     "metadata": {},
     "output_type": "execute_result"
    }
   ],
   "source": [
    "sorted(hours)"
   ]
  },
  {
   "cell_type": "code",
   "execution_count": 151,
   "id": "dfae0d2d",
   "metadata": {},
   "outputs": [
    {
     "ename": "TypeError",
     "evalue": "the dtypes of parameters x (object) and width (float64) are incompatible",
     "output_type": "error",
     "traceback": [
      "\u001b[0;31m---------------------------------------------------------------------------\u001b[0m",
      "\u001b[0;31mTypeError\u001b[0m                                 Traceback (most recent call last)",
      "\u001b[0;32m~/opt/anaconda3/lib/python3.8/site-packages/matplotlib/axes/_axes.py\u001b[0m in \u001b[0;36mbar\u001b[0;34m(self, x, height, width, bottom, align, **kwargs)\u001b[0m\n\u001b[1;32m   2459\u001b[0m                 \u001b[0;32mtry\u001b[0m\u001b[0;34m:\u001b[0m\u001b[0;34m\u001b[0m\u001b[0;34m\u001b[0m\u001b[0m\n\u001b[0;32m-> 2460\u001b[0;31m                     \u001b[0mleft\u001b[0m \u001b[0;34m=\u001b[0m \u001b[0mx\u001b[0m \u001b[0;34m-\u001b[0m \u001b[0mwidth\u001b[0m \u001b[0;34m/\u001b[0m \u001b[0;36m2\u001b[0m\u001b[0;34m\u001b[0m\u001b[0;34m\u001b[0m\u001b[0m\n\u001b[0m\u001b[1;32m   2461\u001b[0m                 \u001b[0;32mexcept\u001b[0m \u001b[0mTypeError\u001b[0m \u001b[0;32mas\u001b[0m \u001b[0me\u001b[0m\u001b[0;34m:\u001b[0m\u001b[0;34m\u001b[0m\u001b[0;34m\u001b[0m\u001b[0m\n",
      "\u001b[0;31mTypeError\u001b[0m: unsupported operand type(s) for -: 'set' and 'float'",
      "\nThe above exception was the direct cause of the following exception:\n",
      "\u001b[0;31mTypeError\u001b[0m                                 Traceback (most recent call last)",
      "\u001b[0;32m<ipython-input-151-5f9a2fab42a1>\u001b[0m in \u001b[0;36m<module>\u001b[0;34m\u001b[0m\n\u001b[0;32m----> 1\u001b[0;31m \u001b[0mplt\u001b[0m\u001b[0;34m.\u001b[0m\u001b[0mbar\u001b[0m\u001b[0;34m(\u001b[0m\u001b[0mx\u001b[0m\u001b[0;34m=\u001b[0m\u001b[0mhours\u001b[0m\u001b[0;34m,\u001b[0m\u001b[0mheight\u001b[0m\u001b[0;34m=\u001b[0m\u001b[0msales_hours\u001b[0m\u001b[0;34m)\u001b[0m\u001b[0;34m\u001b[0m\u001b[0;34m\u001b[0m\u001b[0m\n\u001b[0m\u001b[1;32m      2\u001b[0m \u001b[0mplt\u001b[0m\u001b[0;34m.\u001b[0m\u001b[0mxticks\u001b[0m\u001b[0;34m(\u001b[0m\u001b[0mhours\u001b[0m\u001b[0;34m,\u001b[0m\u001b[0mrotation\u001b[0m\u001b[0;34m=\u001b[0m\u001b[0;36m90\u001b[0m\u001b[0;34m,\u001b[0m\u001b[0msize\u001b[0m\u001b[0;34m=\u001b[0m\u001b[0;36m8\u001b[0m\u001b[0;34m)\u001b[0m\u001b[0;34m\u001b[0m\u001b[0;34m\u001b[0m\u001b[0m\n\u001b[1;32m      3\u001b[0m \u001b[0mplt\u001b[0m\u001b[0;34m.\u001b[0m\u001b[0mxlabel\u001b[0m\u001b[0;34m(\u001b[0m\u001b[0;34m'Hour'\u001b[0m\u001b[0;34m)\u001b[0m\u001b[0;34m\u001b[0m\u001b[0;34m\u001b[0m\u001b[0m\n\u001b[1;32m      4\u001b[0m \u001b[0mplt\u001b[0m\u001b[0;34m.\u001b[0m\u001b[0mylabel\u001b[0m\u001b[0;34m(\u001b[0m\u001b[0;34m'Sales_value(USD)'\u001b[0m\u001b[0;34m)\u001b[0m\u001b[0;34m\u001b[0m\u001b[0;34m\u001b[0m\u001b[0m\n\u001b[1;32m      5\u001b[0m \u001b[0mplt\u001b[0m\u001b[0;34m.\u001b[0m\u001b[0mshow\u001b[0m\u001b[0;34m(\u001b[0m\u001b[0;34m)\u001b[0m\u001b[0;34m\u001b[0m\u001b[0;34m\u001b[0m\u001b[0m\n",
      "\u001b[0;32m~/opt/anaconda3/lib/python3.8/site-packages/matplotlib/pyplot.py\u001b[0m in \u001b[0;36mbar\u001b[0;34m(x, height, width, bottom, align, data, **kwargs)\u001b[0m\n\u001b[1;32m   2485\u001b[0m         \u001b[0mx\u001b[0m\u001b[0;34m,\u001b[0m \u001b[0mheight\u001b[0m\u001b[0;34m,\u001b[0m \u001b[0mwidth\u001b[0m\u001b[0;34m=\u001b[0m\u001b[0;36m0.8\u001b[0m\u001b[0;34m,\u001b[0m \u001b[0mbottom\u001b[0m\u001b[0;34m=\u001b[0m\u001b[0;32mNone\u001b[0m\u001b[0;34m,\u001b[0m \u001b[0;34m*\u001b[0m\u001b[0;34m,\u001b[0m \u001b[0malign\u001b[0m\u001b[0;34m=\u001b[0m\u001b[0;34m'center'\u001b[0m\u001b[0;34m,\u001b[0m\u001b[0;34m\u001b[0m\u001b[0;34m\u001b[0m\u001b[0m\n\u001b[1;32m   2486\u001b[0m         data=None, **kwargs):\n\u001b[0;32m-> 2487\u001b[0;31m     return gca().bar(\n\u001b[0m\u001b[1;32m   2488\u001b[0m         \u001b[0mx\u001b[0m\u001b[0;34m,\u001b[0m \u001b[0mheight\u001b[0m\u001b[0;34m,\u001b[0m \u001b[0mwidth\u001b[0m\u001b[0;34m=\u001b[0m\u001b[0mwidth\u001b[0m\u001b[0;34m,\u001b[0m \u001b[0mbottom\u001b[0m\u001b[0;34m=\u001b[0m\u001b[0mbottom\u001b[0m\u001b[0;34m,\u001b[0m \u001b[0malign\u001b[0m\u001b[0;34m=\u001b[0m\u001b[0malign\u001b[0m\u001b[0;34m,\u001b[0m\u001b[0;34m\u001b[0m\u001b[0;34m\u001b[0m\u001b[0m\n\u001b[1;32m   2489\u001b[0m         **({\"data\": data} if data is not None else {}), **kwargs)\n",
      "\u001b[0;32m~/opt/anaconda3/lib/python3.8/site-packages/matplotlib/__init__.py\u001b[0m in \u001b[0;36minner\u001b[0;34m(ax, data, *args, **kwargs)\u001b[0m\n\u001b[1;32m   1445\u001b[0m     \u001b[0;32mdef\u001b[0m \u001b[0minner\u001b[0m\u001b[0;34m(\u001b[0m\u001b[0max\u001b[0m\u001b[0;34m,\u001b[0m \u001b[0;34m*\u001b[0m\u001b[0margs\u001b[0m\u001b[0;34m,\u001b[0m \u001b[0mdata\u001b[0m\u001b[0;34m=\u001b[0m\u001b[0;32mNone\u001b[0m\u001b[0;34m,\u001b[0m \u001b[0;34m**\u001b[0m\u001b[0mkwargs\u001b[0m\u001b[0;34m)\u001b[0m\u001b[0;34m:\u001b[0m\u001b[0;34m\u001b[0m\u001b[0;34m\u001b[0m\u001b[0m\n\u001b[1;32m   1446\u001b[0m         \u001b[0;32mif\u001b[0m \u001b[0mdata\u001b[0m \u001b[0;32mis\u001b[0m \u001b[0;32mNone\u001b[0m\u001b[0;34m:\u001b[0m\u001b[0;34m\u001b[0m\u001b[0;34m\u001b[0m\u001b[0m\n\u001b[0;32m-> 1447\u001b[0;31m             \u001b[0;32mreturn\u001b[0m \u001b[0mfunc\u001b[0m\u001b[0;34m(\u001b[0m\u001b[0max\u001b[0m\u001b[0;34m,\u001b[0m \u001b[0;34m*\u001b[0m\u001b[0mmap\u001b[0m\u001b[0;34m(\u001b[0m\u001b[0msanitize_sequence\u001b[0m\u001b[0;34m,\u001b[0m \u001b[0margs\u001b[0m\u001b[0;34m)\u001b[0m\u001b[0;34m,\u001b[0m \u001b[0;34m**\u001b[0m\u001b[0mkwargs\u001b[0m\u001b[0;34m)\u001b[0m\u001b[0;34m\u001b[0m\u001b[0;34m\u001b[0m\u001b[0m\n\u001b[0m\u001b[1;32m   1448\u001b[0m \u001b[0;34m\u001b[0m\u001b[0m\n\u001b[1;32m   1449\u001b[0m         \u001b[0mbound\u001b[0m \u001b[0;34m=\u001b[0m \u001b[0mnew_sig\u001b[0m\u001b[0;34m.\u001b[0m\u001b[0mbind\u001b[0m\u001b[0;34m(\u001b[0m\u001b[0max\u001b[0m\u001b[0;34m,\u001b[0m \u001b[0;34m*\u001b[0m\u001b[0margs\u001b[0m\u001b[0;34m,\u001b[0m \u001b[0;34m**\u001b[0m\u001b[0mkwargs\u001b[0m\u001b[0;34m)\u001b[0m\u001b[0;34m\u001b[0m\u001b[0;34m\u001b[0m\u001b[0m\n",
      "\u001b[0;32m~/opt/anaconda3/lib/python3.8/site-packages/matplotlib/axes/_axes.py\u001b[0m in \u001b[0;36mbar\u001b[0;34m(self, x, height, width, bottom, align, **kwargs)\u001b[0m\n\u001b[1;32m   2460\u001b[0m                     \u001b[0mleft\u001b[0m \u001b[0;34m=\u001b[0m \u001b[0mx\u001b[0m \u001b[0;34m-\u001b[0m \u001b[0mwidth\u001b[0m \u001b[0;34m/\u001b[0m \u001b[0;36m2\u001b[0m\u001b[0;34m\u001b[0m\u001b[0;34m\u001b[0m\u001b[0m\n\u001b[1;32m   2461\u001b[0m                 \u001b[0;32mexcept\u001b[0m \u001b[0mTypeError\u001b[0m \u001b[0;32mas\u001b[0m \u001b[0me\u001b[0m\u001b[0;34m:\u001b[0m\u001b[0;34m\u001b[0m\u001b[0;34m\u001b[0m\u001b[0m\n\u001b[0;32m-> 2462\u001b[0;31m                     raise TypeError(f'the dtypes of parameters x ({x.dtype}) '\n\u001b[0m\u001b[1;32m   2463\u001b[0m                                     \u001b[0;34mf'and width ({width.dtype}) '\u001b[0m\u001b[0;34m\u001b[0m\u001b[0;34m\u001b[0m\u001b[0m\n\u001b[1;32m   2464\u001b[0m                                     f'are incompatible') from e\n",
      "\u001b[0;31mTypeError\u001b[0m: the dtypes of parameters x (object) and width (float64) are incompatible"
     ]
    },
    {
     "data": {
      "image/png": "[encoded data removed]",
      "text/plain": [
       "<Figure size 432x288 with 1 Axes>"
      ]
     },
     "metadata": {
      "needs_background": "light"
     },
     "output_type": "display_data"
    }
   ],
   "source": [
    "plt.bar(x=hours,height=sales_hours)\n",
    "plt.xticks(hours,rotation=90,size=8)\n",
    "plt.xlabel('Hour')\n",
    "plt.ylabel('Sales_value(USD)')\n",
    "plt.show()"
   ]
  }
 ],
 "metadata": {
  "kernelspec": {
   "display_name": "Python 3",
   "language": "python",
   "name": "python3"
  },
  "language_info": {
   "codemirror_mode": {
    "name": "ipython",
    "version": 3
   },
   "file_extension": ".py",
   "mimetype": "text/x-python",
   "name": "python",
   "nbconvert_exporter": "python",
   "pygments_lexer": "ipython3",
   "version": "3.8.8"
  }
 },
 "nbformat": 4,
 "nbformat_minor": 5
}
