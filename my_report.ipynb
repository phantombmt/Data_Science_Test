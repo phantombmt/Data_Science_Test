{
 "cells": [
  {
   "cell_type": "markdown",
   "id": "1b53a543",
   "metadata": {},
   "source": [
    "## 1. Import packages and load data "
   ]
  },
  {
   "cell_type": "code",
   "execution_count": 1,
   "id": "5bea749f",
   "metadata": {},
   "outputs": [],
   "source": [
    "import pandas as pd\n",
    "import os \n",
    "#os => operating system\n",
    "import matplotlib.pyplot as plt"
   ]
  },
  {
   "cell_type": "code",
   "execution_count": 2,
   "id": "275c7536",
   "metadata": {},
   "outputs": [
    {
     "data": {
      "text/html": [
       "<div>\n",
       "<style scoped>\n",
       "    .dataframe tbody tr th:only-of-type {\n",
       "        vertical-align: middle;\n",
       "    }\n",
       "\n",
       "    .dataframe tbody tr th {\n",
       "        vertical-align: top;\n",
       "    }\n",
       "\n",
       "    .dataframe thead th {\n",
       "        text-align: right;\n",
       "    }\n",
       "</style>\n",
       "<table border=\"1\" class=\"dataframe\">\n",
       "  <thead>\n",
       "    <tr style=\"text-align: right;\">\n",
       "      <th></th>\n",
       "      <th>Order ID</th>\n",
       "      <th>Product</th>\n",
       "      <th>Quantity Ordered</th>\n",
       "      <th>Price Each</th>\n",
       "      <th>Order Date</th>\n",
       "      <th>Purchase Address</th>\n",
       "    </tr>\n",
       "  </thead>\n",
       "  <tbody>\n",
       "    <tr>\n",
       "      <th>0</th>\n",
       "      <td>141234</td>\n",
       "      <td>iPhone</td>\n",
       "      <td>1</td>\n",
       "      <td>700</td>\n",
       "      <td>01/22/19 21:25</td>\n",
       "      <td>944 Walnut St, Boston, MA 02215</td>\n",
       "    </tr>\n",
       "    <tr>\n",
       "      <th>1</th>\n",
       "      <td>141235</td>\n",
       "      <td>Lightning Charging Cable</td>\n",
       "      <td>1</td>\n",
       "      <td>14.95</td>\n",
       "      <td>01/28/19 14:15</td>\n",
       "      <td>185 Maple St, Portland, OR 97035</td>\n",
       "    </tr>\n",
       "    <tr>\n",
       "      <th>2</th>\n",
       "      <td>141236</td>\n",
       "      <td>Wired Headphones</td>\n",
       "      <td>2</td>\n",
       "      <td>11.99</td>\n",
       "      <td>01/17/19 13:33</td>\n",
       "      <td>538 Adams St, San Francisco, CA 94016</td>\n",
       "    </tr>\n",
       "    <tr>\n",
       "      <th>3</th>\n",
       "      <td>141237</td>\n",
       "      <td>27in FHD Monitor</td>\n",
       "      <td>1</td>\n",
       "      <td>149.99</td>\n",
       "      <td>01/05/19 20:33</td>\n",
       "      <td>738 10th St, Los Angeles, CA 90001</td>\n",
       "    </tr>\n",
       "    <tr>\n",
       "      <th>4</th>\n",
       "      <td>141238</td>\n",
       "      <td>Wired Headphones</td>\n",
       "      <td>1</td>\n",
       "      <td>11.99</td>\n",
       "      <td>01/25/19 11:59</td>\n",
       "      <td>387 10th St, Austin, TX 73301</td>\n",
       "    </tr>\n",
       "  </tbody>\n",
       "</table>\n",
       "</div>"
      ],
      "text/plain": [
       "  Order ID                   Product Quantity Ordered Price Each  \\\n",
       "0   141234                    iPhone                1        700   \n",
       "1   141235  Lightning Charging Cable                1      14.95   \n",
       "2   141236          Wired Headphones                2      11.99   \n",
       "3   141237          27in FHD Monitor                1     149.99   \n",
       "4   141238          Wired Headphones                1      11.99   \n",
       "\n",
       "       Order Date                       Purchase Address  \n",
       "0  01/22/19 21:25        944 Walnut St, Boston, MA 02215  \n",
       "1  01/28/19 14:15       185 Maple St, Portland, OR 97035  \n",
       "2  01/17/19 13:33  538 Adams St, San Francisco, CA 94016  \n",
       "3  01/05/19 20:33     738 10th St, Los Angeles, CA 90001  \n",
       "4  01/25/19 11:59          387 10th St, Austin, TX 73301  "
      ]
     },
     "execution_count": 2,
     "metadata": {},
     "output_type": "execute_result"
    }
   ],
   "source": [
    "path = '/Users/antonytran/Documents/code/test_1_data_science/Sales-Reporting-main/data/'\n",
    "dataframe = pd.read_csv(path + 'sales2019_1.csv')\n",
    "dataframe.head()"
   ]
  },
  {
   "cell_type": "markdown",
   "id": "b13ffc6f",
   "metadata": {},
   "source": [
    "# 2.Clean and preprocess data"
   ]
  },
  {
   "cell_type": "raw",
   "id": "2136043f",
   "metadata": {},
   "source": [
    "## 2.1 Get all the direction of 12 month data"
   ]
  },
  {
   "cell_type": "code",
   "execution_count": 3,
   "id": "b9a35cca",
   "metadata": {},
   "outputs": [
    {
     "data": {
      "text/plain": [
       "['.DS_Store',\n",
       " 'sales2019_3.csv',\n",
       " 'sales2019_2.csv',\n",
       " 'sales2019_1.csv',\n",
       " 'sales2019_5.csv',\n",
       " 'sales2019_4.csv',\n",
       " 'sales2019_12.csv',\n",
       " 'sales2019_10.csv',\n",
       " 'sales2019_6.csv',\n",
       " 'sales2019_7.csv',\n",
       " 'sales2019_11.csv',\n",
       " 'sales2019_9.csv',\n",
       " 'sales2019_8.csv']"
      ]
     },
     "execution_count": 3,
     "metadata": {},
     "output_type": "execute_result"
    }
   ],
   "source": [
    "os.listdir(path)"
   ]
  },
  {
   "cell_type": "code",
   "execution_count": 4,
   "id": "bcacf5cd",
   "metadata": {},
   "outputs": [
    {
     "data": {
      "text/html": [
       "<div>\n",
       "<style scoped>\n",
       "    .dataframe tbody tr th:only-of-type {\n",
       "        vertical-align: middle;\n",
       "    }\n",
       "\n",
       "    .dataframe tbody tr th {\n",
       "        vertical-align: top;\n",
       "    }\n",
       "\n",
       "    .dataframe thead th {\n",
       "        text-align: right;\n",
       "    }\n",
       "</style>\n",
       "<table border=\"1\" class=\"dataframe\">\n",
       "  <thead>\n",
       "    <tr style=\"text-align: right;\">\n",
       "      <th></th>\n",
       "      <th>Order ID</th>\n",
       "      <th>Product</th>\n",
       "      <th>Quantity Ordered</th>\n",
       "      <th>Price Each</th>\n",
       "      <th>Order Date</th>\n",
       "      <th>Purchase Address</th>\n",
       "    </tr>\n",
       "  </thead>\n",
       "  <tbody>\n",
       "    <tr>\n",
       "      <th>0</th>\n",
       "      <td>162009</td>\n",
       "      <td>iPhone</td>\n",
       "      <td>1</td>\n",
       "      <td>700</td>\n",
       "      <td>03/28/19 20:59</td>\n",
       "      <td>942 Church St, Austin, TX 73301</td>\n",
       "    </tr>\n",
       "    <tr>\n",
       "      <th>1</th>\n",
       "      <td>162009</td>\n",
       "      <td>Lightning Charging Cable</td>\n",
       "      <td>1</td>\n",
       "      <td>14.95</td>\n",
       "      <td>03/28/19 20:59</td>\n",
       "      <td>942 Church St, Austin, TX 73301</td>\n",
       "    </tr>\n",
       "    <tr>\n",
       "      <th>2</th>\n",
       "      <td>162009</td>\n",
       "      <td>Wired Headphones</td>\n",
       "      <td>2</td>\n",
       "      <td>11.99</td>\n",
       "      <td>03/28/19 20:59</td>\n",
       "      <td>942 Church St, Austin, TX 73301</td>\n",
       "    </tr>\n",
       "    <tr>\n",
       "      <th>3</th>\n",
       "      <td>162010</td>\n",
       "      <td>Bose SoundSport Headphones</td>\n",
       "      <td>1</td>\n",
       "      <td>99.99</td>\n",
       "      <td>03/17/19 05:39</td>\n",
       "      <td>261 10th St, San Francisco, CA 94016</td>\n",
       "    </tr>\n",
       "    <tr>\n",
       "      <th>4</th>\n",
       "      <td>162011</td>\n",
       "      <td>34in Ultrawide Monitor</td>\n",
       "      <td>1</td>\n",
       "      <td>379.99</td>\n",
       "      <td>03/10/19 00:01</td>\n",
       "      <td>764 13th St, San Francisco, CA 94016</td>\n",
       "    </tr>\n",
       "    <tr>\n",
       "      <th>...</th>\n",
       "      <td>...</td>\n",
       "      <td>...</td>\n",
       "      <td>...</td>\n",
       "      <td>...</td>\n",
       "      <td>...</td>\n",
       "      <td>...</td>\n",
       "    </tr>\n",
       "    <tr>\n",
       "      <th>12006</th>\n",
       "      <td>248146</td>\n",
       "      <td>Bose SoundSport Headphones</td>\n",
       "      <td>1</td>\n",
       "      <td>99.99</td>\n",
       "      <td>08/29/19 22:19</td>\n",
       "      <td>868 Hickory St, San Francisco, CA 94016</td>\n",
       "    </tr>\n",
       "    <tr>\n",
       "      <th>12007</th>\n",
       "      <td>248147</td>\n",
       "      <td>AAA Batteries (4-pack)</td>\n",
       "      <td>3</td>\n",
       "      <td>2.99</td>\n",
       "      <td>08/31/19 16:26</td>\n",
       "      <td>206 Lakeview St, Boston, MA 02215</td>\n",
       "    </tr>\n",
       "    <tr>\n",
       "      <th>12008</th>\n",
       "      <td>248148</td>\n",
       "      <td>AA Batteries (4-pack)</td>\n",
       "      <td>1</td>\n",
       "      <td>3.84</td>\n",
       "      <td>08/02/19 07:25</td>\n",
       "      <td>568 13th St, Seattle, WA 98101</td>\n",
       "    </tr>\n",
       "    <tr>\n",
       "      <th>12009</th>\n",
       "      <td>248149</td>\n",
       "      <td>USB-C Charging Cable</td>\n",
       "      <td>1</td>\n",
       "      <td>11.95</td>\n",
       "      <td>08/08/19 12:10</td>\n",
       "      <td>495 Walnut St, San Francisco, CA 94016</td>\n",
       "    </tr>\n",
       "    <tr>\n",
       "      <th>12010</th>\n",
       "      <td>248150</td>\n",
       "      <td>AA Batteries (4-pack)</td>\n",
       "      <td>1</td>\n",
       "      <td>3.84</td>\n",
       "      <td>08/16/19 08:13</td>\n",
       "      <td>738 Park St, Los Angeles, CA 90001</td>\n",
       "    </tr>\n",
       "  </tbody>\n",
       "</table>\n",
       "<p>186850 rows × 6 columns</p>\n",
       "</div>"
      ],
      "text/plain": [
       "      Order ID                     Product Quantity Ordered Price Each  \\\n",
       "0       162009                      iPhone                1        700   \n",
       "1       162009    Lightning Charging Cable                1      14.95   \n",
       "2       162009            Wired Headphones                2      11.99   \n",
       "3       162010  Bose SoundSport Headphones                1      99.99   \n",
       "4       162011      34in Ultrawide Monitor                1     379.99   \n",
       "...        ...                         ...              ...        ...   \n",
       "12006   248146  Bose SoundSport Headphones                1      99.99   \n",
       "12007   248147      AAA Batteries (4-pack)                3       2.99   \n",
       "12008   248148       AA Batteries (4-pack)                1       3.84   \n",
       "12009   248149        USB-C Charging Cable                1      11.95   \n",
       "12010   248150       AA Batteries (4-pack)                1       3.84   \n",
       "\n",
       "           Order Date                         Purchase Address  \n",
       "0      03/28/19 20:59          942 Church St, Austin, TX 73301  \n",
       "1      03/28/19 20:59          942 Church St, Austin, TX 73301  \n",
       "2      03/28/19 20:59          942 Church St, Austin, TX 73301  \n",
       "3      03/17/19 05:39     261 10th St, San Francisco, CA 94016  \n",
       "4      03/10/19 00:01     764 13th St, San Francisco, CA 94016  \n",
       "...               ...                                      ...  \n",
       "12006  08/29/19 22:19  868 Hickory St, San Francisco, CA 94016  \n",
       "12007  08/31/19 16:26        206 Lakeview St, Boston, MA 02215  \n",
       "12008  08/02/19 07:25           568 13th St, Seattle, WA 98101  \n",
       "12009  08/08/19 12:10   495 Walnut St, San Francisco, CA 94016  \n",
       "12010  08/16/19 08:13       738 Park St, Los Angeles, CA 90001  \n",
       "\n",
       "[186850 rows x 6 columns]"
      ]
     },
     "execution_count": 4,
     "metadata": {},
     "output_type": "execute_result"
    }
   ],
   "source": [
    "#We don't need .DS_Store ==> get only the file has endswith = .csv\n",
    "#Merge data : pd.concat(dataframe)\n",
    "frames = []\n",
    "all_len = 0\n",
    "for i in os.listdir(path):\n",
    "    if i.endswith('.csv'):\n",
    "        file_path = path + i\n",
    "        df= pd.read_csv(file_path)\n",
    "        frames.append(df)\n",
    "        result = pd.concat(frames)\n",
    "        #Check if merge succeed or not: sum all the length of all 12 file \n",
    "        len_1f = len(df.index)\n",
    "        all_len= all_len + len_1f\n",
    "df_12month = result\n",
    "df_12month.to_csv('sale_all_12_month.csv',index = False)\n",
    "df_12month"
   ]
  },
  {
   "cell_type": "code",
   "execution_count": 5,
   "id": "7883a02c",
   "metadata": {},
   "outputs": [
    {
     "name": "stdout",
     "output_type": "stream",
     "text": [
      "186850\n"
     ]
    }
   ],
   "source": [
    "#The same length 186850 ==> merge succeed\n",
    "print(all_len)"
   ]
  },
  {
   "cell_type": "markdown",
   "id": "501a7f3a",
   "metadata": {},
   "source": [
    "## 2.2 Add 'Month' column"
   ]
  },
  {
   "cell_type": "code",
   "execution_count": 6,
   "id": "c04a70a8",
   "metadata": {},
   "outputs": [
    {
     "data": {
      "text/html": [
       "<div>\n",
       "<style scoped>\n",
       "    .dataframe tbody tr th:only-of-type {\n",
       "        vertical-align: middle;\n",
       "    }\n",
       "\n",
       "    .dataframe tbody tr th {\n",
       "        vertical-align: top;\n",
       "    }\n",
       "\n",
       "    .dataframe thead th {\n",
       "        text-align: right;\n",
       "    }\n",
       "</style>\n",
       "<table border=\"1\" class=\"dataframe\">\n",
       "  <thead>\n",
       "    <tr style=\"text-align: right;\">\n",
       "      <th></th>\n",
       "      <th>Order ID</th>\n",
       "      <th>Product</th>\n",
       "      <th>Quantity Ordered</th>\n",
       "      <th>Price Each</th>\n",
       "      <th>Order Date</th>\n",
       "      <th>Purchase Address</th>\n",
       "      <th>Month</th>\n",
       "    </tr>\n",
       "  </thead>\n",
       "  <tbody>\n",
       "    <tr>\n",
       "      <th>0</th>\n",
       "      <td>162009</td>\n",
       "      <td>iPhone</td>\n",
       "      <td>1</td>\n",
       "      <td>700</td>\n",
       "      <td>03/28/19 20:59</td>\n",
       "      <td>942 Church St, Austin, TX 73301</td>\n",
       "      <td></td>\n",
       "    </tr>\n",
       "    <tr>\n",
       "      <th>1</th>\n",
       "      <td>162009</td>\n",
       "      <td>Lightning Charging Cable</td>\n",
       "      <td>1</td>\n",
       "      <td>14.95</td>\n",
       "      <td>03/28/19 20:59</td>\n",
       "      <td>942 Church St, Austin, TX 73301</td>\n",
       "      <td></td>\n",
       "    </tr>\n",
       "    <tr>\n",
       "      <th>2</th>\n",
       "      <td>162009</td>\n",
       "      <td>Wired Headphones</td>\n",
       "      <td>2</td>\n",
       "      <td>11.99</td>\n",
       "      <td>03/28/19 20:59</td>\n",
       "      <td>942 Church St, Austin, TX 73301</td>\n",
       "      <td></td>\n",
       "    </tr>\n",
       "    <tr>\n",
       "      <th>3</th>\n",
       "      <td>162010</td>\n",
       "      <td>Bose SoundSport Headphones</td>\n",
       "      <td>1</td>\n",
       "      <td>99.99</td>\n",
       "      <td>03/17/19 05:39</td>\n",
       "      <td>261 10th St, San Francisco, CA 94016</td>\n",
       "      <td></td>\n",
       "    </tr>\n",
       "    <tr>\n",
       "      <th>4</th>\n",
       "      <td>162011</td>\n",
       "      <td>34in Ultrawide Monitor</td>\n",
       "      <td>1</td>\n",
       "      <td>379.99</td>\n",
       "      <td>03/10/19 00:01</td>\n",
       "      <td>764 13th St, San Francisco, CA 94016</td>\n",
       "      <td></td>\n",
       "    </tr>\n",
       "  </tbody>\n",
       "</table>\n",
       "</div>"
      ],
      "text/plain": [
       "  Order ID                     Product Quantity Ordered Price Each  \\\n",
       "0   162009                      iPhone                1        700   \n",
       "1   162009    Lightning Charging Cable                1      14.95   \n",
       "2   162009            Wired Headphones                2      11.99   \n",
       "3   162010  Bose SoundSport Headphones                1      99.99   \n",
       "4   162011      34in Ultrawide Monitor                1     379.99   \n",
       "\n",
       "       Order Date                      Purchase Address Month  \n",
       "0  03/28/19 20:59       942 Church St, Austin, TX 73301        \n",
       "1  03/28/19 20:59       942 Church St, Austin, TX 73301        \n",
       "2  03/28/19 20:59       942 Church St, Austin, TX 73301        \n",
       "3  03/17/19 05:39  261 10th St, San Francisco, CA 94016        \n",
       "4  03/10/19 00:01  764 13th St, San Francisco, CA 94016        "
      ]
     },
     "execution_count": 6,
     "metadata": {},
     "output_type": "execute_result"
    }
   ],
   "source": [
    "#del df_12month['info']\n",
    "df_12month['Month']=''\n",
    "df_12month.head()"
   ]
  },
  {
   "cell_type": "markdown",
   "id": "7825cb35",
   "metadata": {},
   "source": [
    "### Slice substring 'month in Order Date column' to get only 'month' "
   ]
  },
  {
   "cell_type": "code",
   "execution_count": 7,
   "id": "ab2b0d0a",
   "metadata": {},
   "outputs": [
    {
     "data": {
      "text/plain": [
       "0        03/28/19 20:59\n",
       "1        03/28/19 20:59\n",
       "2        03/28/19 20:59\n",
       "3        03/17/19 05:39\n",
       "4        03/10/19 00:01\n",
       "              ...      \n",
       "12006    08/29/19 22:19\n",
       "12007    08/31/19 16:26\n",
       "12008    08/02/19 07:25\n",
       "12009    08/08/19 12:10\n",
       "12010    08/16/19 08:13\n",
       "Name: Order Date, Length: 186850, dtype: object"
      ]
     },
     "execution_count": 7,
     "metadata": {},
     "output_type": "execute_result"
    }
   ],
   "source": [
    "df_12month['Order Date']"
   ]
  },
  {
   "cell_type": "code",
   "execution_count": 8,
   "id": "759d9179",
   "metadata": {},
   "outputs": [
    {
     "data": {
      "text/plain": [
       "0        03\n",
       "1        03\n",
       "2        03\n",
       "3        03\n",
       "4        03\n",
       "         ..\n",
       "12006    08\n",
       "12007    08\n",
       "12008    08\n",
       "12009    08\n",
       "12010    08\n",
       "Name: Order Date, Length: 186850, dtype: object"
      ]
     },
     "execution_count": 8,
     "metadata": {},
     "output_type": "execute_result"
    }
   ],
   "source": [
    "df_12month['Order Date'].str.slice(start=0,stop=2,step=1)\n",
    "#or df_12month['Order Date'].str[0:2] ok too"
   ]
  },
  {
   "cell_type": "code",
   "execution_count": 9,
   "id": "1199139b",
   "metadata": {},
   "outputs": [
    {
     "data": {
      "text/html": [
       "<div>\n",
       "<style scoped>\n",
       "    .dataframe tbody tr th:only-of-type {\n",
       "        vertical-align: middle;\n",
       "    }\n",
       "\n",
       "    .dataframe tbody tr th {\n",
       "        vertical-align: top;\n",
       "    }\n",
       "\n",
       "    .dataframe thead th {\n",
       "        text-align: right;\n",
       "    }\n",
       "</style>\n",
       "<table border=\"1\" class=\"dataframe\">\n",
       "  <thead>\n",
       "    <tr style=\"text-align: right;\">\n",
       "      <th></th>\n",
       "      <th>Order ID</th>\n",
       "      <th>Product</th>\n",
       "      <th>Quantity Ordered</th>\n",
       "      <th>Price Each</th>\n",
       "      <th>Order Date</th>\n",
       "      <th>Purchase Address</th>\n",
       "      <th>Month</th>\n",
       "    </tr>\n",
       "  </thead>\n",
       "  <tbody>\n",
       "    <tr>\n",
       "      <th>0</th>\n",
       "      <td>162009</td>\n",
       "      <td>iPhone</td>\n",
       "      <td>1</td>\n",
       "      <td>700</td>\n",
       "      <td>03/28/19 20:59</td>\n",
       "      <td>942 Church St, Austin, TX 73301</td>\n",
       "      <td>03</td>\n",
       "    </tr>\n",
       "    <tr>\n",
       "      <th>1</th>\n",
       "      <td>162009</td>\n",
       "      <td>Lightning Charging Cable</td>\n",
       "      <td>1</td>\n",
       "      <td>14.95</td>\n",
       "      <td>03/28/19 20:59</td>\n",
       "      <td>942 Church St, Austin, TX 73301</td>\n",
       "      <td>03</td>\n",
       "    </tr>\n",
       "    <tr>\n",
       "      <th>2</th>\n",
       "      <td>162009</td>\n",
       "      <td>Wired Headphones</td>\n",
       "      <td>2</td>\n",
       "      <td>11.99</td>\n",
       "      <td>03/28/19 20:59</td>\n",
       "      <td>942 Church St, Austin, TX 73301</td>\n",
       "      <td>03</td>\n",
       "    </tr>\n",
       "    <tr>\n",
       "      <th>3</th>\n",
       "      <td>162010</td>\n",
       "      <td>Bose SoundSport Headphones</td>\n",
       "      <td>1</td>\n",
       "      <td>99.99</td>\n",
       "      <td>03/17/19 05:39</td>\n",
       "      <td>261 10th St, San Francisco, CA 94016</td>\n",
       "      <td>03</td>\n",
       "    </tr>\n",
       "    <tr>\n",
       "      <th>4</th>\n",
       "      <td>162011</td>\n",
       "      <td>34in Ultrawide Monitor</td>\n",
       "      <td>1</td>\n",
       "      <td>379.99</td>\n",
       "      <td>03/10/19 00:01</td>\n",
       "      <td>764 13th St, San Francisco, CA 94016</td>\n",
       "      <td>03</td>\n",
       "    </tr>\n",
       "  </tbody>\n",
       "</table>\n",
       "</div>"
      ],
      "text/plain": [
       "  Order ID                     Product Quantity Ordered Price Each  \\\n",
       "0   162009                      iPhone                1        700   \n",
       "1   162009    Lightning Charging Cable                1      14.95   \n",
       "2   162009            Wired Headphones                2      11.99   \n",
       "3   162010  Bose SoundSport Headphones                1      99.99   \n",
       "4   162011      34in Ultrawide Monitor                1     379.99   \n",
       "\n",
       "       Order Date                      Purchase Address Month  \n",
       "0  03/28/19 20:59       942 Church St, Austin, TX 73301    03  \n",
       "1  03/28/19 20:59       942 Church St, Austin, TX 73301    03  \n",
       "2  03/28/19 20:59       942 Church St, Austin, TX 73301    03  \n",
       "3  03/17/19 05:39  261 10th St, San Francisco, CA 94016    03  \n",
       "4  03/10/19 00:01  764 13th St, San Francisco, CA 94016    03  "
      ]
     },
     "execution_count": 9,
     "metadata": {},
     "output_type": "execute_result"
    }
   ],
   "source": [
    "df_12month['Month']= df_12month['Order Date'].str.slice(start=0,stop=2,step=1)\n",
    "df_12month.head()"
   ]
  },
  {
   "cell_type": "code",
   "execution_count": 10,
   "id": "0d805952",
   "metadata": {},
   "outputs": [
    {
     "name": "stdout",
     "output_type": "stream",
     "text": [
      "{nan, '12', '07', '04', '10', '11', 'Or', '01', '02', '05', '03', '06', '08', '09'}\n"
     ]
    }
   ],
   "source": [
    "### check and see 'nan' 'Or'\n",
    "print(set(df_12month['Month']))"
   ]
  },
  {
   "cell_type": "markdown",
   "id": "ce788d2f",
   "metadata": {},
   "source": [
    "## Get rid of 'nan' & 'Or' value"
   ]
  },
  {
   "cell_type": "code",
   "execution_count": 11,
   "id": "abddbcf3",
   "metadata": {},
   "outputs": [
    {
     "data": {
      "text/html": [
       "<div>\n",
       "<style scoped>\n",
       "    .dataframe tbody tr th:only-of-type {\n",
       "        vertical-align: middle;\n",
       "    }\n",
       "\n",
       "    .dataframe tbody tr th {\n",
       "        vertical-align: top;\n",
       "    }\n",
       "\n",
       "    .dataframe thead th {\n",
       "        text-align: right;\n",
       "    }\n",
       "</style>\n",
       "<table border=\"1\" class=\"dataframe\">\n",
       "  <thead>\n",
       "    <tr style=\"text-align: right;\">\n",
       "      <th></th>\n",
       "      <th>Order ID</th>\n",
       "      <th>Product</th>\n",
       "      <th>Quantity Ordered</th>\n",
       "      <th>Price Each</th>\n",
       "      <th>Order Date</th>\n",
       "      <th>Purchase Address</th>\n",
       "      <th>Month</th>\n",
       "    </tr>\n",
       "  </thead>\n",
       "  <tbody>\n",
       "    <tr>\n",
       "      <th>0</th>\n",
       "      <td>162009</td>\n",
       "      <td>iPhone</td>\n",
       "      <td>1</td>\n",
       "      <td>700</td>\n",
       "      <td>03/28/19 20:59</td>\n",
       "      <td>942 Church St, Austin, TX 73301</td>\n",
       "      <td>03</td>\n",
       "    </tr>\n",
       "    <tr>\n",
       "      <th>1</th>\n",
       "      <td>162009</td>\n",
       "      <td>Lightning Charging Cable</td>\n",
       "      <td>1</td>\n",
       "      <td>14.95</td>\n",
       "      <td>03/28/19 20:59</td>\n",
       "      <td>942 Church St, Austin, TX 73301</td>\n",
       "      <td>03</td>\n",
       "    </tr>\n",
       "    <tr>\n",
       "      <th>2</th>\n",
       "      <td>162009</td>\n",
       "      <td>Wired Headphones</td>\n",
       "      <td>2</td>\n",
       "      <td>11.99</td>\n",
       "      <td>03/28/19 20:59</td>\n",
       "      <td>942 Church St, Austin, TX 73301</td>\n",
       "      <td>03</td>\n",
       "    </tr>\n",
       "    <tr>\n",
       "      <th>3</th>\n",
       "      <td>162010</td>\n",
       "      <td>Bose SoundSport Headphones</td>\n",
       "      <td>1</td>\n",
       "      <td>99.99</td>\n",
       "      <td>03/17/19 05:39</td>\n",
       "      <td>261 10th St, San Francisco, CA 94016</td>\n",
       "      <td>03</td>\n",
       "    </tr>\n",
       "    <tr>\n",
       "      <th>4</th>\n",
       "      <td>162011</td>\n",
       "      <td>34in Ultrawide Monitor</td>\n",
       "      <td>1</td>\n",
       "      <td>379.99</td>\n",
       "      <td>03/10/19 00:01</td>\n",
       "      <td>764 13th St, San Francisco, CA 94016</td>\n",
       "      <td>03</td>\n",
       "    </tr>\n",
       "  </tbody>\n",
       "</table>\n",
       "</div>"
      ],
      "text/plain": [
       "  Order ID                     Product Quantity Ordered Price Each  \\\n",
       "0   162009                      iPhone                1        700   \n",
       "1   162009    Lightning Charging Cable                1      14.95   \n",
       "2   162009            Wired Headphones                2      11.99   \n",
       "3   162010  Bose SoundSport Headphones                1      99.99   \n",
       "4   162011      34in Ultrawide Monitor                1     379.99   \n",
       "\n",
       "       Order Date                      Purchase Address Month  \n",
       "0  03/28/19 20:59       942 Church St, Austin, TX 73301    03  \n",
       "1  03/28/19 20:59       942 Church St, Austin, TX 73301    03  \n",
       "2  03/28/19 20:59       942 Church St, Austin, TX 73301    03  \n",
       "3  03/17/19 05:39  261 10th St, San Francisco, CA 94016    03  \n",
       "4  03/10/19 00:01  764 13th St, San Francisco, CA 94016    03  "
      ]
     },
     "execution_count": 11,
     "metadata": {},
     "output_type": "execute_result"
    }
   ],
   "source": [
    "#find nan index : df_12month[df_12month['Month']=='nan']\n",
    "#delete all the row that don't have 'nan' value (mean 'Order Date' have no value) \n",
    "df_12month = df_12month.dropna(how='all')\n",
    "df_12month.head()"
   ]
  },
  {
   "cell_type": "code",
   "execution_count": 12,
   "id": "6df27ef2",
   "metadata": {},
   "outputs": [
    {
     "name": "stdout",
     "output_type": "stream",
     "text": [
      "{'12', '07', '04', '10', '11', 'Or', '01', '02', '05', '03', '06', '08', '09'}\n"
     ]
    }
   ],
   "source": [
    "print(set(df_12month['Month']))"
   ]
  },
  {
   "cell_type": "code",
   "execution_count": 13,
   "id": "9cb7ec97",
   "metadata": {},
   "outputs": [
    {
     "data": {
      "text/html": [
       "<div>\n",
       "<style scoped>\n",
       "    .dataframe tbody tr th:only-of-type {\n",
       "        vertical-align: middle;\n",
       "    }\n",
       "\n",
       "    .dataframe tbody tr th {\n",
       "        vertical-align: top;\n",
       "    }\n",
       "\n",
       "    .dataframe thead th {\n",
       "        text-align: right;\n",
       "    }\n",
       "</style>\n",
       "<table border=\"1\" class=\"dataframe\">\n",
       "  <thead>\n",
       "    <tr style=\"text-align: right;\">\n",
       "      <th></th>\n",
       "      <th>Order ID</th>\n",
       "      <th>Product</th>\n",
       "      <th>Quantity Ordered</th>\n",
       "      <th>Price Each</th>\n",
       "      <th>Order Date</th>\n",
       "      <th>Purchase Address</th>\n",
       "      <th>Month</th>\n",
       "    </tr>\n",
       "  </thead>\n",
       "  <tbody>\n",
       "    <tr>\n",
       "      <th>433</th>\n",
       "      <td>Order ID</td>\n",
       "      <td>Product</td>\n",
       "      <td>Quantity Ordered</td>\n",
       "      <td>Price Each</td>\n",
       "      <td>Order Date</td>\n",
       "      <td>Purchase Address</td>\n",
       "      <td>Or</td>\n",
       "    </tr>\n",
       "    <tr>\n",
       "      <th>864</th>\n",
       "      <td>Order ID</td>\n",
       "      <td>Product</td>\n",
       "      <td>Quantity Ordered</td>\n",
       "      <td>Price Each</td>\n",
       "      <td>Order Date</td>\n",
       "      <td>Purchase Address</td>\n",
       "      <td>Or</td>\n",
       "    </tr>\n",
       "    <tr>\n",
       "      <th>930</th>\n",
       "      <td>Order ID</td>\n",
       "      <td>Product</td>\n",
       "      <td>Quantity Ordered</td>\n",
       "      <td>Price Each</td>\n",
       "      <td>Order Date</td>\n",
       "      <td>Purchase Address</td>\n",
       "      <td>Or</td>\n",
       "    </tr>\n",
       "    <tr>\n",
       "      <th>1979</th>\n",
       "      <td>Order ID</td>\n",
       "      <td>Product</td>\n",
       "      <td>Quantity Ordered</td>\n",
       "      <td>Price Each</td>\n",
       "      <td>Order Date</td>\n",
       "      <td>Purchase Address</td>\n",
       "      <td>Or</td>\n",
       "    </tr>\n",
       "    <tr>\n",
       "      <th>2032</th>\n",
       "      <td>Order ID</td>\n",
       "      <td>Product</td>\n",
       "      <td>Quantity Ordered</td>\n",
       "      <td>Price Each</td>\n",
       "      <td>Order Date</td>\n",
       "      <td>Purchase Address</td>\n",
       "      <td>Or</td>\n",
       "    </tr>\n",
       "    <tr>\n",
       "      <th>...</th>\n",
       "      <td>...</td>\n",
       "      <td>...</td>\n",
       "      <td>...</td>\n",
       "      <td>...</td>\n",
       "      <td>...</td>\n",
       "      <td>...</td>\n",
       "      <td>...</td>\n",
       "    </tr>\n",
       "    <tr>\n",
       "      <th>9605</th>\n",
       "      <td>Order ID</td>\n",
       "      <td>Product</td>\n",
       "      <td>Quantity Ordered</td>\n",
       "      <td>Price Each</td>\n",
       "      <td>Order Date</td>\n",
       "      <td>Purchase Address</td>\n",
       "      <td>Or</td>\n",
       "    </tr>\n",
       "    <tr>\n",
       "      <th>10217</th>\n",
       "      <td>Order ID</td>\n",
       "      <td>Product</td>\n",
       "      <td>Quantity Ordered</td>\n",
       "      <td>Price Each</td>\n",
       "      <td>Order Date</td>\n",
       "      <td>Purchase Address</td>\n",
       "      <td>Or</td>\n",
       "    </tr>\n",
       "    <tr>\n",
       "      <th>10338</th>\n",
       "      <td>Order ID</td>\n",
       "      <td>Product</td>\n",
       "      <td>Quantity Ordered</td>\n",
       "      <td>Price Each</td>\n",
       "      <td>Order Date</td>\n",
       "      <td>Purchase Address</td>\n",
       "      <td>Or</td>\n",
       "    </tr>\n",
       "    <tr>\n",
       "      <th>10705</th>\n",
       "      <td>Order ID</td>\n",
       "      <td>Product</td>\n",
       "      <td>Quantity Ordered</td>\n",
       "      <td>Price Each</td>\n",
       "      <td>Order Date</td>\n",
       "      <td>Purchase Address</td>\n",
       "      <td>Or</td>\n",
       "    </tr>\n",
       "    <tr>\n",
       "      <th>11004</th>\n",
       "      <td>Order ID</td>\n",
       "      <td>Product</td>\n",
       "      <td>Quantity Ordered</td>\n",
       "      <td>Price Each</td>\n",
       "      <td>Order Date</td>\n",
       "      <td>Purchase Address</td>\n",
       "      <td>Or</td>\n",
       "    </tr>\n",
       "  </tbody>\n",
       "</table>\n",
       "<p>355 rows × 7 columns</p>\n",
       "</div>"
      ],
      "text/plain": [
       "       Order ID  Product  Quantity Ordered  Price Each  Order Date  \\\n",
       "433    Order ID  Product  Quantity Ordered  Price Each  Order Date   \n",
       "864    Order ID  Product  Quantity Ordered  Price Each  Order Date   \n",
       "930    Order ID  Product  Quantity Ordered  Price Each  Order Date   \n",
       "1979   Order ID  Product  Quantity Ordered  Price Each  Order Date   \n",
       "2032   Order ID  Product  Quantity Ordered  Price Each  Order Date   \n",
       "...         ...      ...               ...         ...         ...   \n",
       "9605   Order ID  Product  Quantity Ordered  Price Each  Order Date   \n",
       "10217  Order ID  Product  Quantity Ordered  Price Each  Order Date   \n",
       "10338  Order ID  Product  Quantity Ordered  Price Each  Order Date   \n",
       "10705  Order ID  Product  Quantity Ordered  Price Each  Order Date   \n",
       "11004  Order ID  Product  Quantity Ordered  Price Each  Order Date   \n",
       "\n",
       "       Purchase Address Month  \n",
       "433    Purchase Address    Or  \n",
       "864    Purchase Address    Or  \n",
       "930    Purchase Address    Or  \n",
       "1979   Purchase Address    Or  \n",
       "2032   Purchase Address    Or  \n",
       "...                 ...   ...  \n",
       "9605   Purchase Address    Or  \n",
       "10217  Purchase Address    Or  \n",
       "10338  Purchase Address    Or  \n",
       "10705  Purchase Address    Or  \n",
       "11004  Purchase Address    Or  \n",
       "\n",
       "[355 rows x 7 columns]"
      ]
     },
     "execution_count": 13,
     "metadata": {},
     "output_type": "execute_result"
    }
   ],
   "source": [
    "#find nan index : df_12month[df_12month['Month']=='Or']\n",
    "df_12month[df_12month['Month']=='Or']"
   ]
  },
  {
   "cell_type": "code",
   "execution_count": 14,
   "id": "aa55124f",
   "metadata": {},
   "outputs": [],
   "source": [
    "#keep columns that do not contain Or = delete columns contain Or\n",
    "df_12month = df_12month[df_12month['Month']!='Or']"
   ]
  },
  {
   "cell_type": "code",
   "execution_count": 15,
   "id": "a19fe920",
   "metadata": {},
   "outputs": [
    {
     "name": "stdout",
     "output_type": "stream",
     "text": [
      "{'12', '07', '04', '10', '11', '01', '02', '05', '03', '06', '08', '09'}\n"
     ]
    }
   ],
   "source": [
    "print(set(df_12month['Month']))"
   ]
  },
  {
   "cell_type": "markdown",
   "id": "f3c86535",
   "metadata": {},
   "source": [
    "# What was the best month for sales? and how much was earned that month?"
   ]
  },
  {
   "cell_type": "code",
   "execution_count": 16,
   "id": "e25042c0",
   "metadata": {},
   "outputs": [
    {
     "data": {
      "text/html": [
       "<div>\n",
       "<style scoped>\n",
       "    .dataframe tbody tr th:only-of-type {\n",
       "        vertical-align: middle;\n",
       "    }\n",
       "\n",
       "    .dataframe tbody tr th {\n",
       "        vertical-align: top;\n",
       "    }\n",
       "\n",
       "    .dataframe thead th {\n",
       "        text-align: right;\n",
       "    }\n",
       "</style>\n",
       "<table border=\"1\" class=\"dataframe\">\n",
       "  <thead>\n",
       "    <tr style=\"text-align: right;\">\n",
       "      <th></th>\n",
       "      <th>Order ID</th>\n",
       "      <th>Product</th>\n",
       "      <th>Quantity Ordered</th>\n",
       "      <th>Price Each</th>\n",
       "      <th>Order Date</th>\n",
       "      <th>Purchase Address</th>\n",
       "      <th>Month</th>\n",
       "    </tr>\n",
       "  </thead>\n",
       "  <tbody>\n",
       "    <tr>\n",
       "      <th>0</th>\n",
       "      <td>162009</td>\n",
       "      <td>iPhone</td>\n",
       "      <td>1</td>\n",
       "      <td>700</td>\n",
       "      <td>03/28/19 20:59</td>\n",
       "      <td>942 Church St, Austin, TX 73301</td>\n",
       "      <td>03</td>\n",
       "    </tr>\n",
       "    <tr>\n",
       "      <th>1</th>\n",
       "      <td>162009</td>\n",
       "      <td>Lightning Charging Cable</td>\n",
       "      <td>1</td>\n",
       "      <td>14.95</td>\n",
       "      <td>03/28/19 20:59</td>\n",
       "      <td>942 Church St, Austin, TX 73301</td>\n",
       "      <td>03</td>\n",
       "    </tr>\n",
       "    <tr>\n",
       "      <th>2</th>\n",
       "      <td>162009</td>\n",
       "      <td>Wired Headphones</td>\n",
       "      <td>2</td>\n",
       "      <td>11.99</td>\n",
       "      <td>03/28/19 20:59</td>\n",
       "      <td>942 Church St, Austin, TX 73301</td>\n",
       "      <td>03</td>\n",
       "    </tr>\n",
       "    <tr>\n",
       "      <th>3</th>\n",
       "      <td>162010</td>\n",
       "      <td>Bose SoundSport Headphones</td>\n",
       "      <td>1</td>\n",
       "      <td>99.99</td>\n",
       "      <td>03/17/19 05:39</td>\n",
       "      <td>261 10th St, San Francisco, CA 94016</td>\n",
       "      <td>03</td>\n",
       "    </tr>\n",
       "    <tr>\n",
       "      <th>4</th>\n",
       "      <td>162011</td>\n",
       "      <td>34in Ultrawide Monitor</td>\n",
       "      <td>1</td>\n",
       "      <td>379.99</td>\n",
       "      <td>03/10/19 00:01</td>\n",
       "      <td>764 13th St, San Francisco, CA 94016</td>\n",
       "      <td>03</td>\n",
       "    </tr>\n",
       "  </tbody>\n",
       "</table>\n",
       "</div>"
      ],
      "text/plain": [
       "  Order ID                     Product Quantity Ordered Price Each  \\\n",
       "0   162009                      iPhone                1        700   \n",
       "1   162009    Lightning Charging Cable                1      14.95   \n",
       "2   162009            Wired Headphones                2      11.99   \n",
       "3   162010  Bose SoundSport Headphones                1      99.99   \n",
       "4   162011      34in Ultrawide Monitor                1     379.99   \n",
       "\n",
       "       Order Date                      Purchase Address Month  \n",
       "0  03/28/19 20:59       942 Church St, Austin, TX 73301    03  \n",
       "1  03/28/19 20:59       942 Church St, Austin, TX 73301    03  \n",
       "2  03/28/19 20:59       942 Church St, Austin, TX 73301    03  \n",
       "3  03/17/19 05:39  261 10th St, San Francisco, CA 94016    03  \n",
       "4  03/10/19 00:01  764 13th St, San Francisco, CA 94016    03  "
      ]
     },
     "execution_count": 16,
     "metadata": {},
     "output_type": "execute_result"
    }
   ],
   "source": [
    "df_12month.head()"
   ]
  },
  {
   "cell_type": "code",
   "execution_count": 17,
   "id": "d9c4f440",
   "metadata": {},
   "outputs": [
    {
     "name": "stdout",
     "output_type": "stream",
     "text": [
      "object\n",
      "object\n"
     ]
    }
   ],
   "source": [
    "#in the first these are object\n",
    "print(df_12month['Quantity Ordered'].dtype)\n",
    "print(df_12month['Price Each'].dtype)"
   ]
  },
  {
   "cell_type": "markdown",
   "id": "acf79461",
   "metadata": {},
   "source": [
    "### Convert Object to numeric"
   ]
  },
  {
   "cell_type": "code",
   "execution_count": 18,
   "id": "6a9c588a",
   "metadata": {},
   "outputs": [],
   "source": [
    "df_12month['Price Each'] = pd.to_numeric(df_12month['Price Each'],downcast='float')\n",
    "df_12month['Quantity Ordered'] = pd.to_numeric(df_12month['Quantity Ordered'],downcast='integer')"
   ]
  },
  {
   "cell_type": "code",
   "execution_count": 19,
   "id": "008e7ccb",
   "metadata": {},
   "outputs": [
    {
     "data": {
      "text/html": [
       "<div>\n",
       "<style scoped>\n",
       "    .dataframe tbody tr th:only-of-type {\n",
       "        vertical-align: middle;\n",
       "    }\n",
       "\n",
       "    .dataframe tbody tr th {\n",
       "        vertical-align: top;\n",
       "    }\n",
       "\n",
       "    .dataframe thead th {\n",
       "        text-align: right;\n",
       "    }\n",
       "</style>\n",
       "<table border=\"1\" class=\"dataframe\">\n",
       "  <thead>\n",
       "    <tr style=\"text-align: right;\">\n",
       "      <th></th>\n",
       "      <th>Order ID</th>\n",
       "      <th>Product</th>\n",
       "      <th>Quantity Ordered</th>\n",
       "      <th>Price Each</th>\n",
       "      <th>Order Date</th>\n",
       "      <th>Purchase Address</th>\n",
       "      <th>Month</th>\n",
       "      <th>Sales</th>\n",
       "    </tr>\n",
       "  </thead>\n",
       "  <tbody>\n",
       "    <tr>\n",
       "      <th>0</th>\n",
       "      <td>162009</td>\n",
       "      <td>iPhone</td>\n",
       "      <td>1</td>\n",
       "      <td>700.000000</td>\n",
       "      <td>03/28/19 20:59</td>\n",
       "      <td>942 Church St, Austin, TX 73301</td>\n",
       "      <td>03</td>\n",
       "      <td>700.000000</td>\n",
       "    </tr>\n",
       "    <tr>\n",
       "      <th>1</th>\n",
       "      <td>162009</td>\n",
       "      <td>Lightning Charging Cable</td>\n",
       "      <td>1</td>\n",
       "      <td>14.950000</td>\n",
       "      <td>03/28/19 20:59</td>\n",
       "      <td>942 Church St, Austin, TX 73301</td>\n",
       "      <td>03</td>\n",
       "      <td>14.950000</td>\n",
       "    </tr>\n",
       "    <tr>\n",
       "      <th>2</th>\n",
       "      <td>162009</td>\n",
       "      <td>Wired Headphones</td>\n",
       "      <td>2</td>\n",
       "      <td>11.990000</td>\n",
       "      <td>03/28/19 20:59</td>\n",
       "      <td>942 Church St, Austin, TX 73301</td>\n",
       "      <td>03</td>\n",
       "      <td>23.980000</td>\n",
       "    </tr>\n",
       "    <tr>\n",
       "      <th>3</th>\n",
       "      <td>162010</td>\n",
       "      <td>Bose SoundSport Headphones</td>\n",
       "      <td>1</td>\n",
       "      <td>99.989998</td>\n",
       "      <td>03/17/19 05:39</td>\n",
       "      <td>261 10th St, San Francisco, CA 94016</td>\n",
       "      <td>03</td>\n",
       "      <td>99.989998</td>\n",
       "    </tr>\n",
       "    <tr>\n",
       "      <th>4</th>\n",
       "      <td>162011</td>\n",
       "      <td>34in Ultrawide Monitor</td>\n",
       "      <td>1</td>\n",
       "      <td>379.989990</td>\n",
       "      <td>03/10/19 00:01</td>\n",
       "      <td>764 13th St, San Francisco, CA 94016</td>\n",
       "      <td>03</td>\n",
       "      <td>379.989990</td>\n",
       "    </tr>\n",
       "  </tbody>\n",
       "</table>\n",
       "</div>"
      ],
      "text/plain": [
       "  Order ID                     Product  Quantity Ordered  Price Each  \\\n",
       "0   162009                      iPhone                 1  700.000000   \n",
       "1   162009    Lightning Charging Cable                 1   14.950000   \n",
       "2   162009            Wired Headphones                 2   11.990000   \n",
       "3   162010  Bose SoundSport Headphones                 1   99.989998   \n",
       "4   162011      34in Ultrawide Monitor                 1  379.989990   \n",
       "\n",
       "       Order Date                      Purchase Address Month       Sales  \n",
       "0  03/28/19 20:59       942 Church St, Austin, TX 73301    03  700.000000  \n",
       "1  03/28/19 20:59       942 Church St, Austin, TX 73301    03   14.950000  \n",
       "2  03/28/19 20:59       942 Church St, Austin, TX 73301    03   23.980000  \n",
       "3  03/17/19 05:39  261 10th St, San Francisco, CA 94016    03   99.989998  \n",
       "4  03/10/19 00:01  764 13th St, San Francisco, CA 94016    03  379.989990  "
      ]
     },
     "execution_count": 19,
     "metadata": {},
     "output_type": "execute_result"
    }
   ],
   "source": [
    "df_12month['Sales']= df_12month['Quantity Ordered']* df_12month['Price Each']\n",
    "df_12month.head()"
   ]
  },
  {
   "cell_type": "markdown",
   "id": "59cc2bda",
   "metadata": {},
   "source": [
    "### Move column"
   ]
  },
  {
   "cell_type": "code",
   "execution_count": 20,
   "id": "22008351",
   "metadata": {},
   "outputs": [
    {
     "data": {
      "text/html": [
       "<div>\n",
       "<style scoped>\n",
       "    .dataframe tbody tr th:only-of-type {\n",
       "        vertical-align: middle;\n",
       "    }\n",
       "\n",
       "    .dataframe tbody tr th {\n",
       "        vertical-align: top;\n",
       "    }\n",
       "\n",
       "    .dataframe thead th {\n",
       "        text-align: right;\n",
       "    }\n",
       "</style>\n",
       "<table border=\"1\" class=\"dataframe\">\n",
       "  <thead>\n",
       "    <tr style=\"text-align: right;\">\n",
       "      <th></th>\n",
       "      <th>Order ID</th>\n",
       "      <th>Product</th>\n",
       "      <th>Quantity Ordered</th>\n",
       "      <th>Price Each</th>\n",
       "      <th>Sales</th>\n",
       "      <th>Order Date</th>\n",
       "      <th>Purchase Address</th>\n",
       "      <th>Month</th>\n",
       "    </tr>\n",
       "  </thead>\n",
       "  <tbody>\n",
       "    <tr>\n",
       "      <th>0</th>\n",
       "      <td>162009</td>\n",
       "      <td>iPhone</td>\n",
       "      <td>1</td>\n",
       "      <td>700.000000</td>\n",
       "      <td>700.000000</td>\n",
       "      <td>03/28/19 20:59</td>\n",
       "      <td>942 Church St, Austin, TX 73301</td>\n",
       "      <td>03</td>\n",
       "    </tr>\n",
       "    <tr>\n",
       "      <th>1</th>\n",
       "      <td>162009</td>\n",
       "      <td>Lightning Charging Cable</td>\n",
       "      <td>1</td>\n",
       "      <td>14.950000</td>\n",
       "      <td>14.950000</td>\n",
       "      <td>03/28/19 20:59</td>\n",
       "      <td>942 Church St, Austin, TX 73301</td>\n",
       "      <td>03</td>\n",
       "    </tr>\n",
       "    <tr>\n",
       "      <th>2</th>\n",
       "      <td>162009</td>\n",
       "      <td>Wired Headphones</td>\n",
       "      <td>2</td>\n",
       "      <td>11.990000</td>\n",
       "      <td>23.980000</td>\n",
       "      <td>03/28/19 20:59</td>\n",
       "      <td>942 Church St, Austin, TX 73301</td>\n",
       "      <td>03</td>\n",
       "    </tr>\n",
       "    <tr>\n",
       "      <th>3</th>\n",
       "      <td>162010</td>\n",
       "      <td>Bose SoundSport Headphones</td>\n",
       "      <td>1</td>\n",
       "      <td>99.989998</td>\n",
       "      <td>99.989998</td>\n",
       "      <td>03/17/19 05:39</td>\n",
       "      <td>261 10th St, San Francisco, CA 94016</td>\n",
       "      <td>03</td>\n",
       "    </tr>\n",
       "    <tr>\n",
       "      <th>4</th>\n",
       "      <td>162011</td>\n",
       "      <td>34in Ultrawide Monitor</td>\n",
       "      <td>1</td>\n",
       "      <td>379.989990</td>\n",
       "      <td>379.989990</td>\n",
       "      <td>03/10/19 00:01</td>\n",
       "      <td>764 13th St, San Francisco, CA 94016</td>\n",
       "      <td>03</td>\n",
       "    </tr>\n",
       "  </tbody>\n",
       "</table>\n",
       "</div>"
      ],
      "text/plain": [
       "  Order ID                     Product  Quantity Ordered  Price Each  \\\n",
       "0   162009                      iPhone                 1  700.000000   \n",
       "1   162009    Lightning Charging Cable                 1   14.950000   \n",
       "2   162009            Wired Headphones                 2   11.990000   \n",
       "3   162010  Bose SoundSport Headphones                 1   99.989998   \n",
       "4   162011      34in Ultrawide Monitor                 1  379.989990   \n",
       "\n",
       "        Sales      Order Date                      Purchase Address Month  \n",
       "0  700.000000  03/28/19 20:59       942 Church St, Austin, TX 73301    03  \n",
       "1   14.950000  03/28/19 20:59       942 Church St, Austin, TX 73301    03  \n",
       "2   23.980000  03/28/19 20:59       942 Church St, Austin, TX 73301    03  \n",
       "3   99.989998  03/17/19 05:39  261 10th St, San Francisco, CA 94016    03  \n",
       "4  379.989990  03/10/19 00:01  764 13th St, San Francisco, CA 94016    03  "
      ]
     },
     "execution_count": 20,
     "metadata": {},
     "output_type": "execute_result"
    }
   ],
   "source": [
    "moving_col = df_12month.pop('Sales')\n",
    "df_12month.insert(4,'Sales',moving_col)\n",
    "df_12month.head()"
   ]
  },
  {
   "cell_type": "code",
   "execution_count": 21,
   "id": "55ea263e",
   "metadata": {},
   "outputs": [
    {
     "data": {
      "text/html": [
       "<div>\n",
       "<style scoped>\n",
       "    .dataframe tbody tr th:only-of-type {\n",
       "        vertical-align: middle;\n",
       "    }\n",
       "\n",
       "    .dataframe tbody tr th {\n",
       "        vertical-align: top;\n",
       "    }\n",
       "\n",
       "    .dataframe thead th {\n",
       "        text-align: right;\n",
       "    }\n",
       "</style>\n",
       "<table border=\"1\" class=\"dataframe\">\n",
       "  <thead>\n",
       "    <tr style=\"text-align: right;\">\n",
       "      <th></th>\n",
       "      <th>Quantity Ordered</th>\n",
       "      <th>Price Each</th>\n",
       "      <th>Sales</th>\n",
       "    </tr>\n",
       "    <tr>\n",
       "      <th>Month</th>\n",
       "      <th></th>\n",
       "      <th></th>\n",
       "      <th></th>\n",
       "    </tr>\n",
       "  </thead>\n",
       "  <tbody>\n",
       "    <tr>\n",
       "      <th>01</th>\n",
       "      <td>10903.0</td>\n",
       "      <td>1811768.375</td>\n",
       "      <td>1822256.75</td>\n",
       "    </tr>\n",
       "    <tr>\n",
       "      <th>02</th>\n",
       "      <td>13449.0</td>\n",
       "      <td>2188884.750</td>\n",
       "      <td>2202022.50</td>\n",
       "    </tr>\n",
       "    <tr>\n",
       "      <th>03</th>\n",
       "      <td>17005.0</td>\n",
       "      <td>2791207.750</td>\n",
       "      <td>2807100.25</td>\n",
       "    </tr>\n",
       "    <tr>\n",
       "      <th>04</th>\n",
       "      <td>20558.0</td>\n",
       "      <td>3367671.000</td>\n",
       "      <td>3390670.25</td>\n",
       "    </tr>\n",
       "    <tr>\n",
       "      <th>05</th>\n",
       "      <td>18667.0</td>\n",
       "      <td>3135125.000</td>\n",
       "      <td>3152606.75</td>\n",
       "    </tr>\n",
       "    <tr>\n",
       "      <th>06</th>\n",
       "      <td>15253.0</td>\n",
       "      <td>2562025.500</td>\n",
       "      <td>2577802.25</td>\n",
       "    </tr>\n",
       "    <tr>\n",
       "      <th>07</th>\n",
       "      <td>16072.0</td>\n",
       "      <td>2632539.500</td>\n",
       "      <td>2647775.75</td>\n",
       "    </tr>\n",
       "    <tr>\n",
       "      <th>08</th>\n",
       "      <td>13448.0</td>\n",
       "      <td>2230345.500</td>\n",
       "      <td>2244467.75</td>\n",
       "    </tr>\n",
       "    <tr>\n",
       "      <th>09</th>\n",
       "      <td>13109.0</td>\n",
       "      <td>2084992.125</td>\n",
       "      <td>2097560.00</td>\n",
       "    </tr>\n",
       "    <tr>\n",
       "      <th>10</th>\n",
       "      <td>22703.0</td>\n",
       "      <td>3715554.750</td>\n",
       "      <td>3736726.75</td>\n",
       "    </tr>\n",
       "    <tr>\n",
       "      <th>11</th>\n",
       "      <td>19798.0</td>\n",
       "      <td>3180600.750</td>\n",
       "      <td>3199603.25</td>\n",
       "    </tr>\n",
       "    <tr>\n",
       "      <th>12</th>\n",
       "      <td>28114.0</td>\n",
       "      <td>4588415.500</td>\n",
       "      <td>4613443.50</td>\n",
       "    </tr>\n",
       "  </tbody>\n",
       "</table>\n",
       "</div>"
      ],
      "text/plain": [
       "       Quantity Ordered   Price Each       Sales\n",
       "Month                                           \n",
       "01              10903.0  1811768.375  1822256.75\n",
       "02              13449.0  2188884.750  2202022.50\n",
       "03              17005.0  2791207.750  2807100.25\n",
       "04              20558.0  3367671.000  3390670.25\n",
       "05              18667.0  3135125.000  3152606.75\n",
       "06              15253.0  2562025.500  2577802.25\n",
       "07              16072.0  2632539.500  2647775.75\n",
       "08              13448.0  2230345.500  2244467.75\n",
       "09              13109.0  2084992.125  2097560.00\n",
       "10              22703.0  3715554.750  3736726.75\n",
       "11              19798.0  3180600.750  3199603.25\n",
       "12              28114.0  4588415.500  4613443.50"
      ]
     },
     "execution_count": 21,
     "metadata": {},
     "output_type": "execute_result"
    }
   ],
   "source": [
    "df_12month.groupby('Month').sum()"
   ]
  },
  {
   "cell_type": "code",
   "execution_count": 22,
   "id": "7a1e83b1",
   "metadata": {},
   "outputs": [
    {
     "data": {
      "text/plain": [
       "Month\n",
       "01    1822256.75\n",
       "02    2202022.50\n",
       "03    2807100.25\n",
       "04    3390670.25\n",
       "05    3152606.75\n",
       "06    2577802.25\n",
       "07    2647775.75\n",
       "08    2244467.75\n",
       "09    2097560.00\n",
       "10    3736726.75\n",
       "11    3199603.25\n",
       "12    4613443.50\n",
       "Name: Sales, dtype: float32"
      ]
     },
     "execution_count": 22,
     "metadata": {},
     "output_type": "execute_result"
    }
   ],
   "source": [
    "df_12month.groupby('Month').sum()['Sales']"
   ]
  },
  {
   "cell_type": "code",
   "execution_count": 23,
   "id": "f698fc75",
   "metadata": {},
   "outputs": [
    {
     "data": {
      "text/plain": [
       "4613443.5"
      ]
     },
     "execution_count": 23,
     "metadata": {},
     "output_type": "execute_result"
    }
   ],
   "source": [
    "sales_value= df_12month.groupby('Month').sum()['Sales']\n",
    "sales_value.max()"
   ]
  },
  {
   "cell_type": "code",
   "execution_count": 24,
   "id": "366b89a8",
   "metadata": {},
   "outputs": [
    {
     "data": {
      "text/plain": [
       "<BarContainer object of 12 artists>"
      ]
     },
     "execution_count": 24,
     "metadata": {},
     "output_type": "execute_result"
    },
    {
     "data": {
      "image/png": "[encoded data removed]",
      "text/plain": [
       "<Figure size 432x288 with 1 Axes>"
      ]
     },
     "metadata": {
      "needs_background": "light"
     },
     "output_type": "display_data"
    }
   ],
   "source": [
    "months = range(1,13)\n",
    "plt.bar(x=months,height=sales_value)"
   ]
  },
  {
   "cell_type": "code",
   "execution_count": 25,
   "id": "8560bfdf",
   "metadata": {},
   "outputs": [
    {
     "data": {
      "image/png": "[encoded data removed]",
      "text/plain": [
       "<Figure size 432x288 with 1 Axes>"
      ]
     },
     "metadata": {
      "needs_background": "light"
     },
     "output_type": "display_data"
    }
   ],
   "source": [
    "months = range(1,13)\n",
    "plt.bar(x=months,height=sales_value)\n",
    "#appear 1,3,5,7,.. :\n",
    "plt.xticks(months);"
   ]
  },
  {
   "cell_type": "code",
   "execution_count": 26,
   "id": "334e4b33",
   "metadata": {},
   "outputs": [
    {
     "data": {
      "text/plain": [
       "Text(0, 0.5, 'Sales_value(USD)')"
      ]
     },
     "execution_count": 26,
     "metadata": {},
     "output_type": "execute_result"
    },
    {
     "data": {
      "image/png": "[encoded data removed]",
      "text/plain": [
       "<Figure size 432x288 with 1 Axes>"
      ]
     },
     "metadata": {
      "needs_background": "light"
     },
     "output_type": "display_data"
    }
   ],
   "source": [
    "months = range(1,13)\n",
    "plt.bar(x=months,height=sales_value)\n",
    "plt.xticks(months);\n",
    "plt.xlabel('Months')\n",
    "plt.ylabel('Sales_value(USD)')"
   ]
  },
  {
   "cell_type": "markdown",
   "id": "3e9bde1d",
   "metadata": {},
   "source": [
    "# ==> Best month for sales : 12 , value : 4613443.50"
   ]
  },
  {
   "cell_type": "markdown",
   "id": "6d842ac7",
   "metadata": {},
   "source": [
    "# What city has the best sales?"
   ]
  },
  {
   "cell_type": "code",
   "execution_count": 27,
   "id": "77b900be",
   "metadata": {},
   "outputs": [
    {
     "data": {
      "text/html": [
       "<div>\n",
       "<style scoped>\n",
       "    .dataframe tbody tr th:only-of-type {\n",
       "        vertical-align: middle;\n",
       "    }\n",
       "\n",
       "    .dataframe tbody tr th {\n",
       "        vertical-align: top;\n",
       "    }\n",
       "\n",
       "    .dataframe thead th {\n",
       "        text-align: right;\n",
       "    }\n",
       "</style>\n",
       "<table border=\"1\" class=\"dataframe\">\n",
       "  <thead>\n",
       "    <tr style=\"text-align: right;\">\n",
       "      <th></th>\n",
       "      <th>Order ID</th>\n",
       "      <th>Product</th>\n",
       "      <th>Quantity Ordered</th>\n",
       "      <th>Price Each</th>\n",
       "      <th>Sales</th>\n",
       "      <th>Order Date</th>\n",
       "      <th>Purchase Address</th>\n",
       "      <th>Month</th>\n",
       "    </tr>\n",
       "  </thead>\n",
       "  <tbody>\n",
       "    <tr>\n",
       "      <th>0</th>\n",
       "      <td>162009</td>\n",
       "      <td>iPhone</td>\n",
       "      <td>1</td>\n",
       "      <td>700.000000</td>\n",
       "      <td>700.000000</td>\n",
       "      <td>03/28/19 20:59</td>\n",
       "      <td>942 Church St, Austin, TX 73301</td>\n",
       "      <td>03</td>\n",
       "    </tr>\n",
       "    <tr>\n",
       "      <th>1</th>\n",
       "      <td>162009</td>\n",
       "      <td>Lightning Charging Cable</td>\n",
       "      <td>1</td>\n",
       "      <td>14.950000</td>\n",
       "      <td>14.950000</td>\n",
       "      <td>03/28/19 20:59</td>\n",
       "      <td>942 Church St, Austin, TX 73301</td>\n",
       "      <td>03</td>\n",
       "    </tr>\n",
       "    <tr>\n",
       "      <th>2</th>\n",
       "      <td>162009</td>\n",
       "      <td>Wired Headphones</td>\n",
       "      <td>2</td>\n",
       "      <td>11.990000</td>\n",
       "      <td>23.980000</td>\n",
       "      <td>03/28/19 20:59</td>\n",
       "      <td>942 Church St, Austin, TX 73301</td>\n",
       "      <td>03</td>\n",
       "    </tr>\n",
       "    <tr>\n",
       "      <th>3</th>\n",
       "      <td>162010</td>\n",
       "      <td>Bose SoundSport Headphones</td>\n",
       "      <td>1</td>\n",
       "      <td>99.989998</td>\n",
       "      <td>99.989998</td>\n",
       "      <td>03/17/19 05:39</td>\n",
       "      <td>261 10th St, San Francisco, CA 94016</td>\n",
       "      <td>03</td>\n",
       "    </tr>\n",
       "    <tr>\n",
       "      <th>4</th>\n",
       "      <td>162011</td>\n",
       "      <td>34in Ultrawide Monitor</td>\n",
       "      <td>1</td>\n",
       "      <td>379.989990</td>\n",
       "      <td>379.989990</td>\n",
       "      <td>03/10/19 00:01</td>\n",
       "      <td>764 13th St, San Francisco, CA 94016</td>\n",
       "      <td>03</td>\n",
       "    </tr>\n",
       "  </tbody>\n",
       "</table>\n",
       "</div>"
      ],
      "text/plain": [
       "  Order ID                     Product  Quantity Ordered  Price Each  \\\n",
       "0   162009                      iPhone                 1  700.000000   \n",
       "1   162009    Lightning Charging Cable                 1   14.950000   \n",
       "2   162009            Wired Headphones                 2   11.990000   \n",
       "3   162010  Bose SoundSport Headphones                 1   99.989998   \n",
       "4   162011      34in Ultrawide Monitor                 1  379.989990   \n",
       "\n",
       "        Sales      Order Date                      Purchase Address Month  \n",
       "0  700.000000  03/28/19 20:59       942 Church St, Austin, TX 73301    03  \n",
       "1   14.950000  03/28/19 20:59       942 Church St, Austin, TX 73301    03  \n",
       "2   23.980000  03/28/19 20:59       942 Church St, Austin, TX 73301    03  \n",
       "3   99.989998  03/17/19 05:39  261 10th St, San Francisco, CA 94016    03  \n",
       "4  379.989990  03/10/19 00:01  764 13th St, San Francisco, CA 94016    03  "
      ]
     },
     "execution_count": 27,
     "metadata": {},
     "output_type": "execute_result"
    }
   ],
   "source": [
    "df_12month.head()"
   ]
  },
  {
   "cell_type": "code",
   "execution_count": 28,
   "id": "aba07e32",
   "metadata": {},
   "outputs": [
    {
     "data": {
      "text/plain": [
       "0                Austin\n",
       "1                Austin\n",
       "2                Austin\n",
       "3         San Francisco\n",
       "4         San Francisco\n",
       "              ...      \n",
       "12006     San Francisco\n",
       "12007            Boston\n",
       "12008           Seattle\n",
       "12009     San Francisco\n",
       "12010       Los Angeles\n",
       "Name: Purchase Address, Length: 185950, dtype: object"
      ]
     },
     "execution_count": 28,
     "metadata": {},
     "output_type": "execute_result"
    }
   ],
   "source": [
    "df_12month['Purchase Address'].apply(lambda x:x.split(',')[1])"
   ]
  },
  {
   "cell_type": "code",
   "execution_count": 29,
   "id": "4b2b4b64",
   "metadata": {},
   "outputs": [],
   "source": [
    "df_12month['City'] = df_12month['Purchase Address'].apply(lambda x:x.split(',')[1])"
   ]
  },
  {
   "cell_type": "code",
   "execution_count": 30,
   "id": "7a0c9d93",
   "metadata": {},
   "outputs": [
    {
     "data": {
      "text/html": [
       "<div>\n",
       "<style scoped>\n",
       "    .dataframe tbody tr th:only-of-type {\n",
       "        vertical-align: middle;\n",
       "    }\n",
       "\n",
       "    .dataframe tbody tr th {\n",
       "        vertical-align: top;\n",
       "    }\n",
       "\n",
       "    .dataframe thead th {\n",
       "        text-align: right;\n",
       "    }\n",
       "</style>\n",
       "<table border=\"1\" class=\"dataframe\">\n",
       "  <thead>\n",
       "    <tr style=\"text-align: right;\">\n",
       "      <th></th>\n",
       "      <th>Order ID</th>\n",
       "      <th>Product</th>\n",
       "      <th>Quantity Ordered</th>\n",
       "      <th>Price Each</th>\n",
       "      <th>Sales</th>\n",
       "      <th>Order Date</th>\n",
       "      <th>Purchase Address</th>\n",
       "      <th>Month</th>\n",
       "      <th>City</th>\n",
       "    </tr>\n",
       "  </thead>\n",
       "  <tbody>\n",
       "    <tr>\n",
       "      <th>0</th>\n",
       "      <td>162009</td>\n",
       "      <td>iPhone</td>\n",
       "      <td>1</td>\n",
       "      <td>700.000000</td>\n",
       "      <td>700.000000</td>\n",
       "      <td>03/28/19 20:59</td>\n",
       "      <td>942 Church St, Austin, TX 73301</td>\n",
       "      <td>03</td>\n",
       "      <td>Austin</td>\n",
       "    </tr>\n",
       "    <tr>\n",
       "      <th>1</th>\n",
       "      <td>162009</td>\n",
       "      <td>Lightning Charging Cable</td>\n",
       "      <td>1</td>\n",
       "      <td>14.950000</td>\n",
       "      <td>14.950000</td>\n",
       "      <td>03/28/19 20:59</td>\n",
       "      <td>942 Church St, Austin, TX 73301</td>\n",
       "      <td>03</td>\n",
       "      <td>Austin</td>\n",
       "    </tr>\n",
       "    <tr>\n",
       "      <th>2</th>\n",
       "      <td>162009</td>\n",
       "      <td>Wired Headphones</td>\n",
       "      <td>2</td>\n",
       "      <td>11.990000</td>\n",
       "      <td>23.980000</td>\n",
       "      <td>03/28/19 20:59</td>\n",
       "      <td>942 Church St, Austin, TX 73301</td>\n",
       "      <td>03</td>\n",
       "      <td>Austin</td>\n",
       "    </tr>\n",
       "    <tr>\n",
       "      <th>3</th>\n",
       "      <td>162010</td>\n",
       "      <td>Bose SoundSport Headphones</td>\n",
       "      <td>1</td>\n",
       "      <td>99.989998</td>\n",
       "      <td>99.989998</td>\n",
       "      <td>03/17/19 05:39</td>\n",
       "      <td>261 10th St, San Francisco, CA 94016</td>\n",
       "      <td>03</td>\n",
       "      <td>San Francisco</td>\n",
       "    </tr>\n",
       "    <tr>\n",
       "      <th>4</th>\n",
       "      <td>162011</td>\n",
       "      <td>34in Ultrawide Monitor</td>\n",
       "      <td>1</td>\n",
       "      <td>379.989990</td>\n",
       "      <td>379.989990</td>\n",
       "      <td>03/10/19 00:01</td>\n",
       "      <td>764 13th St, San Francisco, CA 94016</td>\n",
       "      <td>03</td>\n",
       "      <td>San Francisco</td>\n",
       "    </tr>\n",
       "  </tbody>\n",
       "</table>\n",
       "</div>"
      ],
      "text/plain": [
       "  Order ID                     Product  Quantity Ordered  Price Each  \\\n",
       "0   162009                      iPhone                 1  700.000000   \n",
       "1   162009    Lightning Charging Cable                 1   14.950000   \n",
       "2   162009            Wired Headphones                 2   11.990000   \n",
       "3   162010  Bose SoundSport Headphones                 1   99.989998   \n",
       "4   162011      34in Ultrawide Monitor                 1  379.989990   \n",
       "\n",
       "        Sales      Order Date                      Purchase Address Month  \\\n",
       "0  700.000000  03/28/19 20:59       942 Church St, Austin, TX 73301    03   \n",
       "1   14.950000  03/28/19 20:59       942 Church St, Austin, TX 73301    03   \n",
       "2   23.980000  03/28/19 20:59       942 Church St, Austin, TX 73301    03   \n",
       "3   99.989998  03/17/19 05:39  261 10th St, San Francisco, CA 94016    03   \n",
       "4  379.989990  03/10/19 00:01  764 13th St, San Francisco, CA 94016    03   \n",
       "\n",
       "             City  \n",
       "0          Austin  \n",
       "1          Austin  \n",
       "2          Austin  \n",
       "3   San Francisco  \n",
       "4   San Francisco  "
      ]
     },
     "execution_count": 30,
     "metadata": {},
     "output_type": "execute_result"
    }
   ],
   "source": [
    "df_12month.head()"
   ]
  },
  {
   "cell_type": "code",
   "execution_count": 31,
   "id": "7c0466f5",
   "metadata": {},
   "outputs": [
    {
     "data": {
      "text/plain": [
       "City\n",
       " Atlanta          2795498.50\n",
       " Austin           1819581.75\n",
       " Boston           3661642.00\n",
       " Dallas           2767975.50\n",
       " Los Angeles      5452571.00\n",
       " New York City    4664317.50\n",
       " Portland         2320490.50\n",
       " San Francisco    8262204.00\n",
       " Seattle          2747755.50\n",
       "Name: Sales, dtype: float32"
      ]
     },
     "execution_count": 31,
     "metadata": {},
     "output_type": "execute_result"
    }
   ],
   "source": [
    "df_12month.groupby('City').sum()['Sales']"
   ]
  },
  {
   "cell_type": "code",
   "execution_count": 32,
   "id": "89e315ad",
   "metadata": {},
   "outputs": [
    {
     "data": {
      "text/plain": [
       "8262204.0"
      ]
     },
     "execution_count": 32,
     "metadata": {},
     "output_type": "execute_result"
    }
   ],
   "source": [
    "#groupby => return alphabet\n",
    "sale_city = df_12month.groupby('City').sum()['Sales']\n",
    "sale_city.max()"
   ]
  },
  {
   "cell_type": "code",
   "execution_count": 33,
   "id": "6bb32846",
   "metadata": {},
   "outputs": [
    {
     "name": "stdout",
     "output_type": "stream",
     "text": [
      "City\n",
      " Atlanta          2795498.50\n",
      " Austin           1819581.75\n",
      " Boston           3661642.00\n",
      " Dallas           2767975.50\n",
      " Los Angeles      5452571.00\n",
      " New York City    4664317.50\n",
      " Portland         2320490.50\n",
      " San Francisco    8262204.00\n",
      " Seattle          2747755.50\n",
      "Name: Sales, dtype: float32\n"
     ]
    }
   ],
   "source": [
    "print(sale_city)"
   ]
  },
  {
   "cell_type": "code",
   "execution_count": 34,
   "id": "a6f1b85f",
   "metadata": {},
   "outputs": [
    {
     "name": "stdout",
     "output_type": "stream",
     "text": [
      "[' Austin' ' San Francisco' ' Boston' ' Atlanta' ' Portland' ' Dallas'\n",
      " ' Los Angeles' ' New York City' ' Seattle']\n"
     ]
    }
   ],
   "source": [
    "#cities = set(df_12month['City']) \n",
    "#or\n",
    "cities = df_12month['City'].unique()\n",
    "print(cities)\n",
    "########but this is not Alphabet "
   ]
  },
  {
   "cell_type": "code",
   "execution_count": 35,
   "id": "7b1d7dbd",
   "metadata": {},
   "outputs": [
    {
     "data": {
      "text/plain": [
       "[' Atlanta',\n",
       " ' Austin',\n",
       " ' Boston',\n",
       " ' Dallas',\n",
       " ' Los Angeles',\n",
       " ' New York City',\n",
       " ' Portland',\n",
       " ' San Francisco',\n",
       " ' Seattle']"
      ]
     },
     "execution_count": 35,
     "metadata": {},
     "output_type": "execute_result"
    }
   ],
   "source": [
    "#Change to alphabet\n",
    "sorted(cities)"
   ]
  },
  {
   "cell_type": "code",
   "execution_count": 36,
   "id": "fcc58801",
   "metadata": {},
   "outputs": [
    {
     "data": {
      "image/png": "[encoded data removed]",
      "text/plain": [
       "<Figure size 432x288 with 1 Axes>"
      ]
     },
     "metadata": {
      "needs_background": "light"
     },
     "output_type": "display_data"
    }
   ],
   "source": [
    "# Wrong match ctities and sale_city if we don't use sorted(cities)\n",
    "plt.bar(x=cities,height=sale_city)\n",
    "plt.xticks(cities,rotation=90,size=8);\n",
    "plt.xlabel('City')\n",
    "plt.ylabel('Sales_value(USD)');"
   ]
  },
  {
   "cell_type": "code",
   "execution_count": 49,
   "id": "ee5913cf",
   "metadata": {},
   "outputs": [
    {
     "data": {
      "image/png": "[encoded data removed]",
      "text/plain": [
       "<Figure size 432x288 with 1 Axes>"
      ]
     },
     "metadata": {
      "needs_background": "light"
     },
     "output_type": "display_data"
    }
   ],
   "source": [
    "#Use sorted(cities) to change its to alphabet ==> match the sale_city now\n",
    "plt.bar(x=sorted(cities),height=sale_city)\n",
    "plt.xticks(cities,rotation=90,size=20)\n",
    "plt.xlabel('City')\n",
    "plt.ylabel('Sales_value(USD)');"
   ]
  },
  {
   "cell_type": "markdown",
   "id": "4512b07a",
   "metadata": {},
   "source": [
    "# ==> San Francisco has the best sales"
   ]
  },
  {
   "cell_type": "markdown",
   "id": "7eb47746",
   "metadata": {},
   "source": [
    "# What time should we display ads to maximize the likelihood of customer's buying product?"
   ]
  },
  {
   "cell_type": "code",
   "execution_count": 38,
   "id": "866a0e19",
   "metadata": {},
   "outputs": [
    {
     "data": {
      "text/html": [
       "<div>\n",
       "<style scoped>\n",
       "    .dataframe tbody tr th:only-of-type {\n",
       "        vertical-align: middle;\n",
       "    }\n",
       "\n",
       "    .dataframe tbody tr th {\n",
       "        vertical-align: top;\n",
       "    }\n",
       "\n",
       "    .dataframe thead th {\n",
       "        text-align: right;\n",
       "    }\n",
       "</style>\n",
       "<table border=\"1\" class=\"dataframe\">\n",
       "  <thead>\n",
       "    <tr style=\"text-align: right;\">\n",
       "      <th></th>\n",
       "      <th>Order ID</th>\n",
       "      <th>Product</th>\n",
       "      <th>Quantity Ordered</th>\n",
       "      <th>Price Each</th>\n",
       "      <th>Sales</th>\n",
       "      <th>Order Date</th>\n",
       "      <th>Purchase Address</th>\n",
       "      <th>Month</th>\n",
       "      <th>City</th>\n",
       "    </tr>\n",
       "  </thead>\n",
       "  <tbody>\n",
       "    <tr>\n",
       "      <th>0</th>\n",
       "      <td>162009</td>\n",
       "      <td>iPhone</td>\n",
       "      <td>1</td>\n",
       "      <td>700.000000</td>\n",
       "      <td>700.000000</td>\n",
       "      <td>03/28/19 20:59</td>\n",
       "      <td>942 Church St, Austin, TX 73301</td>\n",
       "      <td>03</td>\n",
       "      <td>Austin</td>\n",
       "    </tr>\n",
       "    <tr>\n",
       "      <th>1</th>\n",
       "      <td>162009</td>\n",
       "      <td>Lightning Charging Cable</td>\n",
       "      <td>1</td>\n",
       "      <td>14.950000</td>\n",
       "      <td>14.950000</td>\n",
       "      <td>03/28/19 20:59</td>\n",
       "      <td>942 Church St, Austin, TX 73301</td>\n",
       "      <td>03</td>\n",
       "      <td>Austin</td>\n",
       "    </tr>\n",
       "    <tr>\n",
       "      <th>2</th>\n",
       "      <td>162009</td>\n",
       "      <td>Wired Headphones</td>\n",
       "      <td>2</td>\n",
       "      <td>11.990000</td>\n",
       "      <td>23.980000</td>\n",
       "      <td>03/28/19 20:59</td>\n",
       "      <td>942 Church St, Austin, TX 73301</td>\n",
       "      <td>03</td>\n",
       "      <td>Austin</td>\n",
       "    </tr>\n",
       "    <tr>\n",
       "      <th>3</th>\n",
       "      <td>162010</td>\n",
       "      <td>Bose SoundSport Headphones</td>\n",
       "      <td>1</td>\n",
       "      <td>99.989998</td>\n",
       "      <td>99.989998</td>\n",
       "      <td>03/17/19 05:39</td>\n",
       "      <td>261 10th St, San Francisco, CA 94016</td>\n",
       "      <td>03</td>\n",
       "      <td>San Francisco</td>\n",
       "    </tr>\n",
       "    <tr>\n",
       "      <th>4</th>\n",
       "      <td>162011</td>\n",
       "      <td>34in Ultrawide Monitor</td>\n",
       "      <td>1</td>\n",
       "      <td>379.989990</td>\n",
       "      <td>379.989990</td>\n",
       "      <td>03/10/19 00:01</td>\n",
       "      <td>764 13th St, San Francisco, CA 94016</td>\n",
       "      <td>03</td>\n",
       "      <td>San Francisco</td>\n",
       "    </tr>\n",
       "  </tbody>\n",
       "</table>\n",
       "</div>"
      ],
      "text/plain": [
       "  Order ID                     Product  Quantity Ordered  Price Each  \\\n",
       "0   162009                      iPhone                 1  700.000000   \n",
       "1   162009    Lightning Charging Cable                 1   14.950000   \n",
       "2   162009            Wired Headphones                 2   11.990000   \n",
       "3   162010  Bose SoundSport Headphones                 1   99.989998   \n",
       "4   162011      34in Ultrawide Monitor                 1  379.989990   \n",
       "\n",
       "        Sales      Order Date                      Purchase Address Month  \\\n",
       "0  700.000000  03/28/19 20:59       942 Church St, Austin, TX 73301    03   \n",
       "1   14.950000  03/28/19 20:59       942 Church St, Austin, TX 73301    03   \n",
       "2   23.980000  03/28/19 20:59       942 Church St, Austin, TX 73301    03   \n",
       "3   99.989998  03/17/19 05:39  261 10th St, San Francisco, CA 94016    03   \n",
       "4  379.989990  03/10/19 00:01  764 13th St, San Francisco, CA 94016    03   \n",
       "\n",
       "             City  \n",
       "0          Austin  \n",
       "1          Austin  \n",
       "2          Austin  \n",
       "3   San Francisco  \n",
       "4   San Francisco  "
      ]
     },
     "execution_count": 38,
     "metadata": {},
     "output_type": "execute_result"
    }
   ],
   "source": [
    "df_12month.head()"
   ]
  },
  {
   "cell_type": "code",
   "execution_count": 39,
   "id": "980948f8",
   "metadata": {},
   "outputs": [
    {
     "data": {
      "text/plain": [
       "dtype('O')"
      ]
     },
     "execution_count": 39,
     "metadata": {},
     "output_type": "execute_result"
    }
   ],
   "source": [
    "#object to datetime\n",
    "df_12month['Order Date'].dtype"
   ]
  },
  {
   "cell_type": "code",
   "execution_count": 40,
   "id": "57785313",
   "metadata": {},
   "outputs": [],
   "source": [
    "df_12month['Order Date']=pd.to_datetime(df_12month['Order Date'])"
   ]
  },
  {
   "cell_type": "code",
   "execution_count": 41,
   "id": "37c31f97",
   "metadata": {},
   "outputs": [
    {
     "name": "stdout",
     "output_type": "stream",
     "text": [
      "datetime64[ns]\n"
     ]
    }
   ],
   "source": [
    "print(df_12month['Order Date'].dtype)"
   ]
  },
  {
   "cell_type": "code",
   "execution_count": 42,
   "id": "a155fde7",
   "metadata": {},
   "outputs": [
    {
     "data": {
      "text/plain": [
       "0        20\n",
       "1        20\n",
       "2        20\n",
       "3         5\n",
       "4         0\n",
       "         ..\n",
       "12006    22\n",
       "12007    16\n",
       "12008     7\n",
       "12009    12\n",
       "12010     8\n",
       "Name: Order Date, Length: 185950, dtype: int64"
      ]
     },
     "execution_count": 42,
     "metadata": {},
     "output_type": "execute_result"
    }
   ],
   "source": [
    "df_12month['Order Date'].dt.hour"
   ]
  },
  {
   "cell_type": "code",
   "execution_count": 43,
   "id": "6a3f8e59",
   "metadata": {},
   "outputs": [
    {
     "data": {
      "text/html": [
       "<div>\n",
       "<style scoped>\n",
       "    .dataframe tbody tr th:only-of-type {\n",
       "        vertical-align: middle;\n",
       "    }\n",
       "\n",
       "    .dataframe tbody tr th {\n",
       "        vertical-align: top;\n",
       "    }\n",
       "\n",
       "    .dataframe thead th {\n",
       "        text-align: right;\n",
       "    }\n",
       "</style>\n",
       "<table border=\"1\" class=\"dataframe\">\n",
       "  <thead>\n",
       "    <tr style=\"text-align: right;\">\n",
       "      <th></th>\n",
       "      <th>Order ID</th>\n",
       "      <th>Product</th>\n",
       "      <th>Quantity Ordered</th>\n",
       "      <th>Price Each</th>\n",
       "      <th>Sales</th>\n",
       "      <th>Order Date</th>\n",
       "      <th>Purchase Address</th>\n",
       "      <th>Month</th>\n",
       "      <th>City</th>\n",
       "      <th>Hours</th>\n",
       "    </tr>\n",
       "  </thead>\n",
       "  <tbody>\n",
       "    <tr>\n",
       "      <th>0</th>\n",
       "      <td>162009</td>\n",
       "      <td>iPhone</td>\n",
       "      <td>1</td>\n",
       "      <td>700.000000</td>\n",
       "      <td>700.000000</td>\n",
       "      <td>2019-03-28 20:59:00</td>\n",
       "      <td>942 Church St, Austin, TX 73301</td>\n",
       "      <td>03</td>\n",
       "      <td>Austin</td>\n",
       "      <td>20</td>\n",
       "    </tr>\n",
       "    <tr>\n",
       "      <th>1</th>\n",
       "      <td>162009</td>\n",
       "      <td>Lightning Charging Cable</td>\n",
       "      <td>1</td>\n",
       "      <td>14.950000</td>\n",
       "      <td>14.950000</td>\n",
       "      <td>2019-03-28 20:59:00</td>\n",
       "      <td>942 Church St, Austin, TX 73301</td>\n",
       "      <td>03</td>\n",
       "      <td>Austin</td>\n",
       "      <td>20</td>\n",
       "    </tr>\n",
       "    <tr>\n",
       "      <th>2</th>\n",
       "      <td>162009</td>\n",
       "      <td>Wired Headphones</td>\n",
       "      <td>2</td>\n",
       "      <td>11.990000</td>\n",
       "      <td>23.980000</td>\n",
       "      <td>2019-03-28 20:59:00</td>\n",
       "      <td>942 Church St, Austin, TX 73301</td>\n",
       "      <td>03</td>\n",
       "      <td>Austin</td>\n",
       "      <td>20</td>\n",
       "    </tr>\n",
       "    <tr>\n",
       "      <th>3</th>\n",
       "      <td>162010</td>\n",
       "      <td>Bose SoundSport Headphones</td>\n",
       "      <td>1</td>\n",
       "      <td>99.989998</td>\n",
       "      <td>99.989998</td>\n",
       "      <td>2019-03-17 05:39:00</td>\n",
       "      <td>261 10th St, San Francisco, CA 94016</td>\n",
       "      <td>03</td>\n",
       "      <td>San Francisco</td>\n",
       "      <td>5</td>\n",
       "    </tr>\n",
       "    <tr>\n",
       "      <th>4</th>\n",
       "      <td>162011</td>\n",
       "      <td>34in Ultrawide Monitor</td>\n",
       "      <td>1</td>\n",
       "      <td>379.989990</td>\n",
       "      <td>379.989990</td>\n",
       "      <td>2019-03-10 00:01:00</td>\n",
       "      <td>764 13th St, San Francisco, CA 94016</td>\n",
       "      <td>03</td>\n",
       "      <td>San Francisco</td>\n",
       "      <td>0</td>\n",
       "    </tr>\n",
       "  </tbody>\n",
       "</table>\n",
       "</div>"
      ],
      "text/plain": [
       "  Order ID                     Product  Quantity Ordered  Price Each  \\\n",
       "0   162009                      iPhone                 1  700.000000   \n",
       "1   162009    Lightning Charging Cable                 1   14.950000   \n",
       "2   162009            Wired Headphones                 2   11.990000   \n",
       "3   162010  Bose SoundSport Headphones                 1   99.989998   \n",
       "4   162011      34in Ultrawide Monitor                 1  379.989990   \n",
       "\n",
       "        Sales          Order Date                      Purchase Address Month  \\\n",
       "0  700.000000 2019-03-28 20:59:00       942 Church St, Austin, TX 73301    03   \n",
       "1   14.950000 2019-03-28 20:59:00       942 Church St, Austin, TX 73301    03   \n",
       "2   23.980000 2019-03-28 20:59:00       942 Church St, Austin, TX 73301    03   \n",
       "3   99.989998 2019-03-17 05:39:00  261 10th St, San Francisco, CA 94016    03   \n",
       "4  379.989990 2019-03-10 00:01:00  764 13th St, San Francisco, CA 94016    03   \n",
       "\n",
       "             City  Hours  \n",
       "0          Austin     20  \n",
       "1          Austin     20  \n",
       "2          Austin     20  \n",
       "3   San Francisco      5  \n",
       "4   San Francisco      0  "
      ]
     },
     "execution_count": 43,
     "metadata": {},
     "output_type": "execute_result"
    }
   ],
   "source": [
    "df_12month['Hours']= df_12month['Order Date'].dt.hour\n",
    "df_12month.head()"
   ]
  },
  {
   "cell_type": "code",
   "execution_count": 44,
   "id": "508448c3",
   "metadata": {},
   "outputs": [
    {
     "name": "stdout",
     "output_type": "stream",
     "text": [
      "Hours\n",
      "0      3910\n",
      "1      2350\n",
      "2      1243\n",
      "3       831\n",
      "4       854\n",
      "5      1321\n",
      "6      2482\n",
      "7      4011\n",
      "8      6256\n",
      "9      8748\n",
      "10    10944\n",
      "11    12411\n",
      "12    12587\n",
      "13    12129\n",
      "14    10984\n",
      "15    10175\n",
      "16    10384\n",
      "17    10899\n",
      "18    12280\n",
      "19    12905\n",
      "20    12228\n",
      "21    10921\n",
      "22     8822\n",
      "23     6275\n",
      "Name: Sales, dtype: int64\n"
     ]
    }
   ],
   "source": [
    "#total orders placed by the hour ? ==> count.()\n",
    "sales_hours = df_12month.groupby('Hours').count()['Sales']\n",
    "print(sales_hours)"
   ]
  },
  {
   "cell_type": "code",
   "execution_count": 45,
   "id": "26be8b80",
   "metadata": {},
   "outputs": [
    {
     "name": "stdout",
     "output_type": "stream",
     "text": [
      "{0, 1, 2, 3, 4, 5, 6, 7, 8, 9, 10, 11, 12, 13, 14, 15, 16, 17, 18, 19, 20, 21, 22, 23}\n"
     ]
    }
   ],
   "source": [
    "hours = set(df_12month['Hours'])\n",
    "print(hours)"
   ]
  },
  {
   "cell_type": "code",
   "execution_count": 46,
   "id": "dfae0d2d",
   "metadata": {},
   "outputs": [
    {
     "data": {
      "image/png": "[encoded data removed]",
      "text/plain": [
       "<Figure size 432x288 with 1 Axes>"
      ]
     },
     "metadata": {
      "needs_background": "light"
     },
     "output_type": "display_data"
    }
   ],
   "source": [
    "plt.bar(x=range(0,24),height=sales_hours)\n",
    "plt.xticks(range(0,24),rotation=90,size=8)\n",
    "plt.xlabel('Hour')\n",
    "plt.ylabel('Sales_value(USD)');\n"
   ]
  },
  {
   "cell_type": "code",
   "execution_count": 53,
   "id": "c250ff89",
   "metadata": {},
   "outputs": [
    {
     "data": {
      "image/png": "[encoded data removed]",
      "text/plain": [
       "<Figure size 432x288 with 1 Axes>"
      ]
     },
     "metadata": {
      "needs_background": "light"
     },
     "output_type": "display_data"
    }
   ],
   "source": [
    "plt.plot(range(0,24),sales_hours)\n",
    "plt.grid()\n",
    "plt.xticks(range(0,24),rotation=90,size=12)\n",
    "plt.xlabel('Hour')\n",
    "plt.ylabel('Sales_value(USD)');"
   ]
  },
  {
   "cell_type": "markdown",
   "id": "f5a81d9b",
   "metadata": {},
   "source": [
    "# What time should we display ads to maximize the likelihood of customer's buying product?\n",
    "===> 11,12,18,19,20,.."
   ]
  },
  {
   "cell_type": "markdown",
   "id": "576d3480",
   "metadata": {},
   "source": [
    "# What products are most often sold together?"
   ]
  },
  {
   "cell_type": "markdown",
   "id": "d646a4bb",
   "metadata": {},
   "source": [
    "\n",
    "## ==> What products are most often purchased by the same person,at the same time? ==> same id,same time"
   ]
  },
  {
   "cell_type": "code",
   "execution_count": 64,
   "id": "67d2da48",
   "metadata": {},
   "outputs": [
    {
     "data": {
      "text/html": [
       "<div>\n",
       "<style scoped>\n",
       "    .dataframe tbody tr th:only-of-type {\n",
       "        vertical-align: middle;\n",
       "    }\n",
       "\n",
       "    .dataframe tbody tr th {\n",
       "        vertical-align: top;\n",
       "    }\n",
       "\n",
       "    .dataframe thead th {\n",
       "        text-align: right;\n",
       "    }\n",
       "</style>\n",
       "<table border=\"1\" class=\"dataframe\">\n",
       "  <thead>\n",
       "    <tr style=\"text-align: right;\">\n",
       "      <th></th>\n",
       "      <th>Order ID</th>\n",
       "      <th>Product</th>\n",
       "      <th>Quantity Ordered</th>\n",
       "      <th>Price Each</th>\n",
       "      <th>Sales</th>\n",
       "      <th>Order Date</th>\n",
       "      <th>Purchase Address</th>\n",
       "      <th>Month</th>\n",
       "      <th>City</th>\n",
       "      <th>Hours</th>\n",
       "    </tr>\n",
       "  </thead>\n",
       "  <tbody>\n",
       "    <tr>\n",
       "      <th>0</th>\n",
       "      <td>162009</td>\n",
       "      <td>iPhone</td>\n",
       "      <td>1</td>\n",
       "      <td>700.00</td>\n",
       "      <td>700.00</td>\n",
       "      <td>2019-03-28 20:59:00</td>\n",
       "      <td>942 Church St, Austin, TX 73301</td>\n",
       "      <td>03</td>\n",
       "      <td>Austin</td>\n",
       "      <td>20</td>\n",
       "    </tr>\n",
       "    <tr>\n",
       "      <th>1</th>\n",
       "      <td>162009</td>\n",
       "      <td>Lightning Charging Cable</td>\n",
       "      <td>1</td>\n",
       "      <td>14.95</td>\n",
       "      <td>14.95</td>\n",
       "      <td>2019-03-28 20:59:00</td>\n",
       "      <td>942 Church St, Austin, TX 73301</td>\n",
       "      <td>03</td>\n",
       "      <td>Austin</td>\n",
       "      <td>20</td>\n",
       "    </tr>\n",
       "    <tr>\n",
       "      <th>2</th>\n",
       "      <td>162009</td>\n",
       "      <td>Wired Headphones</td>\n",
       "      <td>2</td>\n",
       "      <td>11.99</td>\n",
       "      <td>23.98</td>\n",
       "      <td>2019-03-28 20:59:00</td>\n",
       "      <td>942 Church St, Austin, TX 73301</td>\n",
       "      <td>03</td>\n",
       "      <td>Austin</td>\n",
       "      <td>20</td>\n",
       "    </tr>\n",
       "    <tr>\n",
       "      <th>30</th>\n",
       "      <td>162037</td>\n",
       "      <td>iPhone</td>\n",
       "      <td>1</td>\n",
       "      <td>700.00</td>\n",
       "      <td>700.00</td>\n",
       "      <td>2019-03-23 02:11:00</td>\n",
       "      <td>277 Elm St, Los Angeles, CA 90001</td>\n",
       "      <td>03</td>\n",
       "      <td>Los Angeles</td>\n",
       "      <td>2</td>\n",
       "    </tr>\n",
       "    <tr>\n",
       "      <th>31</th>\n",
       "      <td>162037</td>\n",
       "      <td>Lightning Charging Cable</td>\n",
       "      <td>1</td>\n",
       "      <td>14.95</td>\n",
       "      <td>14.95</td>\n",
       "      <td>2019-03-23 02:11:00</td>\n",
       "      <td>277 Elm St, Los Angeles, CA 90001</td>\n",
       "      <td>03</td>\n",
       "      <td>Los Angeles</td>\n",
       "      <td>2</td>\n",
       "    </tr>\n",
       "  </tbody>\n",
       "</table>\n",
       "</div>"
      ],
      "text/plain": [
       "   Order ID                   Product  Quantity Ordered  Price Each   Sales  \\\n",
       "0    162009                    iPhone                 1      700.00  700.00   \n",
       "1    162009  Lightning Charging Cable                 1       14.95   14.95   \n",
       "2    162009          Wired Headphones                 2       11.99   23.98   \n",
       "30   162037                    iPhone                 1      700.00  700.00   \n",
       "31   162037  Lightning Charging Cable                 1       14.95   14.95   \n",
       "\n",
       "            Order Date                   Purchase Address Month          City  \\\n",
       "0  2019-03-28 20:59:00    942 Church St, Austin, TX 73301    03        Austin   \n",
       "1  2019-03-28 20:59:00    942 Church St, Austin, TX 73301    03        Austin   \n",
       "2  2019-03-28 20:59:00    942 Church St, Austin, TX 73301    03        Austin   \n",
       "30 2019-03-23 02:11:00  277 Elm St, Los Angeles, CA 90001    03   Los Angeles   \n",
       "31 2019-03-23 02:11:00  277 Elm St, Los Angeles, CA 90001    03   Los Angeles   \n",
       "\n",
       "    Hours  \n",
       "0      20  \n",
       "1      20  \n",
       "2      20  \n",
       "30      2  \n",
       "31      2  "
      ]
     },
     "execution_count": 64,
     "metadata": {},
     "output_type": "execute_result"
    }
   ],
   "source": [
    "#Find duplicate item :\n",
    "df_dup = df_12month[df_12month['Order ID'].duplicated(keep = False)]\n",
    "df_dup.head()"
   ]
  },
  {
   "cell_type": "code",
   "execution_count": 80,
   "id": "259c1470",
   "metadata": {},
   "outputs": [
    {
     "name": "stdout",
     "output_type": "stream",
     "text": [
      "Order ID\n",
      "141275             USB-C Charging Cable, Wired Headphones\n",
      "141290    Apple Airpods Headphones, AA Batteries (4-pack)\n",
      "141365                  Vareebadd Phone, Wired Headphones\n",
      "141384                 Google Phone, USB-C Charging Cable\n",
      "141450           Google Phone, Bose SoundSport Headphones\n",
      "Name: Product, dtype: object\n",
      "<class 'pandas.core.series.Series'>\n"
     ]
    }
   ],
   "source": [
    "#Combine multiple rows into 1 row (we want to combine all the product of each id into 1 row)\n",
    "df_dup_joined = df_dup.groupby('Order ID')['Product'].apply(lambda x:', '.join(x))#.reset_index()\n",
    "print(df_dup_joined.head())\n",
    "print(type(df_dup_joined))"
   ]
  },
  {
   "cell_type": "code",
   "execution_count": 78,
   "id": "70b37395",
   "metadata": {},
   "outputs": [
    {
     "name": "stderr",
     "output_type": "stream",
     "text": [
      "<ipython-input-78-4f290909438a>:1: SettingWithCopyWarning: \n",
      "A value is trying to be set on a copy of a slice from a DataFrame.\n",
      "Try using .loc[row_indexer,col_indexer] = value instead\n",
      "\n",
      "See the caveats in the documentation: https://pandas.pydata.org/pandas-docs/stable/user_guide/indexing.html#returning-a-view-versus-a-copy\n",
      "  df_dup['All products']=df_dup_joined\n"
     ]
    },
    {
     "data": {
      "text/html": [
       "<div>\n",
       "<style scoped>\n",
       "    .dataframe tbody tr th:only-of-type {\n",
       "        vertical-align: middle;\n",
       "    }\n",
       "\n",
       "    .dataframe tbody tr th {\n",
       "        vertical-align: top;\n",
       "    }\n",
       "\n",
       "    .dataframe thead th {\n",
       "        text-align: right;\n",
       "    }\n",
       "</style>\n",
       "<table border=\"1\" class=\"dataframe\">\n",
       "  <thead>\n",
       "    <tr style=\"text-align: right;\">\n",
       "      <th></th>\n",
       "      <th>Order ID</th>\n",
       "      <th>Product</th>\n",
       "      <th>Quantity Ordered</th>\n",
       "      <th>Price Each</th>\n",
       "      <th>Sales</th>\n",
       "      <th>Order Date</th>\n",
       "      <th>Purchase Address</th>\n",
       "      <th>Month</th>\n",
       "      <th>City</th>\n",
       "      <th>Hours</th>\n",
       "      <th>All products</th>\n",
       "    </tr>\n",
       "  </thead>\n",
       "  <tbody>\n",
       "    <tr>\n",
       "      <th>0</th>\n",
       "      <td>162009</td>\n",
       "      <td>iPhone</td>\n",
       "      <td>1</td>\n",
       "      <td>700.00</td>\n",
       "      <td>700.00</td>\n",
       "      <td>2019-03-28 20:59:00</td>\n",
       "      <td>942 Church St, Austin, TX 73301</td>\n",
       "      <td>03</td>\n",
       "      <td>Austin</td>\n",
       "      <td>20</td>\n",
       "      <td>NaN</td>\n",
       "    </tr>\n",
       "    <tr>\n",
       "      <th>1</th>\n",
       "      <td>162009</td>\n",
       "      <td>Lightning Charging Cable</td>\n",
       "      <td>1</td>\n",
       "      <td>14.95</td>\n",
       "      <td>14.95</td>\n",
       "      <td>2019-03-28 20:59:00</td>\n",
       "      <td>942 Church St, Austin, TX 73301</td>\n",
       "      <td>03</td>\n",
       "      <td>Austin</td>\n",
       "      <td>20</td>\n",
       "      <td>NaN</td>\n",
       "    </tr>\n",
       "    <tr>\n",
       "      <th>2</th>\n",
       "      <td>162009</td>\n",
       "      <td>Wired Headphones</td>\n",
       "      <td>2</td>\n",
       "      <td>11.99</td>\n",
       "      <td>23.98</td>\n",
       "      <td>2019-03-28 20:59:00</td>\n",
       "      <td>942 Church St, Austin, TX 73301</td>\n",
       "      <td>03</td>\n",
       "      <td>Austin</td>\n",
       "      <td>20</td>\n",
       "      <td>NaN</td>\n",
       "    </tr>\n",
       "    <tr>\n",
       "      <th>30</th>\n",
       "      <td>162037</td>\n",
       "      <td>iPhone</td>\n",
       "      <td>1</td>\n",
       "      <td>700.00</td>\n",
       "      <td>700.00</td>\n",
       "      <td>2019-03-23 02:11:00</td>\n",
       "      <td>277 Elm St, Los Angeles, CA 90001</td>\n",
       "      <td>03</td>\n",
       "      <td>Los Angeles</td>\n",
       "      <td>2</td>\n",
       "      <td>NaN</td>\n",
       "    </tr>\n",
       "    <tr>\n",
       "      <th>31</th>\n",
       "      <td>162037</td>\n",
       "      <td>Lightning Charging Cable</td>\n",
       "      <td>1</td>\n",
       "      <td>14.95</td>\n",
       "      <td>14.95</td>\n",
       "      <td>2019-03-23 02:11:00</td>\n",
       "      <td>277 Elm St, Los Angeles, CA 90001</td>\n",
       "      <td>03</td>\n",
       "      <td>Los Angeles</td>\n",
       "      <td>2</td>\n",
       "      <td>NaN</td>\n",
       "    </tr>\n",
       "  </tbody>\n",
       "</table>\n",
       "</div>"
      ],
      "text/plain": [
       "   Order ID                   Product  Quantity Ordered  Price Each   Sales  \\\n",
       "0    162009                    iPhone                 1      700.00  700.00   \n",
       "1    162009  Lightning Charging Cable                 1       14.95   14.95   \n",
       "2    162009          Wired Headphones                 2       11.99   23.98   \n",
       "30   162037                    iPhone                 1      700.00  700.00   \n",
       "31   162037  Lightning Charging Cable                 1       14.95   14.95   \n",
       "\n",
       "            Order Date                   Purchase Address Month          City  \\\n",
       "0  2019-03-28 20:59:00    942 Church St, Austin, TX 73301    03        Austin   \n",
       "1  2019-03-28 20:59:00    942 Church St, Austin, TX 73301    03        Austin   \n",
       "2  2019-03-28 20:59:00    942 Church St, Austin, TX 73301    03        Austin   \n",
       "30 2019-03-23 02:11:00  277 Elm St, Los Angeles, CA 90001    03   Los Angeles   \n",
       "31 2019-03-23 02:11:00  277 Elm St, Los Angeles, CA 90001    03   Los Angeles   \n",
       "\n",
       "    Hours All products  \n",
       "0      20          NaN  \n",
       "1      20          NaN  \n",
       "2      20          NaN  \n",
       "30      2          NaN  \n",
       "31      2          NaN  "
      ]
     },
     "execution_count": 78,
     "metadata": {},
     "output_type": "execute_result"
    }
   ],
   "source": [
    "df_dup['All products']=df_dup_joined\n",
    "df_dup.head()"
   ]
  },
  {
   "cell_type": "markdown",
   "id": "ca8602a2",
   "metadata": {},
   "source": [
    "## ==>Return NaN ?"
   ]
  },
  {
   "cell_type": "code",
   "execution_count": 93,
   "id": "590f7445",
   "metadata": {},
   "outputs": [
    {
     "name": "stdout",
     "output_type": "stream",
     "text": [
      "0     iPhone, Lightning Charging Cable, Wired Headph...\n",
      "1     iPhone, Lightning Charging Cable, Wired Headph...\n",
      "2     iPhone, Lightning Charging Cable, Wired Headph...\n",
      "30                     iPhone, Lightning Charging Cable\n",
      "31                     iPhone, Lightning Charging Cable\n",
      "Name: Product, dtype: object\n",
      "<class 'pandas.core.series.Series'>\n"
     ]
    }
   ],
   "source": [
    "#Try to use tranform \n",
    "df_dup_joined = df_dup.groupby('Order ID')['Product'].transform(lambda x:', '.join(x))#.reset_index()\n",
    "print(df_dup_joined.head())\n",
    "print(type(df_dup_joined))"
   ]
  },
  {
   "cell_type": "code",
   "execution_count": 94,
   "id": "da8e93d8",
   "metadata": {},
   "outputs": [
    {
     "name": "stderr",
     "output_type": "stream",
     "text": [
      "<ipython-input-94-4f290909438a>:1: SettingWithCopyWarning: \n",
      "A value is trying to be set on a copy of a slice from a DataFrame.\n",
      "Try using .loc[row_indexer,col_indexer] = value instead\n",
      "\n",
      "See the caveats in the documentation: https://pandas.pydata.org/pandas-docs/stable/user_guide/indexing.html#returning-a-view-versus-a-copy\n",
      "  df_dup['All products']=df_dup_joined\n"
     ]
    },
    {
     "data": {
      "text/html": [
       "<div>\n",
       "<style scoped>\n",
       "    .dataframe tbody tr th:only-of-type {\n",
       "        vertical-align: middle;\n",
       "    }\n",
       "\n",
       "    .dataframe tbody tr th {\n",
       "        vertical-align: top;\n",
       "    }\n",
       "\n",
       "    .dataframe thead th {\n",
       "        text-align: right;\n",
       "    }\n",
       "</style>\n",
       "<table border=\"1\" class=\"dataframe\">\n",
       "  <thead>\n",
       "    <tr style=\"text-align: right;\">\n",
       "      <th></th>\n",
       "      <th>Order ID</th>\n",
       "      <th>Product</th>\n",
       "      <th>Quantity Ordered</th>\n",
       "      <th>Price Each</th>\n",
       "      <th>Sales</th>\n",
       "      <th>Order Date</th>\n",
       "      <th>Purchase Address</th>\n",
       "      <th>Month</th>\n",
       "      <th>City</th>\n",
       "      <th>Hours</th>\n",
       "      <th>All products</th>\n",
       "    </tr>\n",
       "  </thead>\n",
       "  <tbody>\n",
       "    <tr>\n",
       "      <th>0</th>\n",
       "      <td>162009</td>\n",
       "      <td>iPhone</td>\n",
       "      <td>1</td>\n",
       "      <td>700.00</td>\n",
       "      <td>700.00</td>\n",
       "      <td>2019-03-28 20:59:00</td>\n",
       "      <td>942 Church St, Austin, TX 73301</td>\n",
       "      <td>03</td>\n",
       "      <td>Austin</td>\n",
       "      <td>20</td>\n",
       "      <td>iPhone, Lightning Charging Cable, Wired Headph...</td>\n",
       "    </tr>\n",
       "    <tr>\n",
       "      <th>1</th>\n",
       "      <td>162009</td>\n",
       "      <td>Lightning Charging Cable</td>\n",
       "      <td>1</td>\n",
       "      <td>14.95</td>\n",
       "      <td>14.95</td>\n",
       "      <td>2019-03-28 20:59:00</td>\n",
       "      <td>942 Church St, Austin, TX 73301</td>\n",
       "      <td>03</td>\n",
       "      <td>Austin</td>\n",
       "      <td>20</td>\n",
       "      <td>iPhone, Lightning Charging Cable, Wired Headph...</td>\n",
       "    </tr>\n",
       "    <tr>\n",
       "      <th>2</th>\n",
       "      <td>162009</td>\n",
       "      <td>Wired Headphones</td>\n",
       "      <td>2</td>\n",
       "      <td>11.99</td>\n",
       "      <td>23.98</td>\n",
       "      <td>2019-03-28 20:59:00</td>\n",
       "      <td>942 Church St, Austin, TX 73301</td>\n",
       "      <td>03</td>\n",
       "      <td>Austin</td>\n",
       "      <td>20</td>\n",
       "      <td>iPhone, Lightning Charging Cable, Wired Headph...</td>\n",
       "    </tr>\n",
       "    <tr>\n",
       "      <th>30</th>\n",
       "      <td>162037</td>\n",
       "      <td>iPhone</td>\n",
       "      <td>1</td>\n",
       "      <td>700.00</td>\n",
       "      <td>700.00</td>\n",
       "      <td>2019-03-23 02:11:00</td>\n",
       "      <td>277 Elm St, Los Angeles, CA 90001</td>\n",
       "      <td>03</td>\n",
       "      <td>Los Angeles</td>\n",
       "      <td>2</td>\n",
       "      <td>iPhone, Lightning Charging Cable</td>\n",
       "    </tr>\n",
       "    <tr>\n",
       "      <th>31</th>\n",
       "      <td>162037</td>\n",
       "      <td>Lightning Charging Cable</td>\n",
       "      <td>1</td>\n",
       "      <td>14.95</td>\n",
       "      <td>14.95</td>\n",
       "      <td>2019-03-23 02:11:00</td>\n",
       "      <td>277 Elm St, Los Angeles, CA 90001</td>\n",
       "      <td>03</td>\n",
       "      <td>Los Angeles</td>\n",
       "      <td>2</td>\n",
       "      <td>iPhone, Lightning Charging Cable</td>\n",
       "    </tr>\n",
       "  </tbody>\n",
       "</table>\n",
       "</div>"
      ],
      "text/plain": [
       "   Order ID                   Product  Quantity Ordered  Price Each   Sales  \\\n",
       "0    162009                    iPhone                 1      700.00  700.00   \n",
       "1    162009  Lightning Charging Cable                 1       14.95   14.95   \n",
       "2    162009          Wired Headphones                 2       11.99   23.98   \n",
       "30   162037                    iPhone                 1      700.00  700.00   \n",
       "31   162037  Lightning Charging Cable                 1       14.95   14.95   \n",
       "\n",
       "            Order Date                   Purchase Address Month          City  \\\n",
       "0  2019-03-28 20:59:00    942 Church St, Austin, TX 73301    03        Austin   \n",
       "1  2019-03-28 20:59:00    942 Church St, Austin, TX 73301    03        Austin   \n",
       "2  2019-03-28 20:59:00    942 Church St, Austin, TX 73301    03        Austin   \n",
       "30 2019-03-23 02:11:00  277 Elm St, Los Angeles, CA 90001    03   Los Angeles   \n",
       "31 2019-03-23 02:11:00  277 Elm St, Los Angeles, CA 90001    03   Los Angeles   \n",
       "\n",
       "    Hours                                       All products  \n",
       "0      20  iPhone, Lightning Charging Cable, Wired Headph...  \n",
       "1      20  iPhone, Lightning Charging Cable, Wired Headph...  \n",
       "2      20  iPhone, Lightning Charging Cable, Wired Headph...  \n",
       "30      2                   iPhone, Lightning Charging Cable  \n",
       "31      2                   iPhone, Lightning Charging Cable  "
      ]
     },
     "execution_count": 94,
     "metadata": {},
     "output_type": "execute_result"
    }
   ],
   "source": [
    "df_dup['All products']=df_dup_joined\n",
    "df_dup.head()"
   ]
  },
  {
   "cell_type": "markdown",
   "id": "9a4b84b9",
   "metadata": {},
   "source": [
    "## ==>OK "
   ]
  },
  {
   "cell_type": "code",
   "execution_count": 104,
   "id": "4f4e538f",
   "metadata": {},
   "outputs": [
    {
     "data": {
      "text/html": [
       "<div>\n",
       "<style scoped>\n",
       "    .dataframe tbody tr th:only-of-type {\n",
       "        vertical-align: middle;\n",
       "    }\n",
       "\n",
       "    .dataframe tbody tr th {\n",
       "        vertical-align: top;\n",
       "    }\n",
       "\n",
       "    .dataframe thead th {\n",
       "        text-align: right;\n",
       "    }\n",
       "</style>\n",
       "<table border=\"1\" class=\"dataframe\">\n",
       "  <thead>\n",
       "    <tr style=\"text-align: right;\">\n",
       "      <th></th>\n",
       "      <th>Order ID</th>\n",
       "      <th>All products</th>\n",
       "    </tr>\n",
       "  </thead>\n",
       "  <tbody>\n",
       "    <tr>\n",
       "      <th>0</th>\n",
       "      <td>162009</td>\n",
       "      <td>iPhone, Lightning Charging Cable, Wired Headph...</td>\n",
       "    </tr>\n",
       "    <tr>\n",
       "      <th>1</th>\n",
       "      <td>162009</td>\n",
       "      <td>iPhone, Lightning Charging Cable, Wired Headph...</td>\n",
       "    </tr>\n",
       "    <tr>\n",
       "      <th>2</th>\n",
       "      <td>162009</td>\n",
       "      <td>iPhone, Lightning Charging Cable, Wired Headph...</td>\n",
       "    </tr>\n",
       "    <tr>\n",
       "      <th>30</th>\n",
       "      <td>162037</td>\n",
       "      <td>iPhone, Lightning Charging Cable</td>\n",
       "    </tr>\n",
       "    <tr>\n",
       "      <th>31</th>\n",
       "      <td>162037</td>\n",
       "      <td>iPhone, Lightning Charging Cable</td>\n",
       "    </tr>\n",
       "    <tr>\n",
       "      <th>...</th>\n",
       "      <td>...</td>\n",
       "      <td>...</td>\n",
       "    </tr>\n",
       "    <tr>\n",
       "      <th>11946</th>\n",
       "      <td>248088</td>\n",
       "      <td>ThinkPad Laptop, Bose SoundSport Headphones</td>\n",
       "    </tr>\n",
       "    <tr>\n",
       "      <th>11963</th>\n",
       "      <td>248105</td>\n",
       "      <td>Google Phone, Wired Headphones</td>\n",
       "    </tr>\n",
       "    <tr>\n",
       "      <th>11964</th>\n",
       "      <td>248105</td>\n",
       "      <td>Google Phone, Wired Headphones</td>\n",
       "    </tr>\n",
       "    <tr>\n",
       "      <th>11979</th>\n",
       "      <td>248120</td>\n",
       "      <td>Google Phone, USB-C Charging Cable</td>\n",
       "    </tr>\n",
       "    <tr>\n",
       "      <th>11980</th>\n",
       "      <td>248120</td>\n",
       "      <td>Google Phone, USB-C Charging Cable</td>\n",
       "    </tr>\n",
       "  </tbody>\n",
       "</table>\n",
       "<p>14649 rows × 2 columns</p>\n",
       "</div>"
      ],
      "text/plain": [
       "      Order ID                                       All products\n",
       "0       162009  iPhone, Lightning Charging Cable, Wired Headph...\n",
       "1       162009  iPhone, Lightning Charging Cable, Wired Headph...\n",
       "2       162009  iPhone, Lightning Charging Cable, Wired Headph...\n",
       "30      162037                   iPhone, Lightning Charging Cable\n",
       "31      162037                   iPhone, Lightning Charging Cable\n",
       "...        ...                                                ...\n",
       "11946   248088        ThinkPad Laptop, Bose SoundSport Headphones\n",
       "11963   248105                     Google Phone, Wired Headphones\n",
       "11964   248105                     Google Phone, Wired Headphones\n",
       "11979   248120                 Google Phone, USB-C Charging Cable\n",
       "11980   248120                 Google Phone, USB-C Charging Cable\n",
       "\n",
       "[14649 rows x 2 columns]"
      ]
     },
     "execution_count": 104,
     "metadata": {},
     "output_type": "execute_result"
    }
   ],
   "source": [
    "df_dup[['Order ID','All products']]"
   ]
  },
  {
   "cell_type": "code",
   "execution_count": 107,
   "id": "c767c9ce",
   "metadata": {},
   "outputs": [
    {
     "data": {
      "text/html": [
       "<div>\n",
       "<style scoped>\n",
       "    .dataframe tbody tr th:only-of-type {\n",
       "        vertical-align: middle;\n",
       "    }\n",
       "\n",
       "    .dataframe tbody tr th {\n",
       "        vertical-align: top;\n",
       "    }\n",
       "\n",
       "    .dataframe thead th {\n",
       "        text-align: right;\n",
       "    }\n",
       "</style>\n",
       "<table border=\"1\" class=\"dataframe\">\n",
       "  <thead>\n",
       "    <tr style=\"text-align: right;\">\n",
       "      <th></th>\n",
       "      <th>Order ID</th>\n",
       "      <th>All products</th>\n",
       "    </tr>\n",
       "  </thead>\n",
       "  <tbody>\n",
       "    <tr>\n",
       "      <th>0</th>\n",
       "      <td>162009</td>\n",
       "      <td>iPhone, Lightning Charging Cable, Wired Headph...</td>\n",
       "    </tr>\n",
       "    <tr>\n",
       "      <th>30</th>\n",
       "      <td>162037</td>\n",
       "      <td>iPhone, Lightning Charging Cable</td>\n",
       "    </tr>\n",
       "    <tr>\n",
       "      <th>60</th>\n",
       "      <td>162066</td>\n",
       "      <td>AA Batteries (4-pack), USB-C Charging Cable</td>\n",
       "    </tr>\n",
       "    <tr>\n",
       "      <th>66</th>\n",
       "      <td>162071</td>\n",
       "      <td>Vareebadd Phone, USB-C Charging Cable</td>\n",
       "    </tr>\n",
       "    <tr>\n",
       "      <th>78</th>\n",
       "      <td>162082</td>\n",
       "      <td>Vareebadd Phone, Wired Headphones</td>\n",
       "    </tr>\n",
       "  </tbody>\n",
       "</table>\n",
       "</div>"
      ],
      "text/plain": [
       "   Order ID                                       All products\n",
       "0    162009  iPhone, Lightning Charging Cable, Wired Headph...\n",
       "30   162037                   iPhone, Lightning Charging Cable\n",
       "60   162066        AA Batteries (4-pack), USB-C Charging Cable\n",
       "66   162071              Vareebadd Phone, USB-C Charging Cable\n",
       "78   162082                  Vareebadd Phone, Wired Headphones"
      ]
     },
     "execution_count": 107,
     "metadata": {},
     "output_type": "execute_result"
    }
   ],
   "source": [
    "#Drop the duplicated row \n",
    "df_dup = df_dup[['Order ID','All products']].drop_duplicates()\n",
    "df_dup.head()"
   ]
  },
  {
   "cell_type": "code",
   "execution_count": 117,
   "id": "0bd1f864",
   "metadata": {},
   "outputs": [
    {
     "data": {
      "text/plain": [
       "iPhone, Lightning Charging Cable                                                              882\n",
       "Google Phone, USB-C Charging Cable                                                            856\n",
       "iPhone, Wired Headphones                                                                      361\n",
       "Vareebadd Phone, USB-C Charging Cable                                                         312\n",
       "Google Phone, Wired Headphones                                                                303\n",
       "                                                                                             ... \n",
       "iPhone, Lightning Charging Cable, Apple Airpods Headphones, Wired Headphones, Google Phone      1\n",
       "LG Dryer, Google Phone                                                                          1\n",
       "LG Dryer, Lightning Charging Cable                                                              1\n",
       "iPhone, Lightning Charging Cable, Vareebadd Phone                                               1\n",
       "iPhone, Lightning Charging Cable, 34in Ultrawide Monitor                                        1\n",
       "Name: All products, Length: 366, dtype: int64"
      ]
     },
     "execution_count": 117,
     "metadata": {},
     "output_type": "execute_result"
    }
   ],
   "source": [
    "#Count number of value in  Column\n",
    "df_dup['All products'].value_counts()\n"
   ]
  },
  {
   "cell_type": "code",
   "execution_count": 119,
   "id": "6134b404",
   "metadata": {},
   "outputs": [
    {
     "data": {
      "text/plain": [
       "iPhone, Lightning Charging Cable                        882\n",
       "Google Phone, USB-C Charging Cable                      856\n",
       "iPhone, Wired Headphones                                361\n",
       "Vareebadd Phone, USB-C Charging Cable                   312\n",
       "Google Phone, Wired Headphones                          303\n",
       "iPhone, Apple Airpods Headphones                        286\n",
       "Google Phone, Bose SoundSport Headphones                161\n",
       "Vareebadd Phone, Wired Headphones                       104\n",
       "Google Phone, USB-C Charging Cable, Wired Headphones     77\n",
       "Vareebadd Phone, Bose SoundSport Headphones              60\n",
       "Name: All products, dtype: int64"
      ]
     },
     "execution_count": 119,
     "metadata": {},
     "output_type": "execute_result"
    }
   ],
   "source": [
    "#Top 10 selling products\n",
    "df_dup['All products'].value_counts().head(10)"
   ]
  },
  {
   "cell_type": "markdown",
   "id": "463dcac8",
   "metadata": {},
   "source": [
    "## ==> 10 products are most often sold together"
   ]
  },
  {
   "cell_type": "code",
   "execution_count": 120,
   "id": "54f8d3d3",
   "metadata": {},
   "outputs": [
    {
     "data": {
      "text/plain": [
       "Vareebadd Phone, iPhone                                                                       1\n",
       "Google Phone, Wired Headphones, AA Batteries (4-pack)                                         1\n",
       "LG Dryer, Wired Headphones                                                                    1\n",
       "Vareebadd Phone, Wired Headphones, Apple Airpods Headphones                                   1\n",
       "LG Washing Machine, iPhone                                                                    1\n",
       "iPhone, Lightning Charging Cable, Apple Airpods Headphones, Wired Headphones, Google Phone    1\n",
       "LG Dryer, Google Phone                                                                        1\n",
       "LG Dryer, Lightning Charging Cable                                                            1\n",
       "iPhone, Lightning Charging Cable, Vareebadd Phone                                             1\n",
       "iPhone, Lightning Charging Cable, 34in Ultrawide Monitor                                      1\n",
       "Name: All products, dtype: int64"
      ]
     },
     "execution_count": 120,
     "metadata": {},
     "output_type": "execute_result"
    }
   ],
   "source": [
    "#10 products at least\n",
    "df_dup['All products'].value_counts().tail(10)"
   ]
  },
  {
   "cell_type": "markdown",
   "id": "e2f9b527",
   "metadata": {},
   "source": [
    "## ==> 10 products are least sold together"
   ]
  },
  {
   "cell_type": "markdown",
   "id": "07e036b0",
   "metadata": {},
   "source": [
    "# What product sold the most ? why do u think it sold the most ? "
   ]
  },
  {
   "cell_type": "code",
   "execution_count": 122,
   "id": "7cfd3e4f",
   "metadata": {},
   "outputs": [
    {
     "data": {
      "text/html": [
       "<div>\n",
       "<style scoped>\n",
       "    .dataframe tbody tr th:only-of-type {\n",
       "        vertical-align: middle;\n",
       "    }\n",
       "\n",
       "    .dataframe tbody tr th {\n",
       "        vertical-align: top;\n",
       "    }\n",
       "\n",
       "    .dataframe thead th {\n",
       "        text-align: right;\n",
       "    }\n",
       "</style>\n",
       "<table border=\"1\" class=\"dataframe\">\n",
       "  <thead>\n",
       "    <tr style=\"text-align: right;\">\n",
       "      <th></th>\n",
       "      <th>Order ID</th>\n",
       "      <th>Product</th>\n",
       "      <th>Quantity Ordered</th>\n",
       "      <th>Price Each</th>\n",
       "      <th>Sales</th>\n",
       "      <th>Order Date</th>\n",
       "      <th>Purchase Address</th>\n",
       "      <th>Month</th>\n",
       "      <th>City</th>\n",
       "      <th>Hours</th>\n",
       "    </tr>\n",
       "  </thead>\n",
       "  <tbody>\n",
       "    <tr>\n",
       "      <th>0</th>\n",
       "      <td>162009</td>\n",
       "      <td>iPhone</td>\n",
       "      <td>1</td>\n",
       "      <td>700.000000</td>\n",
       "      <td>700.000000</td>\n",
       "      <td>2019-03-28 20:59:00</td>\n",
       "      <td>942 Church St, Austin, TX 73301</td>\n",
       "      <td>03</td>\n",
       "      <td>Austin</td>\n",
       "      <td>20</td>\n",
       "    </tr>\n",
       "    <tr>\n",
       "      <th>1</th>\n",
       "      <td>162009</td>\n",
       "      <td>Lightning Charging Cable</td>\n",
       "      <td>1</td>\n",
       "      <td>14.950000</td>\n",
       "      <td>14.950000</td>\n",
       "      <td>2019-03-28 20:59:00</td>\n",
       "      <td>942 Church St, Austin, TX 73301</td>\n",
       "      <td>03</td>\n",
       "      <td>Austin</td>\n",
       "      <td>20</td>\n",
       "    </tr>\n",
       "    <tr>\n",
       "      <th>2</th>\n",
       "      <td>162009</td>\n",
       "      <td>Wired Headphones</td>\n",
       "      <td>2</td>\n",
       "      <td>11.990000</td>\n",
       "      <td>23.980000</td>\n",
       "      <td>2019-03-28 20:59:00</td>\n",
       "      <td>942 Church St, Austin, TX 73301</td>\n",
       "      <td>03</td>\n",
       "      <td>Austin</td>\n",
       "      <td>20</td>\n",
       "    </tr>\n",
       "    <tr>\n",
       "      <th>3</th>\n",
       "      <td>162010</td>\n",
       "      <td>Bose SoundSport Headphones</td>\n",
       "      <td>1</td>\n",
       "      <td>99.989998</td>\n",
       "      <td>99.989998</td>\n",
       "      <td>2019-03-17 05:39:00</td>\n",
       "      <td>261 10th St, San Francisco, CA 94016</td>\n",
       "      <td>03</td>\n",
       "      <td>San Francisco</td>\n",
       "      <td>5</td>\n",
       "    </tr>\n",
       "    <tr>\n",
       "      <th>4</th>\n",
       "      <td>162011</td>\n",
       "      <td>34in Ultrawide Monitor</td>\n",
       "      <td>1</td>\n",
       "      <td>379.989990</td>\n",
       "      <td>379.989990</td>\n",
       "      <td>2019-03-10 00:01:00</td>\n",
       "      <td>764 13th St, San Francisco, CA 94016</td>\n",
       "      <td>03</td>\n",
       "      <td>San Francisco</td>\n",
       "      <td>0</td>\n",
       "    </tr>\n",
       "  </tbody>\n",
       "</table>\n",
       "</div>"
      ],
      "text/plain": [
       "  Order ID                     Product  Quantity Ordered  Price Each  \\\n",
       "0   162009                      iPhone                 1  700.000000   \n",
       "1   162009    Lightning Charging Cable                 1   14.950000   \n",
       "2   162009            Wired Headphones                 2   11.990000   \n",
       "3   162010  Bose SoundSport Headphones                 1   99.989998   \n",
       "4   162011      34in Ultrawide Monitor                 1  379.989990   \n",
       "\n",
       "        Sales          Order Date                      Purchase Address Month  \\\n",
       "0  700.000000 2019-03-28 20:59:00       942 Church St, Austin, TX 73301    03   \n",
       "1   14.950000 2019-03-28 20:59:00       942 Church St, Austin, TX 73301    03   \n",
       "2   23.980000 2019-03-28 20:59:00       942 Church St, Austin, TX 73301    03   \n",
       "3   99.989998 2019-03-17 05:39:00  261 10th St, San Francisco, CA 94016    03   \n",
       "4  379.989990 2019-03-10 00:01:00  764 13th St, San Francisco, CA 94016    03   \n",
       "\n",
       "             City  Hours  \n",
       "0          Austin     20  \n",
       "1          Austin     20  \n",
       "2          Austin     20  \n",
       "3   San Francisco      5  \n",
       "4   San Francisco      0  "
      ]
     },
     "execution_count": 122,
     "metadata": {},
     "output_type": "execute_result"
    }
   ],
   "source": [
    "df_12month.head()"
   ]
  },
  {
   "cell_type": "code",
   "execution_count": 129,
   "id": "df73bd99",
   "metadata": {},
   "outputs": [
    {
     "name": "stdout",
     "output_type": "stream",
     "text": [
      "Product\n",
      "20in Monitor                   4129.0\n",
      "27in 4K Gaming Monitor         6244.0\n",
      "27in FHD Monitor               7550.0\n",
      "34in Ultrawide Monitor         6199.0\n",
      "AA Batteries (4-pack)         27635.0\n",
      "AAA Batteries (4-pack)        31017.0\n",
      "Apple Airpods Headphones      15661.0\n",
      "Bose SoundSport Headphones    13457.0\n",
      "Flatscreen TV                  4819.0\n",
      "Google Phone                   5532.0\n",
      "LG Dryer                        646.0\n",
      "LG Washing Machine              666.0\n",
      "Lightning Charging Cable      23217.0\n",
      "Macbook Pro Laptop             4728.0\n",
      "ThinkPad Laptop                4130.0\n",
      "USB-C Charging Cable          23975.0\n",
      "Vareebadd Phone                2068.0\n",
      "Wired Headphones              20557.0\n",
      "iPhone                         6849.0\n",
      "Name: Quantity Ordered, dtype: float64 ['20in Monitor', '27in 4K Gaming Monitor', '27in FHD Monitor', '34in Ultrawide Monitor', 'AA Batteries (4-pack)', 'AAA Batteries (4-pack)', 'Apple Airpods Headphones', 'Bose SoundSport Headphones', 'Flatscreen TV', 'Google Phone', 'LG Dryer', 'LG Washing Machine', 'Lightning Charging Cable', 'Macbook Pro Laptop', 'ThinkPad Laptop', 'USB-C Charging Cable', 'Vareebadd Phone', 'Wired Headphones', 'iPhone']\n"
     ]
    }
   ],
   "source": [
    "all_product_quantity = df_12month.groupby('Product').sum()['Quantity Ordered']\n",
    "all_product = sorted(set(df_12month['Product']))\n",
    "print(all_product_quantity,all_product)"
   ]
  },
  {
   "cell_type": "code",
   "execution_count": 131,
   "id": "b7203914",
   "metadata": {},
   "outputs": [
    {
     "data": {
      "image/png": "[encoded data removed]",
      "text/plain": [
       "<Figure size 432x288 with 1 Axes>"
      ]
     },
     "metadata": {
      "needs_background": "light"
     },
     "output_type": "display_data"
    }
   ],
   "source": [
    "plt.bar(x=all_product,height=all_product_quantity)\n",
    "plt.xticks(all_product,rotation=90,size=10)\n",
    "plt.xlabel('Product')\n",
    "plt.ylabel('Quantity');"
   ]
  },
  {
   "cell_type": "code",
   "execution_count": 138,
   "id": "031895fd",
   "metadata": {},
   "outputs": [
    {
     "name": "stderr",
     "output_type": "stream",
     "text": [
      "<ipython-input-138-6f02e9bf7e12>:3: UserWarning: FixedFormatter should only be used together with FixedLocator\n",
      "  ax.set_xticklabels(all_product, rotation=90)\n"
     ]
    },
    {
     "data": {
      "text/plain": [
       "[Text(0.5, 0, 'Product'), Text(0, 0.5, 'Quantity')]"
      ]
     },
     "execution_count": 138,
     "metadata": {},
     "output_type": "execute_result"
    },
    {
     "data": {
      "image/png": "[encoded data removed]",
      "text/plain": [
       "<Figure size 432x288 with 1 Axes>"
      ]
     },
     "metadata": {
      "needs_background": "light"
     },
     "output_type": "display_data"
    }
   ],
   "source": [
    "fig, ax = plt.subplots()\n",
    "ax.bar(all_product,all_product_quantity)\n",
    "ax.set_xticklabels(all_product, rotation=90)\n",
    "ax.set(xlabel = 'Product',ylabel = 'Quantity')"
   ]
  },
  {
   "cell_type": "code",
   "execution_count": 132,
   "id": "152c6238",
   "metadata": {
    "scrolled": false
   },
   "outputs": [
    {
     "name": "stdout",
     "output_type": "stream",
     "text": [
      "Product\n",
      "20in Monitor                   109.989998\n",
      "27in 4K Gaming Monitor         389.989990\n",
      "27in FHD Monitor               149.990005\n",
      "34in Ultrawide Monitor         379.989990\n",
      "AA Batteries (4-pack)            3.840000\n",
      "AAA Batteries (4-pack)           2.990000\n",
      "Apple Airpods Headphones       150.000000\n",
      "Bose SoundSport Headphones      99.989998\n",
      "Flatscreen TV                  300.000000\n",
      "Google Phone                   600.000000\n",
      "LG Dryer                       600.000000\n",
      "LG Washing Machine             600.000000\n",
      "Lightning Charging Cable        14.950000\n",
      "Macbook Pro Laptop            1700.000000\n",
      "ThinkPad Laptop                999.989990\n",
      "USB-C Charging Cable            11.950000\n",
      "Vareebadd Phone                400.000000\n",
      "Wired Headphones                11.990000\n",
      "iPhone                         700.000000\n",
      "Name: Price Each, dtype: float32\n"
     ]
    }
   ],
   "source": [
    "price_each = df_12month.groupby('Product').mean()['Price Each']\n",
    "print(price_each)"
   ]
  },
  {
   "cell_type": "markdown",
   "id": "af14674e",
   "metadata": {},
   "source": [
    "## Draw multiple diagram"
   ]
  },
  {
   "cell_type": "code",
   "execution_count": 149,
   "id": "355301ad",
   "metadata": {},
   "outputs": [
    {
     "name": "stderr",
     "output_type": "stream",
     "text": [
      "<ipython-input-149-837f50cead17>:3: UserWarning: FixedFormatter should only be used together with FixedLocator\n",
      "  ax.set_xticklabels(all_product, rotation=90)\n"
     ]
    },
    {
     "data": {
      "text/plain": [
       "[<matplotlib.lines.Line2D at 0x7fef05df5cd0>]"
      ]
     },
     "execution_count": 149,
     "metadata": {},
     "output_type": "execute_result"
    },
    {
     "data": {
      "image/png": "[encoded data removed]",
      "text/plain": [
       "<Figure size 432x288 with 2 Axes>"
      ]
     },
     "metadata": {
      "needs_background": "light"
     },
     "output_type": "display_data"
    }
   ],
   "source": [
    "fig, ax = plt.subplots()\n",
    "ax.bar(all_product,all_product_quantity, color='r')\n",
    "ax.set_xticklabels(all_product, rotation=90)\n",
    "ax.set(xlabel = 'Product',ylabel = 'Quantity')\n",
    "\n",
    "#Use different scale in 1 subplot\n",
    "#Same x==> no need twiny()\n",
    "#ax1 = ax.twinx().twiny()\n",
    "ax1 = ax.twinx()\n",
    "ax1.set(ylabel = 'Price')\n",
    "ax1.plot(all_product,price_each, c='g')"
   ]
  },
  {
   "cell_type": "markdown",
   "id": "8a9c4615",
   "metadata": {},
   "source": [
    "## ==> AAA Batteries (4-pack) & AA Batteries (4-pack) sold the most"
   ]
  },
  {
   "cell_type": "markdown",
   "id": "c34b89ae",
   "metadata": {},
   "source": [
    "## Because their prices are the lowest, they are bought the most"
   ]
  }
 ],
 "metadata": {
  "kernelspec": {
   "display_name": "Python 3",
   "language": "python",
   "name": "python3"
  },
  "language_info": {
   "codemirror_mode": {
    "name": "ipython",
    "version": 3
   },
   "file_extension": ".py",
   "mimetype": "text/x-python",
   "name": "python",
   "nbconvert_exporter": "python",
   "pygments_lexer": "ipython3",
   "version": "3.8.8"
  }
 },
 "nbformat": 4,
 "nbformat_minor": 5
}
